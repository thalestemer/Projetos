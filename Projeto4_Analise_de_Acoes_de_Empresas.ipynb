{
 "cells": [
  {
   "cell_type": "markdown",
   "id": "b01fe386",
   "metadata": {
    "id": "b01fe386"
   },
   "source": [
    "# Projeto 4 - Análise de Ações de Empresas"
   ]
  },
  {
   "cell_type": "markdown",
   "id": "2sg30WyoNxj9",
   "metadata": {
    "id": "2sg30WyoNxj9"
   },
   "source": [
    "# Nova seção"
   ]
  },
  {
   "cell_type": "markdown",
   "id": "3ae0cdb0",
   "metadata": {
    "id": "3ae0cdb0"
   },
   "source": [
    "O conjunto de dados lista preços históricos de ações para algumas empresas encontradas no índice S&P500.\n",
    "\n",
    "Objetivo: Analisar os dados e responder as perguntas abaixo utilizando linguagem Python.\n",
    "\n",
    "Fonte do dataset: https://www.kaggle.com/datasets/rohitjain454/all-stocks-5yr"
   ]
  },
  {
   "cell_type": "code",
   "execution_count": 1,
   "id": "f3e1f123",
   "metadata": {
    "colab": {
     "base_uri": "https://localhost:8080/"
    },
    "id": "f3e1f123",
    "outputId": "fc6e5a5a-5e7b-44a4-f3c8-612b1798fc79"
   },
   "outputs": [
    {
     "name": "stdout",
     "output_type": "stream",
     "text": [
      "Versão python utilizada neste projeto:  3.9.13\n"
     ]
    }
   ],
   "source": [
    "#Versão da Linguagem Python\n",
    "from platform import python_version\n",
    "print(\"Versão python utilizada neste projeto: \", python_version())"
   ]
  },
  {
   "cell_type": "code",
   "execution_count": 2,
   "id": "8f264289",
   "metadata": {
    "colab": {
     "base_uri": "https://localhost:8080/"
    },
    "id": "8f264289",
    "outputId": "052c96aa-ee31-49d2-d054-4374a5d5273b"
   },
   "outputs": [],
   "source": [
    "#Instala o pacote watermark. \n",
    "!pip install -q -U watermark"
   ]
  },
  {
   "cell_type": "code",
   "execution_count": 3,
   "id": "ed5bf689",
   "metadata": {
    "id": "ed5bf689"
   },
   "outputs": [],
   "source": [
    "# Imports\n",
    "import numpy as np\n",
    "import pandas as pd\n",
    "import matplotlib.pyplot as plt\n",
    "import seaborn as sns\n",
    "import datetime as dt\n",
    "import warnings\n",
    "warnings.filterwarnings(\"ignore\")"
   ]
  },
  {
   "cell_type": "code",
   "execution_count": 4,
   "id": "ec0ec76e",
   "metadata": {
    "id": "ec0ec76e"
   },
   "outputs": [],
   "source": [
    "# Parâmetros de configuração dos gráficos\n",
    "from matplotlib import rcParams\n",
    "\n",
    "rcParams['figure.figsize'] = 12, 4\n",
    "rcParams['lines.linewidth'] = 3\n",
    "rcParams['xtick.labelsize'] = 'x-large'\n",
    "rcParams['ytick.labelsize'] = 'x-large'"
   ]
  },
  {
   "cell_type": "code",
   "execution_count": 5,
   "id": "711024f2",
   "metadata": {
    "colab": {
     "base_uri": "https://localhost:8080/"
    },
    "id": "711024f2",
    "outputId": "80fc8415-dda7-461a-e3fc-92bd38bbc4d5"
   },
   "outputs": [
    {
     "name": "stdout",
     "output_type": "stream",
     "text": [
      "numpy     : 1.21.5\n",
      "pandas    : 1.4.4\n",
      "seaborn   : 0.11.2\n",
      "matplotlib: 3.5.2\n",
      "\n"
     ]
    }
   ],
   "source": [
    "# Versões dos pacotes usados neste jupyter notebook\n",
    "%reload_ext watermark\n",
    "%watermark --iversions"
   ]
  },
  {
   "cell_type": "markdown",
   "id": "80ec26ec",
   "metadata": {
    "id": "80ec26ec"
   },
   "source": [
    "Carregando o Dataset"
   ]
  },
  {
   "cell_type": "code",
   "execution_count": 6,
   "id": "01cf60e0",
   "metadata": {
    "id": "01cf60e0"
   },
   "outputs": [],
   "source": [
    "#Carregando o  dataset\n",
    "df = pd.read_csv('all_stocks_5yr.csv')"
   ]
  },
  {
   "cell_type": "code",
   "execution_count": 7,
   "id": "d4e5b08e",
   "metadata": {
    "colab": {
     "base_uri": "https://localhost:8080/"
    },
    "id": "d4e5b08e",
    "outputId": "74834777-f4ce-46a2-c649-aa8eccc20cc0"
   },
   "outputs": [
    {
     "data": {
      "text/plain": [
       "pandas.core.frame.DataFrame"
      ]
     },
     "execution_count": 7,
     "metadata": {},
     "output_type": "execute_result"
    }
   ],
   "source": [
    "# Verificando o tipo do objeto\n",
    "type(df)"
   ]
  },
  {
   "cell_type": "code",
   "execution_count": 8,
   "id": "dc4a2380",
   "metadata": {
    "colab": {
     "base_uri": "https://localhost:8080/"
    },
    "id": "dc4a2380",
    "outputId": "8f58d461-963c-4c5a-c42d-d5e85f2d7c0c"
   },
   "outputs": [
    {
     "data": {
      "text/plain": [
       "(619040, 7)"
      ]
     },
     "execution_count": 8,
     "metadata": {},
     "output_type": "execute_result"
    }
   ],
   "source": [
    "#Verificando quantas linhas e colunas tem o dataset\n",
    "df.shape"
   ]
  },
  {
   "cell_type": "code",
   "execution_count": 9,
   "id": "97ae0b5e",
   "metadata": {
    "colab": {
     "base_uri": "https://localhost:8080/"
    },
    "id": "97ae0b5e",
    "outputId": "f552daa4-1697-4b57-b706-7b53a90bf37b"
   },
   "outputs": [
    {
     "data": {
      "text/plain": [
       "4333280"
      ]
     },
     "execution_count": 9,
     "metadata": {},
     "output_type": "execute_result"
    }
   ],
   "source": [
    "#Total de registros considerando cada coluna\n",
    "df.size"
   ]
  },
  {
   "cell_type": "code",
   "execution_count": 10,
   "id": "4152a482",
   "metadata": {
    "colab": {
     "base_uri": "https://localhost:8080/"
    },
    "id": "4152a482",
    "outputId": "b4898ee1-2cd4-4ff1-b820-6291c99f8be2"
   },
   "outputs": [
    {
     "name": "stdout",
     "output_type": "stream",
     "text": [
      "<class 'pandas.core.frame.DataFrame'>\n",
      "RangeIndex: 619040 entries, 0 to 619039\n",
      "Data columns (total 7 columns):\n",
      " #   Column  Non-Null Count   Dtype  \n",
      "---  ------  --------------   -----  \n",
      " 0   date    619040 non-null  object \n",
      " 1   open    619029 non-null  float64\n",
      " 2   high    619032 non-null  float64\n",
      " 3   low     619032 non-null  float64\n",
      " 4   close   619040 non-null  float64\n",
      " 5   volume  619040 non-null  int64  \n",
      " 6   Name    619040 non-null  object \n",
      "dtypes: float64(4), int64(1), object(2)\n",
      "memory usage: 33.1+ MB\n"
     ]
    }
   ],
   "source": [
    "#Verifica os tipos de dados\n",
    "df.info()"
   ]
  },
  {
   "cell_type": "code",
   "execution_count": 11,
   "id": "bf1d494f",
   "metadata": {
    "colab": {
     "base_uri": "https://localhost:8080/",
     "height": 206
    },
    "id": "bf1d494f",
    "outputId": "1ab1b583-34d6-4152-8f0e-56ce04896b40"
   },
   "outputs": [
    {
     "data": {
      "text/html": [
       "<div>\n",
       "<style scoped>\n",
       "    .dataframe tbody tr th:only-of-type {\n",
       "        vertical-align: middle;\n",
       "    }\n",
       "\n",
       "    .dataframe tbody tr th {\n",
       "        vertical-align: top;\n",
       "    }\n",
       "\n",
       "    .dataframe thead th {\n",
       "        text-align: right;\n",
       "    }\n",
       "</style>\n",
       "<table border=\"1\" class=\"dataframe\">\n",
       "  <thead>\n",
       "    <tr style=\"text-align: right;\">\n",
       "      <th></th>\n",
       "      <th>date</th>\n",
       "      <th>open</th>\n",
       "      <th>high</th>\n",
       "      <th>low</th>\n",
       "      <th>close</th>\n",
       "      <th>volume</th>\n",
       "      <th>Name</th>\n",
       "    </tr>\n",
       "  </thead>\n",
       "  <tbody>\n",
       "    <tr>\n",
       "      <th>0</th>\n",
       "      <td>2013-02-08</td>\n",
       "      <td>15.07</td>\n",
       "      <td>15.12</td>\n",
       "      <td>14.63</td>\n",
       "      <td>14.75</td>\n",
       "      <td>8407500</td>\n",
       "      <td>AAL</td>\n",
       "    </tr>\n",
       "    <tr>\n",
       "      <th>1</th>\n",
       "      <td>2013-02-11</td>\n",
       "      <td>14.89</td>\n",
       "      <td>15.01</td>\n",
       "      <td>14.26</td>\n",
       "      <td>14.46</td>\n",
       "      <td>8882000</td>\n",
       "      <td>AAL</td>\n",
       "    </tr>\n",
       "    <tr>\n",
       "      <th>2</th>\n",
       "      <td>2013-02-12</td>\n",
       "      <td>14.45</td>\n",
       "      <td>14.51</td>\n",
       "      <td>14.10</td>\n",
       "      <td>14.27</td>\n",
       "      <td>8126000</td>\n",
       "      <td>AAL</td>\n",
       "    </tr>\n",
       "    <tr>\n",
       "      <th>3</th>\n",
       "      <td>2013-02-13</td>\n",
       "      <td>14.30</td>\n",
       "      <td>14.94</td>\n",
       "      <td>14.25</td>\n",
       "      <td>14.66</td>\n",
       "      <td>10259500</td>\n",
       "      <td>AAL</td>\n",
       "    </tr>\n",
       "    <tr>\n",
       "      <th>4</th>\n",
       "      <td>2013-02-14</td>\n",
       "      <td>14.94</td>\n",
       "      <td>14.96</td>\n",
       "      <td>13.16</td>\n",
       "      <td>13.99</td>\n",
       "      <td>31879900</td>\n",
       "      <td>AAL</td>\n",
       "    </tr>\n",
       "  </tbody>\n",
       "</table>\n",
       "</div>"
      ],
      "text/plain": [
       "         date   open   high    low  close    volume Name\n",
       "0  2013-02-08  15.07  15.12  14.63  14.75   8407500  AAL\n",
       "1  2013-02-11  14.89  15.01  14.26  14.46   8882000  AAL\n",
       "2  2013-02-12  14.45  14.51  14.10  14.27   8126000  AAL\n",
       "3  2013-02-13  14.30  14.94  14.25  14.66  10259500  AAL\n",
       "4  2013-02-14  14.94  14.96  13.16  13.99  31879900  AAL"
      ]
     },
     "execution_count": 11,
     "metadata": {},
     "output_type": "execute_result"
    }
   ],
   "source": [
    "#Amostra das 5 primeiras linhas\n",
    "df.head(5)"
   ]
  },
  {
   "cell_type": "code",
   "execution_count": 12,
   "id": "YVQJL6hEV6t0",
   "metadata": {
    "colab": {
     "base_uri": "https://localhost:8080/",
     "height": 206
    },
    "id": "YVQJL6hEV6t0",
    "outputId": "291cf034-094c-4919-d036-30af67b9e4ab"
   },
   "outputs": [
    {
     "data": {
      "text/html": [
       "<div>\n",
       "<style scoped>\n",
       "    .dataframe tbody tr th:only-of-type {\n",
       "        vertical-align: middle;\n",
       "    }\n",
       "\n",
       "    .dataframe tbody tr th {\n",
       "        vertical-align: top;\n",
       "    }\n",
       "\n",
       "    .dataframe thead th {\n",
       "        text-align: right;\n",
       "    }\n",
       "</style>\n",
       "<table border=\"1\" class=\"dataframe\">\n",
       "  <thead>\n",
       "    <tr style=\"text-align: right;\">\n",
       "      <th></th>\n",
       "      <th>date</th>\n",
       "      <th>open</th>\n",
       "      <th>high</th>\n",
       "      <th>low</th>\n",
       "      <th>close</th>\n",
       "      <th>volume</th>\n",
       "      <th>Name</th>\n",
       "    </tr>\n",
       "  </thead>\n",
       "  <tbody>\n",
       "    <tr>\n",
       "      <th>619035</th>\n",
       "      <td>2018-02-01</td>\n",
       "      <td>76.84</td>\n",
       "      <td>78.27</td>\n",
       "      <td>76.69</td>\n",
       "      <td>77.82</td>\n",
       "      <td>2982259</td>\n",
       "      <td>ZTS</td>\n",
       "    </tr>\n",
       "    <tr>\n",
       "      <th>619036</th>\n",
       "      <td>2018-02-02</td>\n",
       "      <td>77.53</td>\n",
       "      <td>78.12</td>\n",
       "      <td>76.73</td>\n",
       "      <td>76.78</td>\n",
       "      <td>2595187</td>\n",
       "      <td>ZTS</td>\n",
       "    </tr>\n",
       "    <tr>\n",
       "      <th>619037</th>\n",
       "      <td>2018-02-05</td>\n",
       "      <td>76.64</td>\n",
       "      <td>76.92</td>\n",
       "      <td>73.18</td>\n",
       "      <td>73.83</td>\n",
       "      <td>2962031</td>\n",
       "      <td>ZTS</td>\n",
       "    </tr>\n",
       "    <tr>\n",
       "      <th>619038</th>\n",
       "      <td>2018-02-06</td>\n",
       "      <td>72.74</td>\n",
       "      <td>74.56</td>\n",
       "      <td>72.13</td>\n",
       "      <td>73.27</td>\n",
       "      <td>4924323</td>\n",
       "      <td>ZTS</td>\n",
       "    </tr>\n",
       "    <tr>\n",
       "      <th>619039</th>\n",
       "      <td>2018-02-07</td>\n",
       "      <td>72.70</td>\n",
       "      <td>75.00</td>\n",
       "      <td>72.69</td>\n",
       "      <td>73.86</td>\n",
       "      <td>4534912</td>\n",
       "      <td>ZTS</td>\n",
       "    </tr>\n",
       "  </tbody>\n",
       "</table>\n",
       "</div>"
      ],
      "text/plain": [
       "              date   open   high    low  close   volume Name\n",
       "619035  2018-02-01  76.84  78.27  76.69  77.82  2982259  ZTS\n",
       "619036  2018-02-02  77.53  78.12  76.73  76.78  2595187  ZTS\n",
       "619037  2018-02-05  76.64  76.92  73.18  73.83  2962031  ZTS\n",
       "619038  2018-02-06  72.74  74.56  72.13  73.27  4924323  ZTS\n",
       "619039  2018-02-07  72.70  75.00  72.69  73.86  4534912  ZTS"
      ]
     },
     "execution_count": 12,
     "metadata": {},
     "output_type": "execute_result"
    }
   ],
   "source": [
    "#Amostra das 5 últimas linhas\n",
    "df.tail()"
   ]
  },
  {
   "cell_type": "markdown",
   "id": "47b0dac0",
   "metadata": {
    "id": "47b0dac0"
   },
   "source": [
    "Data - no formato: aa-mm-dd\n",
    "Aberto - preço das ações no mercado aberto (estes são os dados da NYSE, então tudo em USD)\n",
    "Alta - Maior preço alcançado no dia\n",
    "Fechamento Baixo - Menor preço alcançado no dia\n",
    "Volume - Número de ações negociadas\n",
    "Nome - o nome do ticker da ação"
   ]
  },
  {
   "cell_type": "code",
   "execution_count": 13,
   "id": "d2fac243",
   "metadata": {
    "colab": {
     "base_uri": "https://localhost:8080/"
    },
    "id": "d2fac243",
    "outputId": "7b5348f1-d833-41b2-f08b-6bbc6c6975c3"
   },
   "outputs": [
    {
     "data": {
      "text/plain": [
       "Index(['date', 'open', 'high', 'low', 'close', 'volume', 'Name'], dtype='object')"
      ]
     },
     "execution_count": 13,
     "metadata": {},
     "output_type": "execute_result"
    }
   ],
   "source": [
    "#Colunas dos conjunto de dados\n",
    "df.columns"
   ]
  },
  {
   "cell_type": "code",
   "execution_count": 14,
   "id": "11813539",
   "metadata": {
    "colab": {
     "base_uri": "https://localhost:8080/"
    },
    "id": "11813539",
    "outputId": "32ee34d6-e8c9-49f6-8ab8-d14116265b10"
   },
   "outputs": [
    {
     "data": {
      "text/plain": [
       "float64    4\n",
       "object     2\n",
       "int64      1\n",
       "dtype: int64"
      ]
     },
     "execution_count": 14,
     "metadata": {},
     "output_type": "execute_result"
    }
   ],
   "source": [
    "#Método value_counts() para cada tipo de dado\n",
    "df.dtypes.value_counts()"
   ]
  },
  {
   "cell_type": "code",
   "execution_count": 15,
   "id": "a85924c6",
   "metadata": {
    "id": "a85924c6"
   },
   "outputs": [],
   "source": [
    "#Convertendo a coluna date para tipo datetime\n",
    "df['date'] = pd.to_datetime(df['date'], dayfirst = True)"
   ]
  },
  {
   "cell_type": "code",
   "execution_count": 16,
   "id": "dbf84a8e",
   "metadata": {
    "colab": {
     "base_uri": "https://localhost:8080/"
    },
    "id": "dbf84a8e",
    "outputId": "f3a9e7ea-16fd-4d33-8641-6d7b37d72ff8"
   },
   "outputs": [
    {
     "data": {
      "text/plain": [
       "date      datetime64[ns]\n",
       "open             float64\n",
       "high             float64\n",
       "low              float64\n",
       "close            float64\n",
       "volume             int64\n",
       "Name              object\n",
       "dtype: object"
      ]
     },
     "execution_count": 16,
     "metadata": {},
     "output_type": "execute_result"
    }
   ],
   "source": [
    "#Verificando o tipo de dado de cada coluna\n",
    "df.dtypes"
   ]
  },
  {
   "cell_type": "code",
   "execution_count": 17,
   "id": "f4c9df2e",
   "metadata": {
    "id": "f4c9df2e"
   },
   "outputs": [],
   "source": [
    "#Extraindo o mês criando uma nova variável\n",
    "df['mes'] = df['date'].dt.month"
   ]
  },
  {
   "cell_type": "code",
   "execution_count": 18,
   "id": "438a0b33",
   "metadata": {
    "id": "438a0b33"
   },
   "outputs": [],
   "source": [
    "#Extraindo o ano criando uma nova variável\n",
    "df['ano'] = df['date'].dt.year"
   ]
  },
  {
   "cell_type": "code",
   "execution_count": 19,
   "id": "b8b0b9e6",
   "metadata": {
    "id": "b8b0b9e6"
   },
   "outputs": [],
   "source": [
    "#Extraindo o dia criando uma nova variável\n",
    "df['dia'] = df['date'].dt.day"
   ]
  },
  {
   "cell_type": "code",
   "execution_count": 20,
   "id": "1143d56b",
   "metadata": {
    "colab": {
     "base_uri": "https://localhost:8080/"
    },
    "id": "1143d56b",
    "outputId": "efc1e5f8-869a-4a83-c8fc-dee1f03d4710"
   },
   "outputs": [
    {
     "data": {
      "text/plain": [
       "(619040, 10)"
      ]
     },
     "execution_count": 20,
     "metadata": {},
     "output_type": "execute_result"
    }
   ],
   "source": [
    "#Verificando quantas linhas e colunas tem o dataset após a criação das duas novas variáveis\n",
    "df.shape"
   ]
  },
  {
   "cell_type": "code",
   "execution_count": 21,
   "id": "775c2f0d",
   "metadata": {
    "colab": {
     "base_uri": "https://localhost:8080/",
     "height": 206
    },
    "id": "775c2f0d",
    "outputId": "02546aaf-5acb-498d-bc75-28d47ee5a67f"
   },
   "outputs": [
    {
     "data": {
      "text/html": [
       "<div>\n",
       "<style scoped>\n",
       "    .dataframe tbody tr th:only-of-type {\n",
       "        vertical-align: middle;\n",
       "    }\n",
       "\n",
       "    .dataframe tbody tr th {\n",
       "        vertical-align: top;\n",
       "    }\n",
       "\n",
       "    .dataframe thead th {\n",
       "        text-align: right;\n",
       "    }\n",
       "</style>\n",
       "<table border=\"1\" class=\"dataframe\">\n",
       "  <thead>\n",
       "    <tr style=\"text-align: right;\">\n",
       "      <th></th>\n",
       "      <th>date</th>\n",
       "      <th>open</th>\n",
       "      <th>high</th>\n",
       "      <th>low</th>\n",
       "      <th>close</th>\n",
       "      <th>volume</th>\n",
       "      <th>Name</th>\n",
       "      <th>mes</th>\n",
       "      <th>ano</th>\n",
       "      <th>dia</th>\n",
       "    </tr>\n",
       "  </thead>\n",
       "  <tbody>\n",
       "    <tr>\n",
       "      <th>0</th>\n",
       "      <td>2013-02-08</td>\n",
       "      <td>15.07</td>\n",
       "      <td>15.12</td>\n",
       "      <td>14.63</td>\n",
       "      <td>14.75</td>\n",
       "      <td>8407500</td>\n",
       "      <td>AAL</td>\n",
       "      <td>2</td>\n",
       "      <td>2013</td>\n",
       "      <td>8</td>\n",
       "    </tr>\n",
       "    <tr>\n",
       "      <th>1</th>\n",
       "      <td>2013-02-11</td>\n",
       "      <td>14.89</td>\n",
       "      <td>15.01</td>\n",
       "      <td>14.26</td>\n",
       "      <td>14.46</td>\n",
       "      <td>8882000</td>\n",
       "      <td>AAL</td>\n",
       "      <td>2</td>\n",
       "      <td>2013</td>\n",
       "      <td>11</td>\n",
       "    </tr>\n",
       "    <tr>\n",
       "      <th>2</th>\n",
       "      <td>2013-02-12</td>\n",
       "      <td>14.45</td>\n",
       "      <td>14.51</td>\n",
       "      <td>14.10</td>\n",
       "      <td>14.27</td>\n",
       "      <td>8126000</td>\n",
       "      <td>AAL</td>\n",
       "      <td>2</td>\n",
       "      <td>2013</td>\n",
       "      <td>12</td>\n",
       "    </tr>\n",
       "    <tr>\n",
       "      <th>3</th>\n",
       "      <td>2013-02-13</td>\n",
       "      <td>14.30</td>\n",
       "      <td>14.94</td>\n",
       "      <td>14.25</td>\n",
       "      <td>14.66</td>\n",
       "      <td>10259500</td>\n",
       "      <td>AAL</td>\n",
       "      <td>2</td>\n",
       "      <td>2013</td>\n",
       "      <td>13</td>\n",
       "    </tr>\n",
       "    <tr>\n",
       "      <th>4</th>\n",
       "      <td>2013-02-14</td>\n",
       "      <td>14.94</td>\n",
       "      <td>14.96</td>\n",
       "      <td>13.16</td>\n",
       "      <td>13.99</td>\n",
       "      <td>31879900</td>\n",
       "      <td>AAL</td>\n",
       "      <td>2</td>\n",
       "      <td>2013</td>\n",
       "      <td>14</td>\n",
       "    </tr>\n",
       "  </tbody>\n",
       "</table>\n",
       "</div>"
      ],
      "text/plain": [
       "        date   open   high    low  close    volume Name  mes   ano  dia\n",
       "0 2013-02-08  15.07  15.12  14.63  14.75   8407500  AAL    2  2013    8\n",
       "1 2013-02-11  14.89  15.01  14.26  14.46   8882000  AAL    2  2013   11\n",
       "2 2013-02-12  14.45  14.51  14.10  14.27   8126000  AAL    2  2013   12\n",
       "3 2013-02-13  14.30  14.94  14.25  14.66  10259500  AAL    2  2013   13\n",
       "4 2013-02-14  14.94  14.96  13.16  13.99  31879900  AAL    2  2013   14"
      ]
     },
     "execution_count": 21,
     "metadata": {},
     "output_type": "execute_result"
    }
   ],
   "source": [
    "#Verificando as colunas criadas\n",
    "df.head()"
   ]
  },
  {
   "cell_type": "code",
   "execution_count": 22,
   "id": "b1eef9fa",
   "metadata": {
    "colab": {
     "base_uri": "https://localhost:8080/"
    },
    "id": "b1eef9fa",
    "outputId": "a026b946-ead2-4a9b-d089-0428f554c714"
   },
   "outputs": [
    {
     "data": {
      "text/plain": [
       "0         False\n",
       "1         False\n",
       "2         False\n",
       "3         False\n",
       "4         False\n",
       "          ...  \n",
       "619035    False\n",
       "619036    False\n",
       "619037    False\n",
       "619038    False\n",
       "619039    False\n",
       "Length: 619040, dtype: bool"
      ]
     },
     "execution_count": 22,
     "metadata": {},
     "output_type": "execute_result"
    }
   ],
   "source": [
    "#Verificando se há registros duplicados\n",
    "df.duplicated()"
   ]
  },
  {
   "cell_type": "code",
   "execution_count": 23,
   "id": "7de0a669",
   "metadata": {
    "colab": {
     "base_uri": "https://localhost:8080/"
    },
    "id": "7de0a669",
    "outputId": "1392ddb6-3c59-42b1-c46b-2ead4eb0d690"
   },
   "outputs": [
    {
     "data": {
      "text/plain": [
       "date       0\n",
       "open      11\n",
       "high       8\n",
       "low        8\n",
       "close      0\n",
       "volume     0\n",
       "Name       0\n",
       "mes        0\n",
       "ano        0\n",
       "dia        0\n",
       "dtype: int64"
      ]
     },
     "execution_count": 23,
     "metadata": {},
     "output_type": "execute_result"
    }
   ],
   "source": [
    "#Verificando se há valores ausentes\n",
    "df.isnull().sum()"
   ]
  },
  {
   "cell_type": "code",
   "execution_count": 24,
   "id": "89bee5e4",
   "metadata": {
    "id": "89bee5e4"
   },
   "outputs": [],
   "source": [
    "#Substituindo os valores ausentes por NAN (not an number)\n",
    "df['open'].replace('', np.nan, inplace=True)\n",
    "df['high'].replace('', np.nan, inplace=True)\n",
    "df['low'].replace('', np.nan, inplace=True)"
   ]
  },
  {
   "cell_type": "code",
   "execution_count": 25,
   "id": "0e3d0d06",
   "metadata": {
    "colab": {
     "base_uri": "https://localhost:8080/"
    },
    "id": "0e3d0d06",
    "outputId": "f9c83113-000f-4679-a087-5dda993b681a"
   },
   "outputs": [
    {
     "data": {
      "text/plain": [
       "date       0\n",
       "open      11\n",
       "high       8\n",
       "low        8\n",
       "close      0\n",
       "volume     0\n",
       "Name       0\n",
       "mes        0\n",
       "ano        0\n",
       "dia        0\n",
       "dtype: int64"
      ]
     },
     "execution_count": 25,
     "metadata": {},
     "output_type": "execute_result"
    }
   ],
   "source": [
    "#Verificando valores NA\n",
    "df.isna().sum()"
   ]
  },
  {
   "cell_type": "code",
   "execution_count": 26,
   "id": "63f01775",
   "metadata": {
    "id": "63f01775"
   },
   "outputs": [],
   "source": [
    "#Excluindo as linhas que possuem valores NA da coluna 'low'\n",
    "df.dropna(subset=['low'], inplace=True)"
   ]
  },
  {
   "cell_type": "code",
   "execution_count": 27,
   "id": "14279141",
   "metadata": {
    "colab": {
     "base_uri": "https://localhost:8080/"
    },
    "id": "14279141",
    "outputId": "921adab2-6b4b-4921-f9dc-e4cee6f52020"
   },
   "outputs": [
    {
     "data": {
      "text/plain": [
       "date      0\n",
       "open      3\n",
       "high      0\n",
       "low       0\n",
       "close     0\n",
       "volume    0\n",
       "Name      0\n",
       "mes       0\n",
       "ano       0\n",
       "dia       0\n",
       "dtype: int64"
      ]
     },
     "execution_count": 27,
     "metadata": {},
     "output_type": "execute_result"
    }
   ],
   "source": [
    "#Verificando valores NA\n",
    "df.isna().sum()"
   ]
  },
  {
   "cell_type": "code",
   "execution_count": 28,
   "id": "a820508d",
   "metadata": {
    "colab": {
     "base_uri": "https://localhost:8080/"
    },
    "id": "a820508d",
    "outputId": "4f520d86-890b-43e2-b308-4f15f9689b6e"
   },
   "outputs": [
    {
     "name": "stdout",
     "output_type": "stream",
     "text": [
      "62.59\n"
     ]
    }
   ],
   "source": [
    "#Verificando a mediana da coluna 'open'\n",
    "df_mediana_open = df['open'].median()\n",
    "print(df_mediana_open)"
   ]
  },
  {
   "cell_type": "code",
   "execution_count": 29,
   "id": "1e5ebe04",
   "metadata": {
    "id": "1e5ebe04"
   },
   "outputs": [],
   "source": [
    "#Preenchendo os valores ausentes da coluna 'open' com a mediana\n",
    "df['open'].fillna(df_mediana_open, inplace=True)"
   ]
  },
  {
   "cell_type": "code",
   "execution_count": 30,
   "id": "e827f89d",
   "metadata": {
    "colab": {
     "base_uri": "https://localhost:8080/"
    },
    "id": "e827f89d",
    "outputId": "ad01e443-49d1-48c4-8bfc-2c2cc8f4a192"
   },
   "outputs": [
    {
     "data": {
      "text/plain": [
       "date      0\n",
       "open      0\n",
       "high      0\n",
       "low       0\n",
       "close     0\n",
       "volume    0\n",
       "Name      0\n",
       "mes       0\n",
       "ano       0\n",
       "dia       0\n",
       "dtype: int64"
      ]
     },
     "execution_count": 30,
     "metadata": {},
     "output_type": "execute_result"
    }
   ],
   "source": [
    "#Verificando valores NA\n",
    "df.isna().sum()"
   ]
  },
  {
   "cell_type": "code",
   "execution_count": 31,
   "id": "3b14b65c",
   "metadata": {
    "colab": {
     "base_uri": "https://localhost:8080/"
    },
    "id": "3b14b65c",
    "outputId": "b02d4aea-0483-4c0e-8163-af0cfc9e05bc"
   },
   "outputs": [
    {
     "data": {
      "text/plain": [
       "date      0\n",
       "open      0\n",
       "high      0\n",
       "low       0\n",
       "close     0\n",
       "volume    0\n",
       "Name      0\n",
       "mes       0\n",
       "ano       0\n",
       "dia       0\n",
       "dtype: int64"
      ]
     },
     "execution_count": 31,
     "metadata": {},
     "output_type": "execute_result"
    }
   ],
   "source": [
    "#Verificando se há valores ausentes\n",
    "df.isnull().sum()"
   ]
  },
  {
   "cell_type": "code",
   "execution_count": 32,
   "id": "7b08454f",
   "metadata": {
    "colab": {
     "base_uri": "https://localhost:8080/"
    },
    "id": "7b08454f",
    "outputId": "3ae0c364-2a4f-4f78-9de1-967fadc5c3f0"
   },
   "outputs": [
    {
     "data": {
      "text/plain": [
       "(619032, 10)"
      ]
     },
     "execution_count": 32,
     "metadata": {},
     "output_type": "execute_result"
    }
   ],
   "source": [
    "#Verificando quantas linhas e colunas tem o dataset\n",
    "df.shape"
   ]
  },
  {
   "cell_type": "code",
   "execution_count": 33,
   "id": "8277bda2",
   "metadata": {
    "colab": {
     "base_uri": "https://localhost:8080/",
     "height": 300
    },
    "id": "8277bda2",
    "outputId": "981db719-d03c-49bc-af13-5c458d5ba862"
   },
   "outputs": [
    {
     "data": {
      "text/html": [
       "<div>\n",
       "<style scoped>\n",
       "    .dataframe tbody tr th:only-of-type {\n",
       "        vertical-align: middle;\n",
       "    }\n",
       "\n",
       "    .dataframe tbody tr th {\n",
       "        vertical-align: top;\n",
       "    }\n",
       "\n",
       "    .dataframe thead th {\n",
       "        text-align: right;\n",
       "    }\n",
       "</style>\n",
       "<table border=\"1\" class=\"dataframe\">\n",
       "  <thead>\n",
       "    <tr style=\"text-align: right;\">\n",
       "      <th></th>\n",
       "      <th>open</th>\n",
       "      <th>high</th>\n",
       "      <th>low</th>\n",
       "      <th>close</th>\n",
       "      <th>volume</th>\n",
       "      <th>mes</th>\n",
       "      <th>ano</th>\n",
       "      <th>dia</th>\n",
       "    </tr>\n",
       "  </thead>\n",
       "  <tbody>\n",
       "    <tr>\n",
       "      <th>count</th>\n",
       "      <td>619032.000000</td>\n",
       "      <td>619032.000000</td>\n",
       "      <td>619032.000000</td>\n",
       "      <td>619032.000000</td>\n",
       "      <td>6.190320e+05</td>\n",
       "      <td>619032.000000</td>\n",
       "      <td>619032.000000</td>\n",
       "      <td>619032.000000</td>\n",
       "    </tr>\n",
       "    <tr>\n",
       "      <th>mean</th>\n",
       "      <td>83.023235</td>\n",
       "      <td>83.778311</td>\n",
       "      <td>82.256096</td>\n",
       "      <td>83.043199</td>\n",
       "      <td>4.321878e+06</td>\n",
       "      <td>6.556889</td>\n",
       "      <td>2015.125194</td>\n",
       "      <td>15.726891</td>\n",
       "    </tr>\n",
       "    <tr>\n",
       "      <th>std</th>\n",
       "      <td>97.378543</td>\n",
       "      <td>98.207519</td>\n",
       "      <td>96.507421</td>\n",
       "      <td>97.388698</td>\n",
       "      <td>8.693652e+06</td>\n",
       "      <td>3.427440</td>\n",
       "      <td>1.445843</td>\n",
       "      <td>8.745223</td>\n",
       "    </tr>\n",
       "    <tr>\n",
       "      <th>min</th>\n",
       "      <td>1.620000</td>\n",
       "      <td>1.690000</td>\n",
       "      <td>1.500000</td>\n",
       "      <td>1.590000</td>\n",
       "      <td>1.010000e+02</td>\n",
       "      <td>1.000000</td>\n",
       "      <td>2013.000000</td>\n",
       "      <td>1.000000</td>\n",
       "    </tr>\n",
       "    <tr>\n",
       "      <th>25%</th>\n",
       "      <td>40.220000</td>\n",
       "      <td>40.620000</td>\n",
       "      <td>39.830000</td>\n",
       "      <td>40.240800</td>\n",
       "      <td>1.070359e+06</td>\n",
       "      <td>4.000000</td>\n",
       "      <td>2014.000000</td>\n",
       "      <td>8.000000</td>\n",
       "    </tr>\n",
       "    <tr>\n",
       "      <th>50%</th>\n",
       "      <td>62.590000</td>\n",
       "      <td>63.150000</td>\n",
       "      <td>62.020000</td>\n",
       "      <td>62.620000</td>\n",
       "      <td>2.082143e+06</td>\n",
       "      <td>7.000000</td>\n",
       "      <td>2015.000000</td>\n",
       "      <td>16.000000</td>\n",
       "    </tr>\n",
       "    <tr>\n",
       "      <th>75%</th>\n",
       "      <td>94.370000</td>\n",
       "      <td>95.180000</td>\n",
       "      <td>93.540000</td>\n",
       "      <td>94.410000</td>\n",
       "      <td>4.284538e+06</td>\n",
       "      <td>10.000000</td>\n",
       "      <td>2016.000000</td>\n",
       "      <td>23.000000</td>\n",
       "    </tr>\n",
       "    <tr>\n",
       "      <th>max</th>\n",
       "      <td>2044.000000</td>\n",
       "      <td>2067.990000</td>\n",
       "      <td>2035.110000</td>\n",
       "      <td>2049.000000</td>\n",
       "      <td>6.182376e+08</td>\n",
       "      <td>12.000000</td>\n",
       "      <td>2018.000000</td>\n",
       "      <td>31.000000</td>\n",
       "    </tr>\n",
       "  </tbody>\n",
       "</table>\n",
       "</div>"
      ],
      "text/plain": [
       "                open           high            low          close  \\\n",
       "count  619032.000000  619032.000000  619032.000000  619032.000000   \n",
       "mean       83.023235      83.778311      82.256096      83.043199   \n",
       "std        97.378543      98.207519      96.507421      97.388698   \n",
       "min         1.620000       1.690000       1.500000       1.590000   \n",
       "25%        40.220000      40.620000      39.830000      40.240800   \n",
       "50%        62.590000      63.150000      62.020000      62.620000   \n",
       "75%        94.370000      95.180000      93.540000      94.410000   \n",
       "max      2044.000000    2067.990000    2035.110000    2049.000000   \n",
       "\n",
       "             volume            mes            ano            dia  \n",
       "count  6.190320e+05  619032.000000  619032.000000  619032.000000  \n",
       "mean   4.321878e+06       6.556889    2015.125194      15.726891  \n",
       "std    8.693652e+06       3.427440       1.445843       8.745223  \n",
       "min    1.010000e+02       1.000000    2013.000000       1.000000  \n",
       "25%    1.070359e+06       4.000000    2014.000000       8.000000  \n",
       "50%    2.082143e+06       7.000000    2015.000000      16.000000  \n",
       "75%    4.284538e+06      10.000000    2016.000000      23.000000  \n",
       "max    6.182376e+08      12.000000    2018.000000      31.000000  "
      ]
     },
     "execution_count": 33,
     "metadata": {},
     "output_type": "execute_result"
    }
   ],
   "source": [
    "#Descrevendo algumas estatísticas das colunas numéricas\n",
    "df.describe()"
   ]
  },
  {
   "cell_type": "markdown",
   "id": "c900282b",
   "metadata": {
    "id": "c900282b"
   },
   "source": [
    "Perguntas"
   ]
  },
  {
   "cell_type": "markdown",
   "id": "9e52609c",
   "metadata": {
    "id": "9e52609c"
   },
   "source": [
    "1- Quantas transações da apple (AAPL) tiveram?"
   ]
  },
  {
   "cell_type": "code",
   "execution_count": 34,
   "id": "ff2f76e7",
   "metadata": {
    "id": "ff2f76e7"
   },
   "outputs": [],
   "source": [
    "#Filtrando para a transação da apple\n",
    "df_apple = df[df['Name'] == 'AAPL']"
   ]
  },
  {
   "cell_type": "code",
   "execution_count": 35,
   "id": "b96c206e",
   "metadata": {
    "colab": {
     "base_uri": "https://localhost:8080/"
    },
    "id": "b96c206e",
    "outputId": "f43957fa-3f3d-48b6-f498-2cc239e59ad4"
   },
   "outputs": [
    {
     "name": "stdout",
     "output_type": "stream",
     "text": [
      "AAPL    1259\n",
      "Name: Name, dtype: int64\n"
     ]
    }
   ],
   "source": [
    "#Calculando a quantidade de transações da apple\n",
    "df1 = df_apple['Name'].value_counts()\n",
    "print(df1)"
   ]
  },
  {
   "cell_type": "markdown",
   "id": "04437483",
   "metadata": {
    "id": "04437483"
   },
   "source": [
    "2- Quantos nomes diferentes existem no dataset?"
   ]
  },
  {
   "cell_type": "code",
   "execution_count": 36,
   "id": "b159af68",
   "metadata": {
    "colab": {
     "base_uri": "https://localhost:8080/"
    },
    "id": "b159af68",
    "outputId": "d6aee041-10c3-4ac9-d8b8-8f516b9c97d9"
   },
   "outputs": [
    {
     "data": {
      "text/plain": [
       "array(['AAL', 'AAPL', 'AAP', 'ABBV', 'ABC', 'ABT', 'ACN', 'ADBE', 'ADI',\n",
       "       'ADM', 'ADP', 'ADSK', 'ADS', 'AEE', 'AEP', 'AES', 'AET', 'AFL',\n",
       "       'AGN', 'AIG', 'AIV', 'AIZ', 'AJG', 'AKAM', 'ALB', 'ALGN', 'ALK',\n",
       "       'ALLE', 'ALL', 'ALXN', 'AMAT', 'AMD', 'AME', 'AMGN', 'AMG', 'AMP',\n",
       "       'AMT', 'AMZN', 'ANDV', 'ANSS', 'ANTM', 'AON', 'AOS', 'APA', 'APC',\n",
       "       'APD', 'APH', 'APTV', 'ARE', 'ARNC', 'ATVI', 'AVB', 'AVGO', 'AVY',\n",
       "       'AWK', 'AXP', 'AYI', 'AZO', 'A', 'BAC', 'BAX', 'BA', 'BBT', 'BBY',\n",
       "       'BDX', 'BEN', 'BF.B', 'BHF', 'BHGE', 'BIIB', 'BK', 'BLK', 'BLL',\n",
       "       'BMY', 'BRK.B', 'BSX', 'BWA', 'BXP', 'CAG', 'CAH', 'CAT', 'CA',\n",
       "       'CBG', 'CBOE', 'CBS', 'CB', 'CCI', 'CCL', 'CDNS', 'CELG', 'CERN',\n",
       "       'CFG', 'CF', 'CHD', 'CHK', 'CHRW', 'CHTR', 'CINF', 'CI', 'CLX',\n",
       "       'CL', 'CMA', 'CMCSA', 'CME', 'CMG', 'CMI', 'CMS', 'CNC', 'CNP',\n",
       "       'COF', 'COG', 'COL', 'COO', 'COP', 'COST', 'COTY', 'CPB', 'CRM',\n",
       "       'CSCO', 'CSRA', 'CSX', 'CTAS', 'CTL', 'CTSH', 'CTXS', 'CVS', 'CVX',\n",
       "       'CXO', 'C', 'DAL', 'DE', 'DFS', 'DGX', 'DG', 'DHI', 'DHR', 'DISCA',\n",
       "       'DISCK', 'DISH', 'DIS', 'DLR', 'DLTR', 'DOV', 'DPS', 'DRE', 'DRI',\n",
       "       'DTE', 'DUK', 'DVA', 'DVN', 'DWDP', 'DXC', 'D', 'EA', 'EBAY',\n",
       "       'ECL', 'ED', 'EFX', 'EIX', 'EL', 'EMN', 'EMR', 'EOG', 'EQIX',\n",
       "       'EQR', 'EQT', 'ESRX', 'ESS', 'ES', 'ETFC', 'ETN', 'ETR', 'EVHC',\n",
       "       'EW', 'EXC', 'EXPD', 'EXPE', 'EXR', 'FAST', 'FBHS', 'FB', 'FCX',\n",
       "       'FDX', 'FE', 'FFIV', 'FISV', 'FIS', 'FITB', 'FLIR', 'FLR', 'FLS',\n",
       "       'FL', 'FMC', 'FOXA', 'FOX', 'FRT', 'FTI', 'FTV', 'F', 'GD', 'GE',\n",
       "       'GGP', 'GILD', 'GIS', 'GLW', 'GM', 'GOOGL', 'GOOG', 'GPC', 'GPN',\n",
       "       'GPS', 'GRMN', 'GS', 'GT', 'GWW', 'HAL', 'HAS', 'HBAN', 'HBI',\n",
       "       'HCA', 'HCN', 'HCP', 'HD', 'HES', 'HIG', 'HII', 'HLT', 'HOG',\n",
       "       'HOLX', 'HON', 'HPE', 'HPQ', 'HP', 'HRB', 'HRL', 'HRS', 'HSIC',\n",
       "       'HST', 'HSY', 'HUM', 'IBM', 'ICE', 'IDXX', 'IFF', 'ILMN', 'INCY',\n",
       "       'INFO', 'INTC', 'INTU', 'IPG', 'IP', 'IQV', 'IRM', 'IR', 'ISRG',\n",
       "       'ITW', 'IT', 'IVZ', 'JBHT', 'JCI', 'JEC', 'JNJ', 'JNPR', 'JPM',\n",
       "       'JWN', 'KEY', 'KHC', 'KIM', 'KLAC', 'KMB', 'KMI', 'KMX', 'KORS',\n",
       "       'KO', 'KR', 'KSS', 'KSU', 'K', 'LB', 'LEG', 'LEN', 'LH', 'LKQ',\n",
       "       'LLL', 'LLY', 'LMT', 'LNC', 'LNT', 'LOW', 'LRCX', 'LUK', 'LUV',\n",
       "       'LYB', 'L', 'MAA', 'MAC', 'MAR', 'MAS', 'MAT', 'MA', 'MCD', 'MCHP',\n",
       "       'MCK', 'MCO', 'MDLZ', 'MDT', 'MET', 'MGM', 'MHK', 'MKC', 'MLM',\n",
       "       'MMC', 'MMM', 'MNST', 'MON', 'MOS', 'MO', 'MPC', 'MRK', 'MRO',\n",
       "       'MSFT', 'MSI', 'MS', 'MTB', 'MTD', 'MU', 'MYL', 'M', 'NAVI', 'NBL',\n",
       "       'NCLH', 'NDAQ', 'NEE', 'NEM', 'NFLX', 'NFX', 'NI', 'NKE', 'NLSN',\n",
       "       'NOC', 'NOV', 'NRG', 'NSC', 'NTAP', 'NTRS', 'NUE', 'NVDA', 'NWL',\n",
       "       'NWSA', 'NWS', 'OKE', 'OMC', 'ORCL', 'ORLY', 'OXY', 'O', 'PAYX',\n",
       "       'PBCT', 'PCAR', 'PCG', 'PCLN', 'PDCO', 'PEG', 'PEP', 'PFE', 'PFG',\n",
       "       'PGR', 'PG', 'PHM', 'PH', 'PKG', 'PKI', 'PLD', 'PM', 'PNC', 'PNR',\n",
       "       'PNW', 'PPG', 'PPL', 'PRGO', 'PRU', 'PSA', 'PSX', 'PVH', 'PWR',\n",
       "       'PXD', 'PX', 'PYPL', 'QCOM', 'QRVO', 'RCL', 'REGN', 'REG', 'RE',\n",
       "       'RF', 'RHI', 'RHT', 'RJF', 'RL', 'RMD', 'ROK', 'ROP', 'ROST',\n",
       "       'RRC', 'RSG', 'RTN', 'SBAC', 'SBUX', 'SCG', 'SCHW', 'SEE', 'SHW',\n",
       "       'SIG', 'SJM', 'SLB', 'SLG', 'SNA', 'SNI', 'SNPS', 'SO', 'SPGI',\n",
       "       'SPG', 'SRCL', 'SRE', 'STI', 'STT', 'STX', 'STZ', 'SWKS', 'SWK',\n",
       "       'SYF', 'SYK', 'SYMC', 'SYY', 'TAP', 'TDG', 'TEL', 'TGT', 'TIF',\n",
       "       'TJX', 'TMK', 'TMO', 'TPR', 'TRIP', 'TROW', 'TRV', 'TSCO', 'TSN',\n",
       "       'TSS', 'TWX', 'TXN', 'TXT', 'T', 'UAA', 'UAL', 'UA', 'UDR', 'UHS',\n",
       "       'ULTA', 'UNH', 'UNM', 'UNP', 'UPS', 'URI', 'USB', 'UTX', 'VAR',\n",
       "       'VFC', 'VIAB', 'VLO', 'VMC', 'VNO', 'VRSK', 'VRSN', 'VRTX', 'VTR',\n",
       "       'VZ', 'V', 'WAT', 'WBA', 'WDC', 'WEC', 'WFC', 'WHR', 'WLTW', 'WMB',\n",
       "       'WMT', 'WM', 'WRK', 'WU', 'WYNN', 'WYN', 'WY', 'XEC', 'XEL',\n",
       "       'XLNX', 'XL', 'XOM', 'XRAY', 'XRX', 'XYL', 'YUM', 'ZBH', 'ZION',\n",
       "       'ZTS'], dtype=object)"
      ]
     },
     "execution_count": 36,
     "metadata": {},
     "output_type": "execute_result"
    }
   ],
   "source": [
    "#Verificando os nomes únicos no conjunto de dados\n",
    "df['Name'].unique()"
   ]
  },
  {
   "cell_type": "code",
   "execution_count": 37,
   "id": "b3d94f88",
   "metadata": {
    "colab": {
     "base_uri": "https://localhost:8080/"
    },
    "id": "b3d94f88",
    "outputId": "58a53467-45f2-409f-978c-0e7a56bb489c"
   },
   "outputs": [
    {
     "data": {
      "text/plain": [
       "505"
      ]
     },
     "execution_count": 37,
     "metadata": {},
     "output_type": "execute_result"
    }
   ],
   "source": [
    "#Verificando quantos são os nomes únicos no conjunto de dados\n",
    "df['Name'].nunique()"
   ]
  },
  {
   "cell_type": "markdown",
   "id": "009df97a",
   "metadata": {
    "id": "009df97a"
   },
   "source": [
    "3- Qual a frequência em que o preço de fechamento é maior que o de abertura?"
   ]
  },
  {
   "cell_type": "code",
   "execution_count": 38,
   "id": "b703f444",
   "metadata": {
    "id": "b703f444"
   },
   "outputs": [],
   "source": [
    "#Filtrando para o preço de fechamento maior que o preço de abertura\n",
    "df3 = df[df['close'] > df['open']]"
   ]
  },
  {
   "cell_type": "code",
   "execution_count": 71,
   "id": "SK3inQtiJTUs",
   "metadata": {
    "colab": {
     "base_uri": "https://localhost:8080/"
    },
    "id": "SK3inQtiJTUs",
    "outputId": "5d2fbe7b-5f62-47e3-b19d-b06be097bef2"
   },
   "outputs": [
    {
     "name": "stdout",
     "output_type": "stream",
     "text": [
      "318971\n"
     ]
    }
   ],
   "source": [
    "#Calculando quantas transações tiveram preço de fechamento maior que o preço de abertura\n",
    "df3_freq = df3.value_counts().sum()\n",
    "print(df3_freq)"
   ]
  },
  {
   "cell_type": "code",
   "execution_count": 40,
   "id": "cf8eed1f",
   "metadata": {
    "colab": {
     "base_uri": "https://localhost:8080/"
    },
    "id": "cf8eed1f",
    "outputId": "05fd08fa-a1dc-4252-d87d-4edcbc71d9d6"
   },
   "outputs": [
    {
     "name": "stdout",
     "output_type": "stream",
     "text": [
      "619032\n"
     ]
    }
   ],
   "source": [
    "#calculando a quantidade total de transações\n",
    "df_total = df['open'].value_counts().sum()\n",
    "print(df_total)"
   ]
  },
  {
   "cell_type": "code",
   "execution_count": 41,
   "id": "kw2X7r4IJL1T",
   "metadata": {
    "colab": {
     "base_uri": "https://localhost:8080/"
    },
    "id": "kw2X7r4IJL1T",
    "outputId": "73a5b5c1-75d2-427f-e769-ff777334effc"
   },
   "outputs": [
    {
     "name": "stdout",
     "output_type": "stream",
     "text": [
      "51.52738469093682\n"
     ]
    }
   ],
   "source": [
    "#Calculando a frequência em que o preço de fechamento é maior que o de abertura\n",
    "freq_close_maior_open = (df3_freq / df_total) *100\n",
    "print(freq_close_maior_open)"
   ]
  },
  {
   "cell_type": "markdown",
   "id": "18c4a4ae",
   "metadata": {
    "id": "18c4a4ae"
   },
   "source": [
    "4- Quais os valores máximos das ações da AAPL?"
   ]
  },
  {
   "cell_type": "code",
   "execution_count": 42,
   "id": "6ad66518",
   "metadata": {
    "id": "6ad66518"
   },
   "outputs": [],
   "source": [
    "#Filtrando para o nome desejado\n",
    "df4 = df[df['Name'] == 'AAPL']"
   ]
  },
  {
   "cell_type": "code",
   "execution_count": 43,
   "id": "dcd6d52b",
   "metadata": {
    "id": "dcd6d52b"
   },
   "outputs": [],
   "source": [
    "df4_open_max = df4['open'].max()\n",
    "df4_high_max = df4['high'].max()\n",
    "df4_low_max = df4['low'].max()\n",
    "df4_close_max = df4['close'].max()\n",
    "df4_volume_max = df4['volume'].max()"
   ]
  },
  {
   "cell_type": "code",
   "execution_count": 44,
   "id": "rVje-L6O7TMN",
   "metadata": {
    "colab": {
     "base_uri": "https://localhost:8080/"
    },
    "id": "rVje-L6O7TMN",
    "outputId": "d2240d26-ae4d-496c-d371-da5dc1a256e5"
   },
   "outputs": [
    {
     "name": "stdout",
     "output_type": "stream",
     "text": [
      "O valor máximo para 'open' da ação AAPL é: 179.37\n",
      "O valor máximo para 'high' da ação AAPL é: 180.1\n",
      "O valor máximo para 'low' da ação AAPL é: 178.25\n",
      "O valor máximo para 'close' da ação AAPL é: 179.26\n",
      "O valor máximo para 'volume' da ação AAPL é: 266833581\n"
     ]
    }
   ],
   "source": [
    "print(\"O valor máximo para 'open' da ação AAPL é:\", df4_open_max)\n",
    "print(\"O valor máximo para 'high' da ação AAPL é:\", df4_high_max)\n",
    "print(\"O valor máximo para 'low' da ação AAPL é:\", df4_low_max)\n",
    "print(\"O valor máximo para 'close' da ação AAPL é:\", df4_close_max)\n",
    "print(\"O valor máximo para 'volume' da ação AAPL é:\", df4_volume_max)"
   ]
  },
  {
   "cell_type": "markdown",
   "id": "cd31b75f",
   "metadata": {
    "id": "cd31b75f"
   },
   "source": [
    "5- Quais os valores da apple (AAPL) ordenados de forma decrescente?"
   ]
  },
  {
   "cell_type": "code",
   "execution_count": 45,
   "id": "e9XiifBJKWcM",
   "metadata": {
    "colab": {
     "base_uri": "https://localhost:8080/"
    },
    "id": "e9XiifBJKWcM",
    "outputId": "e809d89d-df75-410a-dca0-71dce5353cf0"
   },
   "outputs": [
    {
     "name": "stdout",
     "output_type": "stream",
     "text": [
      "2503    179.3700\n",
      "2504    178.6100\n",
      "2501    177.9000\n",
      "2506    177.3000\n",
      "2505    177.3000\n",
      "          ...   \n",
      "1355     57.0357\n",
      "1310     56.2199\n",
      "1308     56.0914\n",
      "1356     55.9085\n",
      "1307     55.4242\n",
      "Name: open, Length: 1259, dtype: float64\n"
     ]
    }
   ],
   "source": [
    "#Filtrando o valores 'open' da Apple de forma decrescente\n",
    "open_dec = df_apple['open'].sort_values(ascending = False)\n",
    "print(open_dec)"
   ]
  },
  {
   "cell_type": "code",
   "execution_count": 46,
   "id": "Ju1afecrLtz7",
   "metadata": {
    "colab": {
     "base_uri": "https://localhost:8080/"
    },
    "id": "Ju1afecrLtz7",
    "outputId": "2ac9b2fb-fc99-45df-b72e-5810155b7c45"
   },
   "outputs": [
    {
     "name": "stdout",
     "output_type": "stream",
     "text": [
      "2503    180.1000\n",
      "2504    179.5800\n",
      "2506    179.4400\n",
      "2501    179.3900\n",
      "2502    179.2500\n",
      "          ...   \n",
      "1354     57.8271\n",
      "1308     57.4571\n",
      "1355     57.3414\n",
      "1356     57.1814\n",
      "1307     57.0857\n",
      "Name: high, Length: 1259, dtype: float64\n"
     ]
    }
   ],
   "source": [
    "#Filtrando o valores 'high' da Apple de forma decrescente\n",
    "high_dec = df_apple['high'].sort_values(ascending = False)\n",
    "print(high_dec)"
   ]
  },
  {
   "cell_type": "code",
   "execution_count": 47,
   "id": "bX-As1dzLt9K",
   "metadata": {
    "colab": {
     "base_uri": "https://localhost:8080/"
    },
    "id": "bX-As1dzLt9K",
    "outputId": "2fed7f6b-b48e-456a-e3a9-5b4530b325d8"
   },
   "outputs": [
    {
     "name": "stdout",
     "output_type": "stream",
     "text": [
      "2503    178.2500\n",
      "2504    177.4100\n",
      "2506    176.8200\n",
      "2505    176.6016\n",
      "2501    176.1400\n",
      "          ...   \n",
      "1310     56.0714\n",
      "1308     55.8964\n",
      "1306     55.6774\n",
      "1356     55.5528\n",
      "1307     55.0142\n",
      "Name: low, Length: 1259, dtype: float64\n"
     ]
    }
   ],
   "source": [
    "#Filtrando o valores 'low' da Apple de forma decrescente\n",
    "low_dec = df_apple['low'].sort_values(ascending = False)\n",
    "print(low_dec)"
   ]
  },
  {
   "cell_type": "code",
   "execution_count": 48,
   "id": "-7z0oM0wLuAs",
   "metadata": {
    "colab": {
     "base_uri": "https://localhost:8080/"
    },
    "id": "-7z0oM0wLuAs",
    "outputId": "e9e26b12-11c1-4110-cac8-adb6469a6e02"
   },
   "outputs": [
    {
     "name": "stdout",
     "output_type": "stream",
     "text": [
      "2503    179.2600\n",
      "2502    179.1000\n",
      "2504    178.4600\n",
      "2500    177.0900\n",
      "2506    177.0400\n",
      "          ...   \n",
      "1354     56.8671\n",
      "1356     56.6471\n",
      "1355     56.2542\n",
      "1306     56.0071\n",
      "1307     55.7899\n",
      "Name: close, Length: 1259, dtype: float64\n"
     ]
    }
   ],
   "source": [
    "#Filtrando o valores 'close' da Apple de forma decrescente\n",
    "close_dec = df_apple['close'].sort_values(ascending = False)\n",
    "print(close_dec)"
   ]
  },
  {
   "cell_type": "code",
   "execution_count": 49,
   "id": "TL7yY0w9LuD_",
   "metadata": {
    "colab": {
     "base_uri": "https://localhost:8080/"
    },
    "id": "TL7yY0w9LuD_",
    "outputId": "df06b677-59db-42b2-9d9a-630c16c3b0ad"
   },
   "outputs": [
    {
     "name": "stdout",
     "output_type": "stream",
     "text": [
      "1502    266833581\n",
      "1310    242387530\n",
      "1305    236138966\n",
      "1407    224250866\n",
      "1387    219634975\n",
      "          ...    \n",
      "2320     14246347\n",
      "2467     14026673\n",
      "1984     13596680\n",
      "1965     13046445\n",
      "2216     11475922\n",
      "Name: volume, Length: 1259, dtype: int64\n"
     ]
    }
   ],
   "source": [
    "#Filtrando o valores 'volume' da Apple de forma decrescente\n",
    "volume_dec = df_apple['volume'].sort_values(ascending = False)\n",
    "print(volume_dec)"
   ]
  },
  {
   "cell_type": "markdown",
   "id": "463f8a77",
   "metadata": {
    "id": "463f8a77"
   },
   "source": [
    "6- Qual o somatório dos volumes por dia ordenando de forma decrescente?"
   ]
  },
  {
   "cell_type": "code",
   "execution_count": 50,
   "id": "2472f6f3",
   "metadata": {
    "colab": {
     "base_uri": "https://localhost:8080/"
    },
    "id": "2472f6f3",
    "outputId": "d4d94c0c-2958-4c54-ef17-f787414e2464"
   },
   "outputs": [
    {
     "name": "stdout",
     "output_type": "stream",
     "text": [
      "date\n",
      "2015-08-24    4607945196\n",
      "2016-06-24    4367393052\n",
      "2015-12-18    4124454411\n",
      "2016-01-20    4087629753\n",
      "2018-02-06    4072080890\n",
      "                 ...    \n",
      "2015-11-27     791154818\n",
      "2014-12-24     750895627\n",
      "2013-12-24     742102410\n",
      "2015-12-24     736263173\n",
      "2017-11-24     728261080\n",
      "Name: volume, Length: 1259, dtype: int64\n"
     ]
    }
   ],
   "source": [
    "#Agrupando por dia, calculando a soma de volume diário e ordenando de forma descrescente\n",
    "df_som_vol = df.groupby('date')['volume'].sum().sort_values(ascending=False)\n",
    "print(df_som_vol)"
   ]
  },
  {
   "cell_type": "markdown",
   "id": "641e285f",
   "metadata": {
    "id": "641e285f"
   },
   "source": [
    "7- Qual o somatório dos volumes por ação ordenando de forma decrescente?"
   ]
  },
  {
   "cell_type": "code",
   "execution_count": 51,
   "id": "2adaa384",
   "metadata": {
    "colab": {
     "base_uri": "https://localhost:8080/"
    },
    "id": "2adaa384",
    "outputId": "4685c36e-3ed6-4e97-b56a-f137cde8c7ea"
   },
   "outputs": [
    {
     "name": "stdout",
     "output_type": "stream",
     "text": [
      "Name\n",
      "BAC     117884953591\n",
      "AAPL     68046305767\n",
      "GE       53023644686\n",
      "F        43388129992\n",
      "FB       43258314899\n",
      "            ...     \n",
      "WLTW       414734590\n",
      "AZO        397585127\n",
      "MTD        214489754\n",
      "BHF        144878389\n",
      "APTV        92947779\n",
      "Name: volume, Length: 505, dtype: int64\n"
     ]
    }
   ],
   "source": [
    "#Agrupando por ação, calculando a soma de volume por ação e ordenando de forma descrescente\n",
    "df_som_action_decres = df.groupby('Name')['volume'].sum().sort_values(ascending=False)\n",
    "print(df_som_action_decres)"
   ]
  },
  {
   "cell_type": "markdown",
   "id": "bf00b2c1",
   "metadata": {
    "id": "bf00b2c1"
   },
   "source": [
    "8- Quantos nomes de ação começam com a letra 'A'?"
   ]
  },
  {
   "cell_type": "code",
   "execution_count": 52,
   "id": "SARJsBIaKZGz",
   "metadata": {
    "colab": {
     "base_uri": "https://localhost:8080/"
    },
    "id": "SARJsBIaKZGz",
    "outputId": "9008c41a-e23d-4a79-e580-a6d9e1f3d154"
   },
   "outputs": [
    {
     "name": "stdout",
     "output_type": "stream",
     "text": [
      "72870\n"
     ]
    }
   ],
   "source": [
    "#Filtrando a coluna 'Name' com as ações que começam com a letra 'A' e calculando a quantidade\n",
    "df_inicia_A = df['Name'].str.startswith('A').sum()\n",
    "print(df_inicia_A)"
   ]
  },
  {
   "cell_type": "markdown",
   "id": "b5211143",
   "metadata": {
    "id": "b5211143"
   },
   "source": [
    "9- Qual a frequencia em que o preço de fechamento foi igual ao maior preço?"
   ]
  },
  {
   "cell_type": "code",
   "execution_count": 53,
   "id": "m7MxulAaKYor",
   "metadata": {
    "id": "m7MxulAaKYor"
   },
   "outputs": [],
   "source": [
    "#Filtrando por preço de fechamento igual ao maior preço\n",
    "df_igual_maior_preco = df[(df['close'] == df['high'])]"
   ]
  },
  {
   "cell_type": "code",
   "execution_count": 54,
   "id": "zj2gFjxAk-eC",
   "metadata": {
    "colab": {
     "base_uri": "https://localhost:8080/"
    },
    "id": "zj2gFjxAk-eC",
    "outputId": "856536c8-fbc8-4bca-beef-5c72544adc2b"
   },
   "outputs": [
    {
     "name": "stdout",
     "output_type": "stream",
     "text": [
      "7420\n"
     ]
    }
   ],
   "source": [
    "#Calculando a quantidade de vezes em que o preço de fechamento foi igual ao maior preço\n",
    "df_quantid = df_igual_maior_preco['close'].value_counts().sum()\n",
    "print(df_quantid)"
   ]
  },
  {
   "cell_type": "code",
   "execution_count": 55,
   "id": "f2MoKXlEk-nf",
   "metadata": {
    "colab": {
     "base_uri": "https://localhost:8080/"
    },
    "id": "f2MoKXlEk-nf",
    "outputId": "97b1cdc7-76a7-44c7-eb39-9f93df34a454"
   },
   "outputs": [
    {
     "name": "stdout",
     "output_type": "stream",
     "text": [
      "1.1986456273665982\n"
     ]
    }
   ],
   "source": [
    "df_igual_close_maior = (df_quantid / df_total) *100\n",
    "print(df_igual_close_maior)"
   ]
  },
  {
   "cell_type": "markdown",
   "id": "e72bf910",
   "metadata": {
    "id": "e72bf910"
   },
   "source": [
    "10- Qual a data em que houve o maior aumento absoluto no preço das ações da apple?"
   ]
  },
  {
   "cell_type": "code",
   "execution_count": 56,
   "id": "M2IbUkwIpeVi",
   "metadata": {
    "id": "M2IbUkwIpeVi"
   },
   "outputs": [],
   "source": [
    "#Colocando a coluna date como índice\n",
    "df.set_index('date', inplace = True)"
   ]
  },
  {
   "cell_type": "code",
   "execution_count": 57,
   "id": "k_i3HKuLBrAN",
   "metadata": {
    "id": "k_i3HKuLBrAN"
   },
   "outputs": [],
   "source": [
    "#Criando uma coluna com a diferença entre os preços de fechamento e abertura\n",
    "df['dif'] = df['close'] - df['open']"
   ]
  },
  {
   "cell_type": "code",
   "execution_count": 58,
   "id": "7neMP1eYB8Rt",
   "metadata": {
    "colab": {
     "base_uri": "https://localhost:8080/",
     "height": 238
    },
    "id": "7neMP1eYB8Rt",
    "outputId": "4c4d69d2-2fa3-4bde-e222-f2be77fc0e41"
   },
   "outputs": [
    {
     "data": {
      "text/html": [
       "<div>\n",
       "<style scoped>\n",
       "    .dataframe tbody tr th:only-of-type {\n",
       "        vertical-align: middle;\n",
       "    }\n",
       "\n",
       "    .dataframe tbody tr th {\n",
       "        vertical-align: top;\n",
       "    }\n",
       "\n",
       "    .dataframe thead th {\n",
       "        text-align: right;\n",
       "    }\n",
       "</style>\n",
       "<table border=\"1\" class=\"dataframe\">\n",
       "  <thead>\n",
       "    <tr style=\"text-align: right;\">\n",
       "      <th></th>\n",
       "      <th>open</th>\n",
       "      <th>high</th>\n",
       "      <th>low</th>\n",
       "      <th>close</th>\n",
       "      <th>volume</th>\n",
       "      <th>Name</th>\n",
       "      <th>mes</th>\n",
       "      <th>ano</th>\n",
       "      <th>dia</th>\n",
       "      <th>dif</th>\n",
       "    </tr>\n",
       "    <tr>\n",
       "      <th>date</th>\n",
       "      <th></th>\n",
       "      <th></th>\n",
       "      <th></th>\n",
       "      <th></th>\n",
       "      <th></th>\n",
       "      <th></th>\n",
       "      <th></th>\n",
       "      <th></th>\n",
       "      <th></th>\n",
       "      <th></th>\n",
       "    </tr>\n",
       "  </thead>\n",
       "  <tbody>\n",
       "    <tr>\n",
       "      <th>2013-02-08</th>\n",
       "      <td>15.07</td>\n",
       "      <td>15.12</td>\n",
       "      <td>14.63</td>\n",
       "      <td>14.75</td>\n",
       "      <td>8407500</td>\n",
       "      <td>AAL</td>\n",
       "      <td>2</td>\n",
       "      <td>2013</td>\n",
       "      <td>8</td>\n",
       "      <td>-0.32</td>\n",
       "    </tr>\n",
       "    <tr>\n",
       "      <th>2013-02-11</th>\n",
       "      <td>14.89</td>\n",
       "      <td>15.01</td>\n",
       "      <td>14.26</td>\n",
       "      <td>14.46</td>\n",
       "      <td>8882000</td>\n",
       "      <td>AAL</td>\n",
       "      <td>2</td>\n",
       "      <td>2013</td>\n",
       "      <td>11</td>\n",
       "      <td>-0.43</td>\n",
       "    </tr>\n",
       "    <tr>\n",
       "      <th>2013-02-12</th>\n",
       "      <td>14.45</td>\n",
       "      <td>14.51</td>\n",
       "      <td>14.10</td>\n",
       "      <td>14.27</td>\n",
       "      <td>8126000</td>\n",
       "      <td>AAL</td>\n",
       "      <td>2</td>\n",
       "      <td>2013</td>\n",
       "      <td>12</td>\n",
       "      <td>-0.18</td>\n",
       "    </tr>\n",
       "    <tr>\n",
       "      <th>2013-02-13</th>\n",
       "      <td>14.30</td>\n",
       "      <td>14.94</td>\n",
       "      <td>14.25</td>\n",
       "      <td>14.66</td>\n",
       "      <td>10259500</td>\n",
       "      <td>AAL</td>\n",
       "      <td>2</td>\n",
       "      <td>2013</td>\n",
       "      <td>13</td>\n",
       "      <td>0.36</td>\n",
       "    </tr>\n",
       "    <tr>\n",
       "      <th>2013-02-14</th>\n",
       "      <td>14.94</td>\n",
       "      <td>14.96</td>\n",
       "      <td>13.16</td>\n",
       "      <td>13.99</td>\n",
       "      <td>31879900</td>\n",
       "      <td>AAL</td>\n",
       "      <td>2</td>\n",
       "      <td>2013</td>\n",
       "      <td>14</td>\n",
       "      <td>-0.95</td>\n",
       "    </tr>\n",
       "  </tbody>\n",
       "</table>\n",
       "</div>"
      ],
      "text/plain": [
       "             open   high    low  close    volume Name  mes   ano  dia   dif\n",
       "date                                                                       \n",
       "2013-02-08  15.07  15.12  14.63  14.75   8407500  AAL    2  2013    8 -0.32\n",
       "2013-02-11  14.89  15.01  14.26  14.46   8882000  AAL    2  2013   11 -0.43\n",
       "2013-02-12  14.45  14.51  14.10  14.27   8126000  AAL    2  2013   12 -0.18\n",
       "2013-02-13  14.30  14.94  14.25  14.66  10259500  AAL    2  2013   13  0.36\n",
       "2013-02-14  14.94  14.96  13.16  13.99  31879900  AAL    2  2013   14 -0.95"
      ]
     },
     "execution_count": 58,
     "metadata": {},
     "output_type": "execute_result"
    }
   ],
   "source": [
    "#Verificando o novo índice e nova coluna criada\n",
    "df.head()"
   ]
  },
  {
   "cell_type": "code",
   "execution_count": 59,
   "id": "O1bDW5QDqSNT",
   "metadata": {
    "id": "O1bDW5QDqSNT"
   },
   "outputs": [],
   "source": [
    "#Filtrando para a transação da apple\n",
    "df_apple = df[df['Name'] == 'AAPL']"
   ]
  },
  {
   "cell_type": "code",
   "execution_count": 60,
   "id": "Yt6PW_Hhr7NH",
   "metadata": {
    "colab": {
     "base_uri": "https://localhost:8080/"
    },
    "id": "Yt6PW_Hhr7NH",
    "outputId": "4ef53483-7542-4c40-9715-f7f05092f5e3"
   },
   "outputs": [
    {
     "name": "stdout",
     "output_type": "stream",
     "text": [
      "date\n",
      "2015-08-24    8.25\n",
      "2018-02-06    8.20\n",
      "2017-05-08    3.98\n",
      "2014-12-09    3.93\n",
      "2017-10-27    3.76\n",
      "              ... \n",
      "2017-08-10   -4.58\n",
      "2015-08-21   -4.67\n",
      "2018-02-02   -5.50\n",
      "2017-06-09   -6.21\n",
      "2015-08-25   -7.37\n",
      "Name: dif, Length: 1259, dtype: float64\n"
     ]
    }
   ],
   "source": [
    "#Filtrando a coluna 'dif' em ordem decrescente e verificando os valores\n",
    "df_maior_aumento_apple = df_apple['dif'].sort_values(ascending=False)\n",
    "print(df_maior_aumento_apple)"
   ]
  },
  {
   "cell_type": "code",
   "execution_count": 61,
   "id": "hgZEm6OBCpur",
   "metadata": {
    "colab": {
     "base_uri": "https://localhost:8080/"
    },
    "id": "hgZEm6OBCpur",
    "outputId": "cbccd338-10af-4dbc-eebd-5e77756e57df"
   },
   "outputs": [
    {
     "name": "stdout",
     "output_type": "stream",
     "text": [
      "2015-08-24 00:00:00\n"
     ]
    }
   ],
   "source": [
    "#Destacando a data em que houve o maior aumento absoluto no preço das ações da apple\n",
    "df_data_maior = df_apple['dif'].idxmax()\n",
    "print(df_data_maior)\n"
   ]
  },
  {
   "cell_type": "markdown",
   "id": "b7c2e7bd",
   "metadata": {
    "id": "b7c2e7bd"
   },
   "source": [
    "11- Qual a média de volumes de transações por ação?"
   ]
  },
  {
   "cell_type": "code",
   "execution_count": 62,
   "id": "51c65a8b",
   "metadata": {
    "colab": {
     "base_uri": "https://localhost:8080/"
    },
    "id": "51c65a8b",
    "outputId": "0a0fd692-bfb6-4ac7-e8c1-23f8ffedf4bd"
   },
   "outputs": [
    {
     "name": "stdout",
     "output_type": "stream",
     "text": [
      "Name\n",
      "A       2.338039e+06\n",
      "AAL     9.390321e+06\n",
      "AAP     1.078043e+06\n",
      "AAPL    5.404790e+07\n",
      "ABBV    7.870683e+06\n",
      "            ...     \n",
      "XYL     1.183141e+06\n",
      "YUM     3.209032e+06\n",
      "ZBH     1.297144e+06\n",
      "ZION    2.621178e+06\n",
      "ZTS     3.681878e+06\n",
      "Name: volume, Length: 505, dtype: float64\n"
     ]
    }
   ],
   "source": [
    "#Agrupando por ação e calculando a média de volume de transações por ação\n",
    "df_media_vol_action = df.groupby('Name')['volume'].mean()\n",
    "print(df_media_vol_action)"
   ]
  },
  {
   "cell_type": "markdown",
   "id": "985c6336",
   "metadata": {
    "id": "985c6336"
   },
   "source": [
    "12- Qual a quantidade de letras que o nome de cada ação possui? Agrupe os nomes das ações por quantidade de letras."
   ]
  },
  {
   "cell_type": "code",
   "execution_count": 63,
   "id": "37EnplBIKdFT",
   "metadata": {
    "colab": {
     "base_uri": "https://localhost:8080/"
    },
    "id": "37EnplBIKdFT",
    "outputId": "564d8ca0-dbbf-4ed8-93c5-70e895b6d969"
   },
   "outputs": [
    {
     "name": "stdout",
     "output_type": "stream",
     "text": [
      "date\n",
      "2013-02-08    3\n",
      "2013-02-11    3\n",
      "2013-02-12    3\n",
      "2013-02-13    3\n",
      "2013-02-14    3\n",
      "             ..\n",
      "2018-02-01    3\n",
      "2018-02-02    3\n",
      "2018-02-05    3\n",
      "2018-02-06    3\n",
      "2018-02-07    3\n",
      "Name: Name, Length: 619032, dtype: int64\n"
     ]
    }
   ],
   "source": [
    "#Filtrando a coluna 'Name' e calculando a quantidade de letras de cada ação\n",
    "df_contar_letras = df['Name'].str.len()\n",
    "print(df_contar_letras)"
   ]
  },
  {
   "cell_type": "code",
   "execution_count": 64,
   "id": "iDk8rJD8KdJj",
   "metadata": {
    "colab": {
     "base_uri": "https://localhost:8080/"
    },
    "id": "iDk8rJD8KdJj",
    "outputId": "8a76acdf-8641-4cf2-b558-926a44712804"
   },
   "outputs": [
    {
     "name": "stdout",
     "output_type": "stream",
     "text": [
      "3    399053\n",
      "4    138967\n",
      "2     62144\n",
      "1     12573\n",
      "5      6295\n",
      "Name: Name, dtype: int64\n"
     ]
    }
   ],
   "source": [
    "#Agrupando os nomes das ações por quantidade de letras\n",
    "df_letras_agrupado = df_contar_letras.value_counts()\n",
    "print(df_letras_agrupado)"
   ]
  },
  {
   "cell_type": "markdown",
   "id": "8dcdba16",
   "metadata": {
    "id": "8dcdba16"
   },
   "source": [
    "13- Qual o somatório de volumes por ação em ordem crescente?"
   ]
  },
  {
   "cell_type": "code",
   "execution_count": 65,
   "id": "d6611f09",
   "metadata": {
    "colab": {
     "base_uri": "https://localhost:8080/"
    },
    "id": "d6611f09",
    "outputId": "0d9a607a-f1e7-41fd-952f-2037cb6b912e"
   },
   "outputs": [
    {
     "name": "stdout",
     "output_type": "stream",
     "text": [
      "Name\n",
      "APTV        92947779\n",
      "BHF        144878389\n",
      "MTD        214489754\n",
      "AZO        397585127\n",
      "WLTW       414734590\n",
      "            ...     \n",
      "FB       43258314899\n",
      "F        43388129992\n",
      "GE       53023644686\n",
      "AAPL     68046305767\n",
      "BAC     117884953591\n",
      "Name: volume, Length: 505, dtype: int64\n"
     ]
    }
   ],
   "source": [
    "#Agrupando por ação, calculando a soma de volume por ação e ordenando de forma crescente\n",
    "df_som_action_cresc = df.groupby('Name')['volume'].sum().sort_values(ascending=True)\n",
    "print(df_som_action_cresc)"
   ]
  },
  {
   "cell_type": "markdown",
   "id": "23473484",
   "metadata": {
    "id": "23473484"
   },
   "source": [
    "14- Qual a frequência em que o preço de abertura é o mesmo de fechamento?"
   ]
  },
  {
   "cell_type": "code",
   "execution_count": 66,
   "id": "hT1pLR6dE9ff",
   "metadata": {
    "id": "hT1pLR6dE9ff"
   },
   "outputs": [],
   "source": [
    "#Filtrando para o preço de fechamento igual ao preço de abertura\n",
    "df_open_igual_close = df[(df['open'] == df['close'])]"
   ]
  },
  {
   "cell_type": "code",
   "execution_count": 67,
   "id": "nMW2DZWPFT-w",
   "metadata": {
    "colab": {
     "base_uri": "https://localhost:8080/"
    },
    "id": "nMW2DZWPFT-w",
    "outputId": "325ae9a9-a48c-46e6-e323-2bcbba1b7984"
   },
   "outputs": [
    {
     "name": "stdout",
     "output_type": "stream",
     "text": [
      "619032\n"
     ]
    }
   ],
   "source": [
    "#calculando a quantidade total de transações\n",
    "df_total = df['open'].value_counts().sum()\n",
    "print(df_total)"
   ]
  },
  {
   "cell_type": "code",
   "execution_count": 68,
   "id": "9vHRbgLSFo3t",
   "metadata": {
    "colab": {
     "base_uri": "https://localhost:8080/"
    },
    "id": "9vHRbgLSFo3t",
    "outputId": "d5fdd6df-d36f-42d9-a776-c5c9b1a597bc"
   },
   "outputs": [
    {
     "name": "stdout",
     "output_type": "stream",
     "text": [
      "5032\n"
     ]
    }
   ],
   "source": [
    "#Calculando quantas transações tiveram preço de fechamento igual ao preço de abertura\n",
    "df_freq = df_open_igual_close.value_counts().sum()\n",
    "print(df_freq)"
   ]
  },
  {
   "cell_type": "code",
   "execution_count": 69,
   "id": "KD1_N5jTG8gv",
   "metadata": {
    "colab": {
     "base_uri": "https://localhost:8080/"
    },
    "id": "KD1_N5jTG8gv",
    "outputId": "6f7cfbfa-68cc-49b1-b0bc-5792a6625b22"
   },
   "outputs": [
    {
     "name": "stdout",
     "output_type": "stream",
     "text": [
      "0.8128820481009059\n"
     ]
    }
   ],
   "source": [
    "#Calculando a frequência em que o preço de fechamento é igual ao de abertura\n",
    "frequencia = (df_freq / df_total) *100\n",
    "print(frequencia)"
   ]
  }
 ],
 "metadata": {
  "colab": {
   "provenance": []
  },
  "kernelspec": {
   "display_name": "Python 3 (ipykernel)",
   "language": "python",
   "name": "python3"
  },
  "language_info": {
   "codemirror_mode": {
    "name": "ipython",
    "version": 3
   },
   "file_extension": ".py",
   "mimetype": "text/x-python",
   "name": "python",
   "nbconvert_exporter": "python",
   "pygments_lexer": "ipython3",
   "version": "3.9.13"
  }
 },
 "nbformat": 4,
 "nbformat_minor": 5
}
