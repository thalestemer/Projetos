{
 "cells": [
  {
   "cell_type": "markdown",
   "id": "b01fe386",
   "metadata": {
    "id": "b01fe386"
   },
   "source": [
    "\n",
    "# Projeto 2 - Previsão de AVC"
   ]
  },
  {
   "cell_type": "markdown",
   "id": "2sg30WyoNxj9",
   "metadata": {
    "id": "2sg30WyoNxj9"
   },
   "source": [
    "# Nova seção"
   ]
  },
  {
   "cell_type": "markdown",
   "id": "3ae0cdb0",
   "metadata": {
    "id": "3ae0cdb0"
   },
   "source": [
    "Este conjunto de dados é usado para prever se um paciente é susceptível de ter acidente vascular cerebral com base nos parâmetros de entrada, como sexo, idade, várias doenças e tabagismo. Cada linha nos dados fornece informações relevantes sobre o paciente.\n",
    "\n",
    "Objetivo: Analisar os dados e fazer a previsão se o paciente sofrerá ou não derrame utilizando linguagem Python.\n",
    "\n",
    "Fonte do dataset: https://www.kaggle.com/datasets/fedesoriano/stroke-prediction-dataset\n",
    "(Adaptado)"
   ]
  },
  {
   "cell_type": "code",
   "execution_count": 1,
   "id": "f3e1f123",
   "metadata": {
    "colab": {
     "base_uri": "https://localhost:8080/"
    },
    "id": "f3e1f123",
    "outputId": "63ef2bbd-2777-4ec4-efc8-fe82e578a719"
   },
   "outputs": [
    {
     "name": "stdout",
     "output_type": "stream",
     "text": [
      "Versão python utilizada neste projeto:  3.9.13\n"
     ]
    }
   ],
   "source": [
    "#Versão da Linguagem Python\n",
    "from platform import python_version\n",
    "print(\"Versão python utilizada neste projeto: \", python_version())"
   ]
  },
  {
   "cell_type": "code",
   "execution_count": 2,
   "id": "8f264289",
   "metadata": {
    "id": "8f264289"
   },
   "outputs": [],
   "source": [
    "#Instala o pacote watermark. \n",
    "!pip install -q -U watermark"
   ]
  },
  {
   "cell_type": "code",
   "execution_count": 3,
   "id": "ed5bf689",
   "metadata": {
    "id": "ed5bf689"
   },
   "outputs": [],
   "source": [
    "# Imports\n",
    "import numpy as np\n",
    "import pandas as pd\n",
    "import matplotlib.pyplot as plt\n",
    "import seaborn as sns\n",
    "import warnings\n",
    "warnings.filterwarnings(\"ignore\")\n",
    "# importar bibliotecas do modelo de Machine Learning\n",
    "from sklearn.metrics import confusion_matrix\n",
    "from sklearn.model_selection import train_test_split\n",
    "from sklearn.tree import DecisionTreeClassifier\n",
    "from sklearn.metrics import accuracy_score\n",
    "from sklearn.metrics import classification_report"
   ]
  },
  {
   "cell_type": "code",
   "execution_count": 4,
   "id": "ec0ec76e",
   "metadata": {
    "id": "ec0ec76e"
   },
   "outputs": [],
   "source": [
    "# Parâmetros de configuração dos gráficos\n",
    "from matplotlib import rcParams\n",
    "\n",
    "rcParams['figure.figsize'] = 12, 4\n",
    "rcParams['lines.linewidth'] = 3\n",
    "rcParams['xtick.labelsize'] = 'x-large'\n",
    "rcParams['ytick.labelsize'] = 'x-large'"
   ]
  },
  {
   "cell_type": "code",
   "execution_count": 5,
   "id": "711024f2",
   "metadata": {
    "colab": {
     "base_uri": "https://localhost:8080/"
    },
    "id": "711024f2",
    "outputId": "d8dea0e3-e35c-4654-c40f-18e4a7e78a02"
   },
   "outputs": [
    {
     "name": "stdout",
     "output_type": "stream",
     "text": [
      "matplotlib: 3.5.2\n",
      "seaborn   : 0.11.2\n",
      "pandas    : 1.4.4\n",
      "numpy     : 1.21.5\n",
      "\n"
     ]
    }
   ],
   "source": [
    "# Versões dos pacotes usados neste jupyter notebook\n",
    "%reload_ext watermark\n",
    "%watermark --iversions"
   ]
  },
  {
   "cell_type": "markdown",
   "id": "80ec26ec",
   "metadata": {
    "id": "80ec26ec"
   },
   "source": [
    "Carregando o Dataset"
   ]
  },
  {
   "cell_type": "code",
   "execution_count": 6,
   "id": "01cf60e0",
   "metadata": {
    "id": "01cf60e0"
   },
   "outputs": [],
   "source": [
    "#Carregando o  dataset\n",
    "df = pd.read_csv('stroke_data.csv')"
   ]
  },
  {
   "cell_type": "code",
   "execution_count": 7,
   "id": "d4e5b08e",
   "metadata": {
    "colab": {
     "base_uri": "https://localhost:8080/"
    },
    "id": "d4e5b08e",
    "outputId": "17f4c6c4-c976-476a-852a-4c857688a505"
   },
   "outputs": [
    {
     "data": {
      "text/plain": [
       "pandas.core.frame.DataFrame"
      ]
     },
     "execution_count": 7,
     "metadata": {},
     "output_type": "execute_result"
    }
   ],
   "source": [
    "# Verificando o tipo do objeto\n",
    "type(df)"
   ]
  },
  {
   "cell_type": "code",
   "execution_count": 8,
   "id": "dc4a2380",
   "metadata": {
    "colab": {
     "base_uri": "https://localhost:8080/"
    },
    "id": "dc4a2380",
    "outputId": "01eba150-32a7-46ed-9bab-0eae9179059d"
   },
   "outputs": [
    {
     "data": {
      "text/plain": [
       "(67135, 12)"
      ]
     },
     "execution_count": 8,
     "metadata": {},
     "output_type": "execute_result"
    }
   ],
   "source": [
    "#Verificando quantas linhas e colunas tem o dataset\n",
    "df.shape"
   ]
  },
  {
   "cell_type": "code",
   "execution_count": 9,
   "id": "97ae0b5e",
   "metadata": {
    "colab": {
     "base_uri": "https://localhost:8080/"
    },
    "id": "97ae0b5e",
    "outputId": "a708c967-9365-4baf-db9d-77be84fc6cfc"
   },
   "outputs": [
    {
     "data": {
      "text/plain": [
       "805620"
      ]
     },
     "execution_count": 9,
     "metadata": {},
     "output_type": "execute_result"
    }
   ],
   "source": [
    "#Total de registros considerando cada coluna\n",
    "df.size"
   ]
  },
  {
   "cell_type": "code",
   "execution_count": 10,
   "id": "4152a482",
   "metadata": {
    "colab": {
     "base_uri": "https://localhost:8080/"
    },
    "id": "4152a482",
    "outputId": "f2245324-e064-430a-a639-85ec414f629d"
   },
   "outputs": [
    {
     "name": "stdout",
     "output_type": "stream",
     "text": [
      "<class 'pandas.core.frame.DataFrame'>\n",
      "RangeIndex: 67135 entries, 0 to 67134\n",
      "Data columns (total 12 columns):\n",
      " #   Column             Non-Null Count  Dtype  \n",
      "---  ------             --------------  -----  \n",
      " 0   0                  67135 non-null  int64  \n",
      " 1   gender             67135 non-null  object \n",
      " 2   age                67135 non-null  float64\n",
      " 3   hypertension       67135 non-null  int64  \n",
      " 4   heart_disease      67135 non-null  int64  \n",
      " 5   ever_married       67135 non-null  object \n",
      " 6   work_type          67135 non-null  object \n",
      " 7   Residence_type     67135 non-null  object \n",
      " 8   avg_glucose_level  67135 non-null  float64\n",
      " 9   bmi                67135 non-null  float64\n",
      " 10  smoking_status     67135 non-null  object \n",
      " 11  stroke             67135 non-null  int64  \n",
      "dtypes: float64(3), int64(4), object(5)\n",
      "memory usage: 6.1+ MB\n"
     ]
    }
   ],
   "source": [
    "#Verifica os tipos de dados\n",
    "df.info()"
   ]
  },
  {
   "cell_type": "markdown",
   "id": "3w-Wn9aT_7WG",
   "metadata": {
    "id": "3w-Wn9aT_7WG"
   },
   "source": [
    "1. id: identificador único\n",
    "2. sexo: \"Masculino\", \"Feminino\" ou \"Outro\" \n",
    "3. idade: idade do paciente \n",
    "4. hipertensão: 0 se o paciente não tiver hipertensão, 1 se o paciente tiver hipertensão\n",
    "5. heart_disease: 0 se o paciente não tiver nenhuma doença cardíaca, 1 se o paciente tiver uma doença cardíaca \n",
    "6. ever_married: \"Não\" ou \"Sim\"\n",
    "7. work_type: \"crianças\", \"Govt_jov\", \"Never_worked\", \"Privado\" ou \"Autônomo\" 8. Residence_type: \"Rural\" ou \"Urbano\" \n",
    "9. avg_glucose_level: nível médio de glicose no sangue\n",
    "10. IMC: índice\n",
    "de massa corporal \n",
    "11. smoking_status: \"anteriormente fumado\", \"nunca fumou\", \"fuma\" ou \"Desconhecido\"* \n",
    "12. acidente vascular cerebral: 1 se o paciente teve um acidente vascular cerebral ou 0 se não *\n",
    "Nota: \"Desconhecido\"\n",
    "em smoking_status significa que a informação não\n",
    "está disponível para este paciente"
   ]
  },
  {
   "cell_type": "code",
   "execution_count": 11,
   "id": "bf1d494f",
   "metadata": {
    "colab": {
     "base_uri": "https://localhost:8080/",
     "height": 206
    },
    "id": "bf1d494f",
    "outputId": "2d140c40-71c1-4ea8-a488-c2f0a9c120fc"
   },
   "outputs": [
    {
     "data": {
      "text/html": [
       "<div>\n",
       "<style scoped>\n",
       "    .dataframe tbody tr th:only-of-type {\n",
       "        vertical-align: middle;\n",
       "    }\n",
       "\n",
       "    .dataframe tbody tr th {\n",
       "        vertical-align: top;\n",
       "    }\n",
       "\n",
       "    .dataframe thead th {\n",
       "        text-align: right;\n",
       "    }\n",
       "</style>\n",
       "<table border=\"1\" class=\"dataframe\">\n",
       "  <thead>\n",
       "    <tr style=\"text-align: right;\">\n",
       "      <th></th>\n",
       "      <th>0</th>\n",
       "      <th>gender</th>\n",
       "      <th>age</th>\n",
       "      <th>hypertension</th>\n",
       "      <th>heart_disease</th>\n",
       "      <th>ever_married</th>\n",
       "      <th>work_type</th>\n",
       "      <th>Residence_type</th>\n",
       "      <th>avg_glucose_level</th>\n",
       "      <th>bmi</th>\n",
       "      <th>smoking_status</th>\n",
       "      <th>stroke</th>\n",
       "    </tr>\n",
       "  </thead>\n",
       "  <tbody>\n",
       "    <tr>\n",
       "      <th>0</th>\n",
       "      <td>1</td>\n",
       "      <td>Female</td>\n",
       "      <td>18.0</td>\n",
       "      <td>0</td>\n",
       "      <td>0</td>\n",
       "      <td>No</td>\n",
       "      <td>Private</td>\n",
       "      <td>Urban</td>\n",
       "      <td>94.19</td>\n",
       "      <td>12.12</td>\n",
       "      <td>smokes</td>\n",
       "      <td>1</td>\n",
       "    </tr>\n",
       "    <tr>\n",
       "      <th>1</th>\n",
       "      <td>2</td>\n",
       "      <td>Male</td>\n",
       "      <td>58.0</td>\n",
       "      <td>1</td>\n",
       "      <td>0</td>\n",
       "      <td>Yes</td>\n",
       "      <td>Private</td>\n",
       "      <td>Rural</td>\n",
       "      <td>154.24</td>\n",
       "      <td>33.70</td>\n",
       "      <td>never_smoked</td>\n",
       "      <td>0</td>\n",
       "    </tr>\n",
       "    <tr>\n",
       "      <th>2</th>\n",
       "      <td>3</td>\n",
       "      <td>Female</td>\n",
       "      <td>36.0</td>\n",
       "      <td>0</td>\n",
       "      <td>0</td>\n",
       "      <td>Yes</td>\n",
       "      <td>Govt_job</td>\n",
       "      <td>Urban</td>\n",
       "      <td>72.63</td>\n",
       "      <td>24.70</td>\n",
       "      <td>smokes</td>\n",
       "      <td>0</td>\n",
       "    </tr>\n",
       "    <tr>\n",
       "      <th>3</th>\n",
       "      <td>4</td>\n",
       "      <td>Female</td>\n",
       "      <td>62.0</td>\n",
       "      <td>0</td>\n",
       "      <td>0</td>\n",
       "      <td>Yes</td>\n",
       "      <td>Self-employed</td>\n",
       "      <td>Rural</td>\n",
       "      <td>85.52</td>\n",
       "      <td>31.20</td>\n",
       "      <td>formerly smoked</td>\n",
       "      <td>0</td>\n",
       "    </tr>\n",
       "    <tr>\n",
       "      <th>4</th>\n",
       "      <td>5</td>\n",
       "      <td>Female</td>\n",
       "      <td>82.0</td>\n",
       "      <td>0</td>\n",
       "      <td>0</td>\n",
       "      <td>Yes</td>\n",
       "      <td>Private</td>\n",
       "      <td>Rural</td>\n",
       "      <td>59.32</td>\n",
       "      <td>33.20</td>\n",
       "      <td>smokes</td>\n",
       "      <td>1</td>\n",
       "    </tr>\n",
       "  </tbody>\n",
       "</table>\n",
       "</div>"
      ],
      "text/plain": [
       "   0  gender   age  hypertension  heart_disease ever_married      work_type  \\\n",
       "0  1  Female  18.0             0              0           No        Private   \n",
       "1  2    Male  58.0             1              0          Yes        Private   \n",
       "2  3  Female  36.0             0              0          Yes       Govt_job   \n",
       "3  4  Female  62.0             0              0          Yes  Self-employed   \n",
       "4  5  Female  82.0             0              0          Yes        Private   \n",
       "\n",
       "  Residence_type  avg_glucose_level    bmi   smoking_status  stroke  \n",
       "0          Urban              94.19  12.12           smokes       1  \n",
       "1          Rural             154.24  33.70     never_smoked       0  \n",
       "2          Urban              72.63  24.70           smokes       0  \n",
       "3          Rural              85.52  31.20  formerly smoked       0  \n",
       "4          Rural              59.32  33.20           smokes       1  "
      ]
     },
     "execution_count": 11,
     "metadata": {},
     "output_type": "execute_result"
    }
   ],
   "source": [
    "#Amostra das 5 primeiras linhas\n",
    "df.head(5)"
   ]
  },
  {
   "cell_type": "code",
   "execution_count": 12,
   "id": "YVQJL6hEV6t0",
   "metadata": {
    "colab": {
     "base_uri": "https://localhost:8080/",
     "height": 206
    },
    "id": "YVQJL6hEV6t0",
    "outputId": "80870f50-d98f-460d-e012-6a19cc61e608"
   },
   "outputs": [
    {
     "data": {
      "text/html": [
       "<div>\n",
       "<style scoped>\n",
       "    .dataframe tbody tr th:only-of-type {\n",
       "        vertical-align: middle;\n",
       "    }\n",
       "\n",
       "    .dataframe tbody tr th {\n",
       "        vertical-align: top;\n",
       "    }\n",
       "\n",
       "    .dataframe thead th {\n",
       "        text-align: right;\n",
       "    }\n",
       "</style>\n",
       "<table border=\"1\" class=\"dataframe\">\n",
       "  <thead>\n",
       "    <tr style=\"text-align: right;\">\n",
       "      <th></th>\n",
       "      <th>0</th>\n",
       "      <th>gender</th>\n",
       "      <th>age</th>\n",
       "      <th>hypertension</th>\n",
       "      <th>heart_disease</th>\n",
       "      <th>ever_married</th>\n",
       "      <th>work_type</th>\n",
       "      <th>Residence_type</th>\n",
       "      <th>avg_glucose_level</th>\n",
       "      <th>bmi</th>\n",
       "      <th>smoking_status</th>\n",
       "      <th>stroke</th>\n",
       "    </tr>\n",
       "  </thead>\n",
       "  <tbody>\n",
       "    <tr>\n",
       "      <th>67130</th>\n",
       "      <td>67131</td>\n",
       "      <td>Male</td>\n",
       "      <td>18.0</td>\n",
       "      <td>0</td>\n",
       "      <td>0</td>\n",
       "      <td>No</td>\n",
       "      <td>Private</td>\n",
       "      <td>Urban</td>\n",
       "      <td>109.06</td>\n",
       "      <td>22.1</td>\n",
       "      <td>smokes</td>\n",
       "      <td>1</td>\n",
       "    </tr>\n",
       "    <tr>\n",
       "      <th>67131</th>\n",
       "      <td>67132</td>\n",
       "      <td>Female</td>\n",
       "      <td>29.0</td>\n",
       "      <td>0</td>\n",
       "      <td>0</td>\n",
       "      <td>Yes</td>\n",
       "      <td>Private</td>\n",
       "      <td>Urban</td>\n",
       "      <td>73.02</td>\n",
       "      <td>32.1</td>\n",
       "      <td>never_smoked</td>\n",
       "      <td>0</td>\n",
       "    </tr>\n",
       "    <tr>\n",
       "      <th>67132</th>\n",
       "      <td>67133</td>\n",
       "      <td>Female</td>\n",
       "      <td>24.0</td>\n",
       "      <td>0</td>\n",
       "      <td>0</td>\n",
       "      <td>No</td>\n",
       "      <td>Private</td>\n",
       "      <td>Urban</td>\n",
       "      <td>141.18</td>\n",
       "      <td>23.3</td>\n",
       "      <td>smokes</td>\n",
       "      <td>1</td>\n",
       "    </tr>\n",
       "    <tr>\n",
       "      <th>67133</th>\n",
       "      <td>67134</td>\n",
       "      <td>Female</td>\n",
       "      <td>77.0</td>\n",
       "      <td>0</td>\n",
       "      <td>0</td>\n",
       "      <td>Yes</td>\n",
       "      <td>Self-employed</td>\n",
       "      <td>Urban</td>\n",
       "      <td>199.71</td>\n",
       "      <td>36.2</td>\n",
       "      <td>formerly smoked</td>\n",
       "      <td>1</td>\n",
       "    </tr>\n",
       "    <tr>\n",
       "      <th>67134</th>\n",
       "      <td>67135</td>\n",
       "      <td>Male</td>\n",
       "      <td>76.0</td>\n",
       "      <td>0</td>\n",
       "      <td>1</td>\n",
       "      <td>Yes</td>\n",
       "      <td>Self-employed</td>\n",
       "      <td>Urban</td>\n",
       "      <td>202.96</td>\n",
       "      <td>31.8</td>\n",
       "      <td>formerly smoked</td>\n",
       "      <td>1</td>\n",
       "    </tr>\n",
       "  </tbody>\n",
       "</table>\n",
       "</div>"
      ],
      "text/plain": [
       "           0  gender   age  hypertension  heart_disease ever_married  \\\n",
       "67130  67131    Male  18.0             0              0           No   \n",
       "67131  67132  Female  29.0             0              0          Yes   \n",
       "67132  67133  Female  24.0             0              0           No   \n",
       "67133  67134  Female  77.0             0              0          Yes   \n",
       "67134  67135    Male  76.0             0              1          Yes   \n",
       "\n",
       "           work_type Residence_type  avg_glucose_level   bmi   smoking_status  \\\n",
       "67130        Private          Urban             109.06  22.1           smokes   \n",
       "67131        Private          Urban              73.02  32.1     never_smoked   \n",
       "67132        Private          Urban             141.18  23.3           smokes   \n",
       "67133  Self-employed          Urban             199.71  36.2  formerly smoked   \n",
       "67134  Self-employed          Urban             202.96  31.8  formerly smoked   \n",
       "\n",
       "       stroke  \n",
       "67130       1  \n",
       "67131       0  \n",
       "67132       1  \n",
       "67133       1  \n",
       "67134       1  "
      ]
     },
     "execution_count": 12,
     "metadata": {},
     "output_type": "execute_result"
    }
   ],
   "source": [
    "#Amostra das 5 últimas linhas\n",
    "df.tail()"
   ]
  },
  {
   "cell_type": "code",
   "execution_count": 13,
   "id": "d2fac243",
   "metadata": {
    "colab": {
     "base_uri": "https://localhost:8080/"
    },
    "id": "d2fac243",
    "outputId": "adf5d626-3c5b-4b7f-e6e5-e0472707ed89"
   },
   "outputs": [
    {
     "data": {
      "text/plain": [
       "Index(['0', 'gender', 'age', 'hypertension', 'heart_disease', 'ever_married',\n",
       "       'work_type', 'Residence_type', 'avg_glucose_level', 'bmi',\n",
       "       'smoking_status', 'stroke'],\n",
       "      dtype='object')"
      ]
     },
     "execution_count": 13,
     "metadata": {},
     "output_type": "execute_result"
    }
   ],
   "source": [
    "#Colunas dos conjunto de dados\n",
    "df.columns"
   ]
  },
  {
   "cell_type": "code",
   "execution_count": 14,
   "id": "11813539",
   "metadata": {
    "colab": {
     "base_uri": "https://localhost:8080/"
    },
    "id": "11813539",
    "outputId": "5058e0c7-ac68-4a42-a37e-7ded6dd5b5ad"
   },
   "outputs": [
    {
     "data": {
      "text/plain": [
       "object     5\n",
       "int64      4\n",
       "float64    3\n",
       "dtype: int64"
      ]
     },
     "execution_count": 14,
     "metadata": {},
     "output_type": "execute_result"
    }
   ],
   "source": [
    "#Método value_counts() para cada tipo de dado\n",
    "df.dtypes.value_counts()"
   ]
  },
  {
   "cell_type": "code",
   "execution_count": 15,
   "id": "dbf84a8e",
   "metadata": {
    "colab": {
     "base_uri": "https://localhost:8080/"
    },
    "id": "dbf84a8e",
    "outputId": "e84d4907-1289-4405-adc0-04a6954651c8"
   },
   "outputs": [
    {
     "data": {
      "text/plain": [
       "0                      int64\n",
       "gender                object\n",
       "age                  float64\n",
       "hypertension           int64\n",
       "heart_disease          int64\n",
       "ever_married          object\n",
       "work_type             object\n",
       "Residence_type        object\n",
       "avg_glucose_level    float64\n",
       "bmi                  float64\n",
       "smoking_status        object\n",
       "stroke                 int64\n",
       "dtype: object"
      ]
     },
     "execution_count": 15,
     "metadata": {},
     "output_type": "execute_result"
    }
   ],
   "source": [
    "#Verificando o tipo de dado de cada coluna\n",
    "df.dtypes"
   ]
  },
  {
   "cell_type": "code",
   "execution_count": 16,
   "id": "_dGEX7lpH15-",
   "metadata": {
    "id": "_dGEX7lpH15-"
   },
   "outputs": [],
   "source": [
    "#Alterando algumas variáveis de inteiro para string\n",
    "df['hypertension'] = df.hypertension.astype(str)\n",
    "df['heart_disease'] = df.heart_disease.astype(str)\n",
    "df['stroke'] = df.stroke.astype(str)\n",
    "df['stroke'] = df.stroke.astype(str)"
   ]
  },
  {
   "cell_type": "code",
   "execution_count": 17,
   "id": "1QJboxvlH1_n",
   "metadata": {
    "colab": {
     "base_uri": "https://localhost:8080/"
    },
    "id": "1QJboxvlH1_n",
    "outputId": "854a70df-2682-4424-8536-ceae0cd17a1e"
   },
   "outputs": [
    {
     "data": {
      "text/plain": [
       "0                      int64\n",
       "gender                object\n",
       "age                  float64\n",
       "hypertension          object\n",
       "heart_disease         object\n",
       "ever_married          object\n",
       "work_type             object\n",
       "Residence_type        object\n",
       "avg_glucose_level    float64\n",
       "bmi                  float64\n",
       "smoking_status        object\n",
       "stroke                object\n",
       "dtype: object"
      ]
     },
     "execution_count": 17,
     "metadata": {},
     "output_type": "execute_result"
    }
   ],
   "source": [
    "df.dtypes"
   ]
  },
  {
   "cell_type": "code",
   "execution_count": 18,
   "id": "whVnpO0tsWSs",
   "metadata": {
    "colab": {
     "base_uri": "https://localhost:8080/"
    },
    "id": "whVnpO0tsWSs",
    "outputId": "cb8f16e9-24c8-4292-b4ae-68ddadd44369"
   },
   "outputs": [
    {
     "name": "stdout",
     "output_type": "stream",
     "text": [
      "Private          37806\n",
      "Self-employed    14736\n",
      "Govt_job          8260\n",
      "children          6156\n",
      "Never_worked       177\n",
      "Name: work_type, dtype: int64\n"
     ]
    }
   ],
   "source": [
    "#Verificando os tipos de trabalho e as quantidades de pacientes por tipo\n",
    "tipos_trabalho = df['work_type'].value_counts()\n",
    "print(tipos_trabalho)"
   ]
  },
  {
   "cell_type": "code",
   "execution_count": 19,
   "id": "txVghApOsWpI",
   "metadata": {
    "colab": {
     "base_uri": "https://localhost:8080/"
    },
    "id": "txVghApOsWpI",
    "outputId": "14354c18-c564-4f46-dd8b-8fdd982946ad"
   },
   "outputs": [
    {
     "name": "stdout",
     "output_type": "stream",
     "text": [
      "Urban    34023\n",
      "Rural    33112\n",
      "Name: Residence_type, dtype: int64\n"
     ]
    }
   ],
   "source": [
    "#Verificando os tipos de residência e as quantidades de pacientes por tipo\n",
    "tipos_residencia = df['Residence_type'].value_counts()\n",
    "print(tipos_residencia)"
   ]
  },
  {
   "cell_type": "code",
   "execution_count": 20,
   "id": "xMeBCxYMsWsY",
   "metadata": {
    "colab": {
     "base_uri": "https://localhost:8080/"
    },
    "id": "xMeBCxYMsWsY",
    "outputId": "06ee0a50-2977-4c0f-e792-d5873c3456d5"
   },
   "outputs": [
    {
     "name": "stdout",
     "output_type": "stream",
     "text": [
      "smokes             35963\n",
      "formerly smoked    17880\n",
      "never_smoked       13292\n",
      "Name: smoking_status, dtype: int64\n"
     ]
    }
   ],
   "source": [
    "#Verificando os status de fumante e as quantidades de pacientes por tipo\n",
    "tipos_fumante = df['smoking_status'].value_counts()\n",
    "print(tipos_fumante)"
   ]
  },
  {
   "cell_type": "code",
   "execution_count": 21,
   "id": "b1eef9fa",
   "metadata": {
    "colab": {
     "base_uri": "https://localhost:8080/"
    },
    "id": "b1eef9fa",
    "outputId": "d963b730-85c5-4a49-8614-3d34f535ce1d"
   },
   "outputs": [
    {
     "data": {
      "text/plain": [
       "0        False\n",
       "1        False\n",
       "2        False\n",
       "3        False\n",
       "4        False\n",
       "         ...  \n",
       "67130    False\n",
       "67131    False\n",
       "67132    False\n",
       "67133    False\n",
       "67134    False\n",
       "Length: 67135, dtype: bool"
      ]
     },
     "execution_count": 21,
     "metadata": {},
     "output_type": "execute_result"
    }
   ],
   "source": [
    "#Verificando se há registros duplicados\n",
    "df.duplicated()"
   ]
  },
  {
   "cell_type": "code",
   "execution_count": 22,
   "id": "7de0a669",
   "metadata": {
    "colab": {
     "base_uri": "https://localhost:8080/"
    },
    "id": "7de0a669",
    "outputId": "48c6b480-9195-42b7-c76c-b07af85458b7"
   },
   "outputs": [
    {
     "data": {
      "text/plain": [
       "0                    0\n",
       "gender               0\n",
       "age                  0\n",
       "hypertension         0\n",
       "heart_disease        0\n",
       "ever_married         0\n",
       "work_type            0\n",
       "Residence_type       0\n",
       "avg_glucose_level    0\n",
       "bmi                  0\n",
       "smoking_status       0\n",
       "stroke               0\n",
       "dtype: int64"
      ]
     },
     "execution_count": 22,
     "metadata": {},
     "output_type": "execute_result"
    }
   ],
   "source": [
    "#Verificando se há valores ausentes\n",
    "df.isnull().sum()"
   ]
  },
  {
   "cell_type": "markdown",
   "id": "c900282b",
   "metadata": {
    "id": "c900282b"
   },
   "source": [
    "Perguntas"
   ]
  },
  {
   "cell_type": "markdown",
   "id": "9e52609c",
   "metadata": {
    "id": "9e52609c"
   },
   "source": [
    "1) Quantos pacientes sofreram e não sofreram derrame (stroke), respectivamente?"
   ]
  },
  {
   "cell_type": "code",
   "execution_count": 23,
   "id": "BPKsj2TWCRRe",
   "metadata": {
    "colab": {
     "base_uri": "https://localhost:8080/"
    },
    "id": "BPKsj2TWCRRe",
    "outputId": "b57f6b17-1d5a-4938-d6f7-5593caec5e5e"
   },
   "outputs": [
    {
     "name": "stdout",
     "output_type": "stream",
     "text": [
      "1    40287\n",
      "0    26848\n",
      "Name: stroke, dtype: int64\n"
     ]
    }
   ],
   "source": [
    "#Filtrando o dataset por \"AVC\" (1=Sim 2=Não) e calculando as quantidades\n",
    "df1 = df['stroke'].value_counts()\n",
    "print(df1)"
   ]
  },
  {
   "cell_type": "code",
   "execution_count": 24,
   "id": "pw138J5WC3jl",
   "metadata": {
    "colab": {
     "base_uri": "https://localhost:8080/",
     "height": 431
    },
    "id": "pw138J5WC3jl",
    "outputId": "e28b1138-3437-40e5-db56-6063a8737946"
   },
   "outputs": [
    {
     "data": {
      "image/png": "[encoded data removed]",
      "text/plain": [
       "<Figure size 800x400 with 1 Axes>"
      ]
     },
     "metadata": {},
     "output_type": "display_data"
    }
   ],
   "source": [
    "#Gráfico com matplotlib\n",
    "df1.plot(kind = 'bar', \n",
    "                title = 'Quantidade de Pacientes que sofreram AVC',\n",
    "                ylabel = 'Quantidade de Pacientes', \n",
    "                xlabel = '\\nAVC',\n",
    "                colormap = 'jet',\n",
    "                figsize=(8,4))\n",
    "plt.xticks(rotation = 0)\n",
    "plt.show()"
   ]
  },
  {
   "cell_type": "markdown",
   "id": "9972a333",
   "metadata": {
    "id": "9972a333"
   },
   "source": [
    "2) Quantos pacientes tiveram derrame por tipo de trabalho (work_type)?"
   ]
  },
  {
   "cell_type": "code",
   "execution_count": 25,
   "id": "0j_8ezsTE7Ij",
   "metadata": {
    "id": "0j_8ezsTE7Ij"
   },
   "outputs": [],
   "source": [
    "#Filtrando o dataset por pacientes que tiveram derrame\n",
    "df_derrame = df[df['stroke'] == '1']"
   ]
  },
  {
   "cell_type": "code",
   "execution_count": 26,
   "id": "Utws1Kb1D8ak",
   "metadata": {
    "id": "Utws1Kb1D8ak"
   },
   "outputs": [],
   "source": [
    "#Agrupando por tipo de trabalho, calculando as quantidades de pacientes por tipo e ordenando de forma decrescente\n",
    "df_derrame_tipo_trabalho = df_derrame.groupby('work_type')['stroke'].value_counts().sort_values(ascending = False)"
   ]
  },
  {
   "cell_type": "code",
   "execution_count": 27,
   "id": "42gVZ3PVG6s_",
   "metadata": {
    "colab": {
     "base_uri": "https://localhost:8080/"
    },
    "id": "42gVZ3PVG6s_",
    "outputId": "87123bff-700d-4897-f785-cf65e1d912d8"
   },
   "outputs": [
    {
     "name": "stdout",
     "output_type": "stream",
     "text": [
      "work_type      stroke\n",
      "Private        1         23711\n",
      "Self-employed  1         10807\n",
      "Govt_job       1          5164\n",
      "children       1           520\n",
      "Never_worked   1            85\n",
      "Name: stroke, dtype: int64\n"
     ]
    }
   ],
   "source": [
    "#Pacientes que sofreram derrame por tipo de trabalho\n",
    "print(df_derrame_tipo_trabalho)"
   ]
  },
  {
   "cell_type": "code",
   "execution_count": 28,
   "id": "nWNayCHMD8g8",
   "metadata": {
    "colab": {
     "base_uri": "https://localhost:8080/",
     "height": 595
    },
    "id": "nWNayCHMD8g8",
    "outputId": "a56e7cb5-c314-4ae8-b33f-f3c8476e4fdc"
   },
   "outputs": [
    {
     "data": {
      "image/png": "[encoded data removed]",
      "text/plain": [
       "<Figure size 800x400 with 1 Axes>"
      ]
     },
     "metadata": {},
     "output_type": "display_data"
    }
   ],
   "source": [
    "#Gráfico com matplotlib\n",
    "df_derrame_tipo_trabalho.plot(kind = 'bar', \n",
    "                title = 'Quantidade de Pacientes que sofreram AVC por Tipo de Trabalho',\n",
    "                ylabel = 'Quantidade de Pacientes', \n",
    "                xlabel = '\\nTipo de Trabalho',\n",
    "                colormap = 'jet',\n",
    "                figsize=(8,4))\n",
    "plt.xticks(rotation = 75)\n",
    "plt.show()"
   ]
  },
  {
   "cell_type": "markdown",
   "id": "145feba8",
   "metadata": {
    "id": "145feba8"
   },
   "source": [
    "3) Quantos pacientes sofreram derrame e trabalhavam respectivamente, no setor privado,\n",
    "de forma independente, no governo e quantas são crianças?"
   ]
  },
  {
   "cell_type": "code",
   "execution_count": 29,
   "id": "WEbfUxrJ5UT5",
   "metadata": {
    "colab": {
     "base_uri": "https://localhost:8080/"
    },
    "id": "WEbfUxrJ5UT5",
    "outputId": "bda49920-b8d4-4480-eeaf-b4cc9af5d9b7"
   },
   "outputs": [
    {
     "name": "stdout",
     "output_type": "stream",
     "text": [
      "work_type      stroke\n",
      "Private        1         23711\n",
      "Self-employed  1         10807\n",
      "Govt_job       1          5164\n",
      "children       1           520\n",
      "Never_worked   1            85\n",
      "Name: stroke, dtype: int64\n"
     ]
    }
   ],
   "source": [
    "#Agrupando os pacientes que sofreram derrame por tipo de trabalho, verificando suas quantidades e ordenando de forma decrescente\n",
    "df_derrame_tipo_trabalho = df_derrame.groupby('work_type')['stroke'].value_counts().sort_values(ascending=False)\n",
    "print(df_derrame_tipo_trabalho)"
   ]
  },
  {
   "cell_type": "code",
   "execution_count": 30,
   "id": "nMyLRrhWBASi",
   "metadata": {
    "colab": {
     "base_uri": "https://localhost:8080/",
     "height": 595
    },
    "id": "nMyLRrhWBASi",
    "outputId": "adc63e15-6c6c-42af-f919-0f24134b2288"
   },
   "outputs": [
    {
     "data": {
      "image/png": "[encoded data removed]",
      "text/plain": [
       "<Figure size 800x400 with 1 Axes>"
      ]
     },
     "metadata": {},
     "output_type": "display_data"
    }
   ],
   "source": [
    "df_derrame_tipo_trabalho.plot(kind = 'bar', \n",
    "                title = 'Quantidade de Pacientes que sofreram AVC por Tipo de Trabalho',\n",
    "                ylabel = 'Quantidade de Pacientes', \n",
    "                xlabel = '\\nTipo de Trabalho',\n",
    "                colormap = 'jet',\n",
    "                figsize=(8,4))\n",
    "plt.xticks(rotation = 75)\n",
    "plt.show()"
   ]
  },
  {
   "cell_type": "markdown",
   "id": "d7c02929",
   "metadata": {
    "id": "d7c02929"
   },
   "source": [
    "4) Qual a proporção, por gênero, de participantes do estudo? A maioria dos participantes é de qual gênero?"
   ]
  },
  {
   "cell_type": "code",
   "execution_count": 31,
   "id": "WgQ1c2vfx2bf",
   "metadata": {
    "colab": {
     "base_uri": "https://localhost:8080/"
    },
    "id": "WgQ1c2vfx2bf",
    "outputId": "180ddc80-4c9b-4f6f-e15a-ef2c0abc5511"
   },
   "outputs": [
    {
     "name": "stdout",
     "output_type": "stream",
     "text": [
      "Female    39530\n",
      "Male      27594\n",
      "Other        11\n",
      "Name: gender, dtype: int64\n"
     ]
    }
   ],
   "source": [
    "#Filtrando por gênero e calculando a quantidade por gênero\n",
    "df_genero = df['gender'].value_counts()\n",
    "print(df_genero)"
   ]
  },
  {
   "cell_type": "code",
   "execution_count": 32,
   "id": "ggvlx2y1x2e1",
   "metadata": {
    "colab": {
     "base_uri": "https://localhost:8080/"
    },
    "id": "ggvlx2y1x2e1",
    "outputId": "bf2e9d00-dd0b-45b1-f21a-1e37d196f645"
   },
   "outputs": [
    {
     "name": "stdout",
     "output_type": "stream",
     "text": [
      "67135\n"
     ]
    }
   ],
   "source": [
    "#Calculando o total de participantes no estudo\n",
    "df_total = df_genero.sum()\n",
    "print(df_total)"
   ]
  },
  {
   "cell_type": "code",
   "execution_count": 33,
   "id": "bfosYf77x2hr",
   "metadata": {
    "id": "bfosYf77x2hr"
   },
   "outputs": [],
   "source": [
    "#Calculando a porcentagem de cada gênero\n",
    "df_prop = (df_genero / df_total) *100"
   ]
  },
  {
   "cell_type": "code",
   "execution_count": 34,
   "id": "ZS8EjVCVx2k1",
   "metadata": {
    "colab": {
     "base_uri": "https://localhost:8080/"
    },
    "id": "ZS8EjVCVx2k1",
    "outputId": "8e35e26b-e1d0-4dbe-af26-ebed622244c4"
   },
   "outputs": [
    {
     "name": "stdout",
     "output_type": "stream",
     "text": [
      "Female    58.881358\n",
      "Male      41.102257\n",
      "Other      0.016385\n",
      "Name: gender, dtype: float64\n"
     ]
    }
   ],
   "source": [
    "#Porcentagem de participantes por gênero\n",
    "print(df_prop)"
   ]
  },
  {
   "cell_type": "code",
   "execution_count": 35,
   "id": "Cg3oaQPszUTG",
   "metadata": {
    "colab": {
     "base_uri": "https://localhost:8080/"
    },
    "id": "Cg3oaQPszUTG",
    "outputId": "1e2fb908-ed8a-4430-c803-a77ed56823fb"
   },
   "outputs": [
    {
     "name": "stdout",
     "output_type": "stream",
     "text": [
      "A maioria dos participantes do estudo é do gênero: Female\n"
     ]
    }
   ],
   "source": [
    "#Destacando o gênero com maior participação\n",
    "df_prop_maioria = df_prop.idxmax()\n",
    "print('A maioria dos participantes do estudo é do gênero:', df_prop_maioria)"
   ]
  },
  {
   "cell_type": "code",
   "execution_count": 36,
   "id": "WogomW0iAWGG",
   "metadata": {
    "colab": {
     "base_uri": "https://localhost:8080/",
     "height": 488
    },
    "id": "WogomW0iAWGG",
    "outputId": "bbd70e4f-3bb1-4255-e10e-f1d8f773a43e"
   },
   "outputs": [
    {
     "data": {
      "image/png": "[encoded data removed]",
      "text/plain": [
       "<Figure size 800x400 with 1 Axes>"
      ]
     },
     "metadata": {},
     "output_type": "display_data"
    }
   ],
   "source": [
    "#Gráfico com matplotlib\n",
    "df_prop.plot(kind = 'bar', \n",
    "                title = 'Proporção de Participantes por Gênero',\n",
    "                ylabel = 'Quantidade de Pacientes', \n",
    "                xlabel = '\\nGênero',\n",
    "                colormap = 'jet',\n",
    "                figsize=(8,4))\n",
    "plt.xticks(rotation = 75)\n",
    "plt.show()"
   ]
  },
  {
   "cell_type": "markdown",
   "id": "e01adfd6",
   "metadata": {
    "id": "e01adfd6"
   },
   "source": [
    "5) Quem tem mais probabilidade de sofrer derrame: hipertensos ou não-hipertensos? Qual sua conclusão?"
   ]
  },
  {
   "cell_type": "code",
   "execution_count": 37,
   "id": "85j1DquuTPwf",
   "metadata": {
    "colab": {
     "base_uri": "https://localhost:8080/"
    },
    "id": "85j1DquuTPwf",
    "outputId": "bd83c098-ec34-4b6c-cda3-02dfc1e7c945"
   },
   "outputs": [
    {
     "name": "stdout",
     "output_type": "stream",
     "text": [
      "hypertension  stroke\n",
      "0             1         31470\n",
      "              0         24648\n",
      "1             1          8817\n",
      "              0          2200\n",
      "Name: stroke, dtype: int64\n"
     ]
    }
   ],
   "source": [
    "#Verificando casos de derrame entre hipertensos e não-hipertensos\n",
    "df_hipertensao_derrame = df.groupby('hypertension')['stroke'].value_counts()\n",
    "print(df_hipertensao_derrame)"
   ]
  },
  {
   "cell_type": "code",
   "execution_count": 38,
   "id": "XHrxr16e2e53",
   "metadata": {
    "colab": {
     "base_uri": "https://localhost:8080/"
    },
    "id": "XHrxr16e2e53",
    "outputId": "7eaae509-6ee9-431e-84c7-848f5929f54e"
   },
   "outputs": [
    {
     "name": "stdout",
     "output_type": "stream",
     "text": [
      "0    56118\n",
      "1    11017\n",
      "Name: hypertension, dtype: int64\n"
     ]
    }
   ],
   "source": [
    "#Filtrando por hipertensão e calculando a quantidade de pacientes\n",
    "df_hipertensao = df['hypertension'].value_counts()\n",
    "print(df_hipertensao)"
   ]
  },
  {
   "cell_type": "code",
   "execution_count": 39,
   "id": "kUX5GBp8op-4",
   "metadata": {
    "id": "kUX5GBp8op-4"
   },
   "outputs": [],
   "source": [
    "#Filtrando os hipertensos e que sofreram derrame\n",
    "df_hipertenso_com_derrame = df[(df.hypertension == '1') & (df.stroke == '1')]\n"
   ]
  },
  {
   "cell_type": "code",
   "execution_count": 40,
   "id": "PSXRhvFPqAhB",
   "metadata": {
    "colab": {
     "base_uri": "https://localhost:8080/"
    },
    "id": "PSXRhvFPqAhB",
    "outputId": "bb2438e5-dc56-4805-8aea-3701c6fee35e"
   },
   "outputs": [
    {
     "name": "stdout",
     "output_type": "stream",
     "text": [
      "hypertension  stroke\n",
      "1             1         8817\n",
      "Name: stroke, dtype: int64\n"
     ]
    }
   ],
   "source": [
    "#Agrupando por hipertenso e calculando quantos sofreram derrame\n",
    "df5 = df_hipertenso_com_derrame.groupby('hypertension')['stroke'].value_counts()\n",
    "print(df5)"
   ]
  },
  {
   "cell_type": "code",
   "execution_count": 41,
   "id": "e3IHQp4o2fHW",
   "metadata": {
    "colab": {
     "base_uri": "https://localhost:8080/"
    },
    "id": "e3IHQp4o2fHW",
    "outputId": "c5ded1c9-8292-496f-eb7e-e1b18e8d8f82"
   },
   "outputs": [
    {
     "name": "stdout",
     "output_type": "stream",
     "text": [
      "80.03086139602432\n"
     ]
    }
   ],
   "source": [
    "#Calculando a porcentagem de ser hipertenso e sofrer derrame\n",
    "df_prop_hipertensao = (8817 / 11017) *100\n",
    "print(df_prop_hipertensao)"
   ]
  },
  {
   "cell_type": "code",
   "execution_count": 42,
   "id": "K4nzSvYnTsan",
   "metadata": {
    "colab": {
     "base_uri": "https://localhost:8080/"
    },
    "id": "K4nzSvYnTsan",
    "outputId": "fa563dc3-b018-4944-ff0f-641c9f8e9318"
   },
   "outputs": [
    {
     "name": "stdout",
     "output_type": "stream",
     "text": [
      "56.07826365871913\n"
     ]
    }
   ],
   "source": [
    "#Calculando a porcentagem de não ser hipertenso e sofrer derrame\n",
    "df_prop_nao_hipertensao = (31470 / 56118) *100\n",
    "print(df_prop_nao_hipertensao)"
   ]
  },
  {
   "cell_type": "code",
   "execution_count": 43,
   "id": "Y6ddS--a3LiG",
   "metadata": {
    "colab": {
     "base_uri": "https://localhost:8080/"
    },
    "id": "Y6ddS--a3LiG",
    "outputId": "1e6dd586-8eff-47e0-bea3-1dd09217fcec"
   },
   "outputs": [
    {
     "name": "stdout",
     "output_type": "stream",
     "text": [
      "Os hipertensos têm maior probabilidade de sofrer derrame conforme este conjunto de dados\n"
     ]
    }
   ],
   "source": [
    "#Destacando quem tem maior probabilidade de sofer derrame\n",
    "print('Os hipertensos têm maior probabilidade de sofrer derrame conforme este conjunto de dados')"
   ]
  },
  {
   "cell_type": "markdown",
   "id": "f4630606",
   "metadata": {
    "id": "f4630606"
   },
   "source": [
    "6) Qual o número de pessoas que sofreram derrame por idade? \n",
    "Com qual idade o maior número de pessoas do conjunto de dados sofreu derrame?"
   ]
  },
  {
   "cell_type": "code",
   "execution_count": 44,
   "id": "4uLM0jkX01TT",
   "metadata": {
    "colab": {
     "base_uri": "https://localhost:8080/"
    },
    "id": "4uLM0jkX01TT",
    "outputId": "614b9fd6-a616-4a00-9516-6c70c03cbd08"
   },
   "outputs": [
    {
     "name": "stdout",
     "output_type": "stream",
     "text": [
      "age    stroke\n",
      "79.00  1         2916\n",
      "78.00  1         2279\n",
      "80.00  1         1858\n",
      "81.00  1         1738\n",
      "82.00  1         1427\n",
      "                 ... \n",
      "13.00  1          131\n",
      "12.00  1          119\n",
      "11.00  1           95\n",
      "10.00  1           62\n",
      "1.32   1            1\n",
      "Name: stroke, Length: 74, dtype: int64\n"
     ]
    }
   ],
   "source": [
    "#Agrupando os pacientes que sofreram derrame por idade, verificando suas quantidades e ordenando de forma decrescente\n",
    "df_derrame_idade = df_derrame.groupby('age')['stroke'].value_counts().sort_values(ascending = False)\n",
    "print(df_derrame_idade)"
   ]
  },
  {
   "cell_type": "code",
   "execution_count": 45,
   "id": "ok1cedgL01gb",
   "metadata": {
    "colab": {
     "base_uri": "https://localhost:8080/"
    },
    "id": "ok1cedgL01gb",
    "outputId": "f4170cb3-494d-4682-ec50-1413be04c918"
   },
   "outputs": [
    {
     "name": "stdout",
     "output_type": "stream",
     "text": [
      "A idade em que houve o maior número de pessoas que sofreu derrame: (79.0, '1')\n"
     ]
    }
   ],
   "source": [
    "#Destacando a idade em que houve maior número de pessoas que sofreram derrame\n",
    "df_derrame_idade_maior = df_derrame_idade.idxmax()\n",
    "print('A idade em que houve o maior número de pessoas que sofreu derrame:', df_derrame_idade_maior)"
   ]
  },
  {
   "cell_type": "markdown",
   "id": "c4e70ced",
   "metadata": {
    "id": "c4e70ced"
   },
   "source": [
    "7) Quantas pessoas sofreram derrame após os 50 anos?"
   ]
  },
  {
   "cell_type": "code",
   "execution_count": 46,
   "id": "2zWgenuyu6BW",
   "metadata": {
    "id": "2zWgenuyu6BW"
   },
   "outputs": [],
   "source": [
    "#Filtrando pela idade maior que 50 anos\n",
    "df_derrame_mais50 = df_derrame[df_derrame['age'] >50]"
   ]
  },
  {
   "cell_type": "code",
   "execution_count": 47,
   "id": "9_rTsuYTvsp_",
   "metadata": {
    "colab": {
     "base_uri": "https://localhost:8080/"
    },
    "id": "9_rTsuYTvsp_",
    "outputId": "a15f080b-2711-4e19-865f-aa7a204dd033"
   },
   "outputs": [
    {
     "name": "stdout",
     "output_type": "stream",
     "text": [
      "age   stroke\n",
      "51.0  1          643\n",
      "52.0  1          580\n",
      "53.0  1          409\n",
      "54.0  1          544\n",
      "55.0  1          387\n",
      "56.0  1          569\n",
      "57.0  1          775\n",
      "58.0  1          645\n",
      "59.0  1          647\n",
      "60.0  1          579\n",
      "61.0  1          646\n",
      "62.0  1          550\n",
      "63.0  1          942\n",
      "64.0  1          376\n",
      "65.0  1          716\n",
      "66.0  1          848\n",
      "67.0  1          801\n",
      "68.0  1          688\n",
      "69.0  1          677\n",
      "70.0  1          881\n",
      "71.0  1          667\n",
      "72.0  1          709\n",
      "73.0  1          759\n",
      "74.0  1          987\n",
      "75.0  1          809\n",
      "76.0  1          892\n",
      "77.0  1          994\n",
      "78.0  1         2279\n",
      "79.0  1         2916\n",
      "80.0  1         1858\n",
      "81.0  1         1738\n",
      "82.0  1         1427\n",
      "Name: stroke, dtype: int64\n"
     ]
    }
   ],
   "source": [
    "#Agrupando por idade e calculando as quantidades de pacientes por idade dentre os que sofreram derrame\n",
    "df7 = df_derrame_mais50.groupby('age')['stroke'].value_counts()\n",
    "print(df7)"
   ]
  },
  {
   "cell_type": "code",
   "execution_count": 48,
   "id": "Q25UtNTxsadL",
   "metadata": {
    "colab": {
     "base_uri": "https://localhost:8080/"
    },
    "id": "Q25UtNTxsadL",
    "outputId": "6d42ea29-a47f-41a3-97af-047cb623a125"
   },
   "outputs": [
    {
     "name": "stdout",
     "output_type": "stream",
     "text": [
      "28938\n"
     ]
    }
   ],
   "source": [
    "#Calculando o total de pessoas que sofreram derrame após os 50 anos\n",
    "df_derrame_pos50 = df7.sum()\n",
    "print(df_derrame_pos50)"
   ]
  },
  {
   "cell_type": "markdown",
   "id": "5da1a505",
   "metadata": {
    "id": "5da1a505"
   },
   "source": [
    "8) Qual o nível médio de glicose para pessoas que, respectivamente, sofreram e não sofreram derrame."
   ]
  },
  {
   "cell_type": "code",
   "execution_count": 49,
   "id": "q4qOmY3_AksK",
   "metadata": {
    "colab": {
     "base_uri": "https://localhost:8080/"
    },
    "id": "q4qOmY3_AksK",
    "outputId": "71818605-0e5a-4ac5-97f8-f2bc0c3655d8"
   },
   "outputs": [
    {
     "name": "stdout",
     "output_type": "stream",
     "text": [
      "stroke\n",
      "0    103.602731\n",
      "1    119.953070\n",
      "Name: avg_glucose_level, dtype: float64\n"
     ]
    }
   ],
   "source": [
    "#Agrupando por derrame e calculando a média de nível médio de glicose para quem sofreu e não sofreu derrame\n",
    "df_glicose = df.groupby('stroke')['avg_glucose_level'].mean()\n",
    "print(df_glicose)"
   ]
  },
  {
   "cell_type": "code",
   "execution_count": 50,
   "id": "df1hOSMTBnmb",
   "metadata": {
    "colab": {
     "base_uri": "https://localhost:8080/",
     "height": 430
    },
    "id": "df1hOSMTBnmb",
    "outputId": "bfabb926-58bb-4e98-8cc6-471f0e03e754"
   },
   "outputs": [
    {
     "data": {
      "image/png": "[encoded data removed]",
      "text/plain": [
       "<Figure size 800x400 with 1 Axes>"
      ]
     },
     "metadata": {},
     "output_type": "display_data"
    }
   ],
   "source": [
    "#Gráfico com matplotlib\n",
    "df_glicose.plot(kind = 'bar', \n",
    "                title = 'Nível Médio de Glicose por AVC',\n",
    "                ylabel = 'Nível Médio de Glicose', \n",
    "                xlabel = '\\nAVC',\n",
    "                colormap = 'jet',\n",
    "                figsize=(8,4))\n",
    "plt.xticks(rotation = 75)\n",
    "plt.show()"
   ]
  },
  {
   "cell_type": "markdown",
   "id": "3eec5db2",
   "metadata": {
    "id": "3eec5db2"
   },
   "source": [
    "9) Qual é o BMI (IMC = índice de massa corpórea) médio de quem sofreu e não sofreu derrame?"
   ]
  },
  {
   "cell_type": "code",
   "execution_count": 51,
   "id": "edR03JxrAltb",
   "metadata": {
    "colab": {
     "base_uri": "https://localhost:8080/"
    },
    "id": "edR03JxrAltb",
    "outputId": "d44c1501-1c18-4ff6-e11f-5d251c17f0b4"
   },
   "outputs": [
    {
     "name": "stdout",
     "output_type": "stream",
     "text": [
      "stroke\n",
      "0    27.989679\n",
      "1    29.942491\n",
      "Name: bmi, dtype: float64\n"
     ]
    }
   ],
   "source": [
    "#Agrupando por derrame e calculando a média de Índice de Massa Corpórea para quem sofreu e não sofreu derrame\n",
    "df_bmi = df.groupby('stroke')['bmi'].mean()\n",
    "print(df_bmi)"
   ]
  },
  {
   "cell_type": "code",
   "execution_count": 52,
   "id": "VEbjgTACCDNu",
   "metadata": {
    "colab": {
     "base_uri": "https://localhost:8080/",
     "height": 432
    },
    "id": "VEbjgTACCDNu",
    "outputId": "c3e6acfd-1726-4e8c-bd23-056c027349de"
   },
   "outputs": [
    {
     "data": {
      "image/png": "[encoded data removed]",
      "text/plain": [
       "<Figure size 800x400 with 1 Axes>"
      ]
     },
     "metadata": {},
     "output_type": "display_data"
    }
   ],
   "source": [
    "#Gráfico com matplotlib\n",
    "df_bmi.plot(kind = 'bar', \n",
    "                title = 'Índice de Massa Corpórea por AVC',\n",
    "                ylabel = 'Índice de Massa Corpórea', \n",
    "                xlabel = '\\nAVC',\n",
    "                colormap = 'jet',\n",
    "                figsize=(8,4))\n",
    "plt.xticks(rotation = 75)\n",
    "plt.show()"
   ]
  },
  {
   "cell_type": "markdown",
   "id": "155d2851",
   "metadata": {
    "id": "155d2851"
   },
   "source": [
    "Construção de um modelo de árvore de decisão para prever a chance de \n",
    "derrame (stroke) a partir de algumas variáveis contínuas/categóricas:\n",
    "idade, BMI, hipertensão, doença do coração, nível médio de\n",
    "glicose."
   ]
  },
  {
   "cell_type": "code",
   "execution_count": 53,
   "id": "Sd1NNUtPHT1u",
   "metadata": {
    "colab": {
     "base_uri": "https://localhost:8080/",
     "height": 206
    },
    "id": "Sd1NNUtPHT1u",
    "outputId": "f79d2277-0893-4f54-c993-6a97a1a6205d"
   },
   "outputs": [
    {
     "data": {
      "text/html": [
       "<div>\n",
       "<style scoped>\n",
       "    .dataframe tbody tr th:only-of-type {\n",
       "        vertical-align: middle;\n",
       "    }\n",
       "\n",
       "    .dataframe tbody tr th {\n",
       "        vertical-align: top;\n",
       "    }\n",
       "\n",
       "    .dataframe thead th {\n",
       "        text-align: right;\n",
       "    }\n",
       "</style>\n",
       "<table border=\"1\" class=\"dataframe\">\n",
       "  <thead>\n",
       "    <tr style=\"text-align: right;\">\n",
       "      <th></th>\n",
       "      <th>0</th>\n",
       "      <th>gender</th>\n",
       "      <th>age</th>\n",
       "      <th>hypertension</th>\n",
       "      <th>heart_disease</th>\n",
       "      <th>ever_married</th>\n",
       "      <th>work_type</th>\n",
       "      <th>Residence_type</th>\n",
       "      <th>avg_glucose_level</th>\n",
       "      <th>bmi</th>\n",
       "      <th>smoking_status</th>\n",
       "      <th>stroke</th>\n",
       "    </tr>\n",
       "  </thead>\n",
       "  <tbody>\n",
       "    <tr>\n",
       "      <th>0</th>\n",
       "      <td>1</td>\n",
       "      <td>Female</td>\n",
       "      <td>18.0</td>\n",
       "      <td>0</td>\n",
       "      <td>0</td>\n",
       "      <td>No</td>\n",
       "      <td>Private</td>\n",
       "      <td>Urban</td>\n",
       "      <td>94.19</td>\n",
       "      <td>12.12</td>\n",
       "      <td>smokes</td>\n",
       "      <td>1</td>\n",
       "    </tr>\n",
       "    <tr>\n",
       "      <th>1</th>\n",
       "      <td>2</td>\n",
       "      <td>Male</td>\n",
       "      <td>58.0</td>\n",
       "      <td>1</td>\n",
       "      <td>0</td>\n",
       "      <td>Yes</td>\n",
       "      <td>Private</td>\n",
       "      <td>Rural</td>\n",
       "      <td>154.24</td>\n",
       "      <td>33.70</td>\n",
       "      <td>never_smoked</td>\n",
       "      <td>0</td>\n",
       "    </tr>\n",
       "    <tr>\n",
       "      <th>2</th>\n",
       "      <td>3</td>\n",
       "      <td>Female</td>\n",
       "      <td>36.0</td>\n",
       "      <td>0</td>\n",
       "      <td>0</td>\n",
       "      <td>Yes</td>\n",
       "      <td>Govt_job</td>\n",
       "      <td>Urban</td>\n",
       "      <td>72.63</td>\n",
       "      <td>24.70</td>\n",
       "      <td>smokes</td>\n",
       "      <td>0</td>\n",
       "    </tr>\n",
       "    <tr>\n",
       "      <th>3</th>\n",
       "      <td>4</td>\n",
       "      <td>Female</td>\n",
       "      <td>62.0</td>\n",
       "      <td>0</td>\n",
       "      <td>0</td>\n",
       "      <td>Yes</td>\n",
       "      <td>Self-employed</td>\n",
       "      <td>Rural</td>\n",
       "      <td>85.52</td>\n",
       "      <td>31.20</td>\n",
       "      <td>formerly smoked</td>\n",
       "      <td>0</td>\n",
       "    </tr>\n",
       "    <tr>\n",
       "      <th>4</th>\n",
       "      <td>5</td>\n",
       "      <td>Female</td>\n",
       "      <td>82.0</td>\n",
       "      <td>0</td>\n",
       "      <td>0</td>\n",
       "      <td>Yes</td>\n",
       "      <td>Private</td>\n",
       "      <td>Rural</td>\n",
       "      <td>59.32</td>\n",
       "      <td>33.20</td>\n",
       "      <td>smokes</td>\n",
       "      <td>1</td>\n",
       "    </tr>\n",
       "  </tbody>\n",
       "</table>\n",
       "</div>"
      ],
      "text/plain": [
       "   0  gender   age hypertension heart_disease ever_married      work_type  \\\n",
       "0  1  Female  18.0            0             0           No        Private   \n",
       "1  2    Male  58.0            1             0          Yes        Private   \n",
       "2  3  Female  36.0            0             0          Yes       Govt_job   \n",
       "3  4  Female  62.0            0             0          Yes  Self-employed   \n",
       "4  5  Female  82.0            0             0          Yes        Private   \n",
       "\n",
       "  Residence_type  avg_glucose_level    bmi   smoking_status stroke  \n",
       "0          Urban              94.19  12.12           smokes      1  \n",
       "1          Rural             154.24  33.70     never_smoked      0  \n",
       "2          Urban              72.63  24.70           smokes      0  \n",
       "3          Rural              85.52  31.20  formerly smoked      0  \n",
       "4          Rural              59.32  33.20           smokes      1  "
      ]
     },
     "execution_count": 53,
     "metadata": {},
     "output_type": "execute_result"
    }
   ],
   "source": [
    "#Visualizando o dataser\n",
    "df.head()"
   ]
  },
  {
   "cell_type": "code",
   "execution_count": 54,
   "id": "kjS8zZpNHXiN",
   "metadata": {
    "colab": {
     "base_uri": "https://localhost:8080/"
    },
    "id": "kjS8zZpNHXiN",
    "outputId": "0b0a70d1-f108-4f32-ab0a-18b74d01e82f"
   },
   "outputs": [
    {
     "data": {
      "text/plain": [
       "0                      int64\n",
       "gender                object\n",
       "age                  float64\n",
       "hypertension          object\n",
       "heart_disease         object\n",
       "ever_married          object\n",
       "work_type             object\n",
       "Residence_type        object\n",
       "avg_glucose_level    float64\n",
       "bmi                  float64\n",
       "smoking_status        object\n",
       "stroke                object\n",
       "dtype: object"
      ]
     },
     "execution_count": 54,
     "metadata": {},
     "output_type": "execute_result"
    }
   ],
   "source": [
    "#Verificando os tipos das variáveis\n",
    "df.dtypes"
   ]
  },
  {
   "cell_type": "code",
   "execution_count": 55,
   "id": "VUaQ4dWKHx-d",
   "metadata": {
    "id": "VUaQ4dWKHx-d"
   },
   "outputs": [],
   "source": [
    "#Convertendo algumas variáveis de object para numéricas\n",
    "df['hypertension'] = df.hypertension.astype(int)\n",
    "df['heart_disease'] = df.heart_disease.astype(int)\n",
    "df['stroke'] = df.stroke.astype(int)"
   ]
  },
  {
   "cell_type": "code",
   "execution_count": 56,
   "id": "B7XTNKkgJJML",
   "metadata": {
    "colab": {
     "base_uri": "https://localhost:8080/"
    },
    "id": "B7XTNKkgJJML",
    "outputId": "8949fbe9-f516-4482-b384-02ac977f4738"
   },
   "outputs": [
    {
     "data": {
      "text/plain": [
       "0                      int64\n",
       "gender                object\n",
       "age                  float64\n",
       "hypertension           int32\n",
       "heart_disease          int32\n",
       "ever_married          object\n",
       "work_type             object\n",
       "Residence_type        object\n",
       "avg_glucose_level    float64\n",
       "bmi                  float64\n",
       "smoking_status        object\n",
       "stroke                 int32\n",
       "dtype: object"
      ]
     },
     "execution_count": 56,
     "metadata": {},
     "output_type": "execute_result"
    }
   ],
   "source": [
    "#Verificando os tipos das variáveis\n",
    "df.dtypes"
   ]
  },
  {
   "cell_type": "code",
   "execution_count": 57,
   "id": "NRHNtgxB1DDl",
   "metadata": {
    "colab": {
     "base_uri": "https://localhost:8080/",
     "height": 300
    },
    "id": "NRHNtgxB1DDl",
    "outputId": "98166e95-aad1-41cc-b8e9-b5357e278493"
   },
   "outputs": [
    {
     "data": {
      "text/html": [
       "<div>\n",
       "<style scoped>\n",
       "    .dataframe tbody tr th:only-of-type {\n",
       "        vertical-align: middle;\n",
       "    }\n",
       "\n",
       "    .dataframe tbody tr th {\n",
       "        vertical-align: top;\n",
       "    }\n",
       "\n",
       "    .dataframe thead th {\n",
       "        text-align: right;\n",
       "    }\n",
       "</style>\n",
       "<table border=\"1\" class=\"dataframe\">\n",
       "  <thead>\n",
       "    <tr style=\"text-align: right;\">\n",
       "      <th></th>\n",
       "      <th>0</th>\n",
       "      <th>age</th>\n",
       "      <th>hypertension</th>\n",
       "      <th>heart_disease</th>\n",
       "      <th>avg_glucose_level</th>\n",
       "      <th>bmi</th>\n",
       "      <th>stroke</th>\n",
       "    </tr>\n",
       "  </thead>\n",
       "  <tbody>\n",
       "    <tr>\n",
       "      <th>count</th>\n",
       "      <td>67135.000000</td>\n",
       "      <td>67135.000000</td>\n",
       "      <td>67135.000000</td>\n",
       "      <td>67135.000000</td>\n",
       "      <td>67135.000000</td>\n",
       "      <td>67135.000000</td>\n",
       "      <td>67135.000000</td>\n",
       "    </tr>\n",
       "    <tr>\n",
       "      <th>mean</th>\n",
       "      <td>33568.000000</td>\n",
       "      <td>51.959508</td>\n",
       "      <td>0.164102</td>\n",
       "      <td>0.101423</td>\n",
       "      <td>113.414396</td>\n",
       "      <td>29.161540</td>\n",
       "      <td>0.600089</td>\n",
       "    </tr>\n",
       "    <tr>\n",
       "      <th>std</th>\n",
       "      <td>19380.349498</td>\n",
       "      <td>23.413054</td>\n",
       "      <td>0.370371</td>\n",
       "      <td>0.301890</td>\n",
       "      <td>51.258817</td>\n",
       "      <td>7.102057</td>\n",
       "      <td>0.489883</td>\n",
       "    </tr>\n",
       "    <tr>\n",
       "      <th>min</th>\n",
       "      <td>1.000000</td>\n",
       "      <td>0.080000</td>\n",
       "      <td>0.000000</td>\n",
       "      <td>0.000000</td>\n",
       "      <td>55.000000</td>\n",
       "      <td>10.100000</td>\n",
       "      <td>0.000000</td>\n",
       "    </tr>\n",
       "    <tr>\n",
       "      <th>25%</th>\n",
       "      <td>16784.500000</td>\n",
       "      <td>35.000000</td>\n",
       "      <td>0.000000</td>\n",
       "      <td>0.000000</td>\n",
       "      <td>78.370000</td>\n",
       "      <td>24.400000</td>\n",
       "      <td>0.000000</td>\n",
       "    </tr>\n",
       "    <tr>\n",
       "      <th>50%</th>\n",
       "      <td>33568.000000</td>\n",
       "      <td>56.000000</td>\n",
       "      <td>0.000000</td>\n",
       "      <td>0.000000</td>\n",
       "      <td>94.160000</td>\n",
       "      <td>28.800000</td>\n",
       "      <td>1.000000</td>\n",
       "    </tr>\n",
       "    <tr>\n",
       "      <th>75%</th>\n",
       "      <td>50351.500000</td>\n",
       "      <td>73.000000</td>\n",
       "      <td>0.000000</td>\n",
       "      <td>0.000000</td>\n",
       "      <td>126.460000</td>\n",
       "      <td>32.600000</td>\n",
       "      <td>1.000000</td>\n",
       "    </tr>\n",
       "    <tr>\n",
       "      <th>max</th>\n",
       "      <td>67135.000000</td>\n",
       "      <td>82.000000</td>\n",
       "      <td>1.000000</td>\n",
       "      <td>1.000000</td>\n",
       "      <td>291.050000</td>\n",
       "      <td>97.600000</td>\n",
       "      <td>1.000000</td>\n",
       "    </tr>\n",
       "  </tbody>\n",
       "</table>\n",
       "</div>"
      ],
      "text/plain": [
       "                  0           age  hypertension  heart_disease  \\\n",
       "count  67135.000000  67135.000000  67135.000000   67135.000000   \n",
       "mean   33568.000000     51.959508      0.164102       0.101423   \n",
       "std    19380.349498     23.413054      0.370371       0.301890   \n",
       "min        1.000000      0.080000      0.000000       0.000000   \n",
       "25%    16784.500000     35.000000      0.000000       0.000000   \n",
       "50%    33568.000000     56.000000      0.000000       0.000000   \n",
       "75%    50351.500000     73.000000      0.000000       0.000000   \n",
       "max    67135.000000     82.000000      1.000000       1.000000   \n",
       "\n",
       "       avg_glucose_level           bmi        stroke  \n",
       "count       67135.000000  67135.000000  67135.000000  \n",
       "mean          113.414396     29.161540      0.600089  \n",
       "std            51.258817      7.102057      0.489883  \n",
       "min            55.000000     10.100000      0.000000  \n",
       "25%            78.370000     24.400000      0.000000  \n",
       "50%            94.160000     28.800000      1.000000  \n",
       "75%           126.460000     32.600000      1.000000  \n",
       "max           291.050000     97.600000      1.000000  "
      ]
     },
     "execution_count": 57,
     "metadata": {},
     "output_type": "execute_result"
    }
   ],
   "source": [
    "#Verficando informações estatísticas das variáveis numéricas\n",
    "df.describe()"
   ]
  },
  {
   "cell_type": "code",
   "execution_count": 58,
   "id": "Ti5-L7dw1WI8",
   "metadata": {
    "colab": {
     "base_uri": "https://localhost:8080/",
     "height": 175
    },
    "id": "Ti5-L7dw1WI8",
    "outputId": "ad5548da-9897-4e29-984f-58ec843335d5"
   },
   "outputs": [
    {
     "data": {
      "text/html": [
       "<div>\n",
       "<style scoped>\n",
       "    .dataframe tbody tr th:only-of-type {\n",
       "        vertical-align: middle;\n",
       "    }\n",
       "\n",
       "    .dataframe tbody tr th {\n",
       "        vertical-align: top;\n",
       "    }\n",
       "\n",
       "    .dataframe thead th {\n",
       "        text-align: right;\n",
       "    }\n",
       "</style>\n",
       "<table border=\"1\" class=\"dataframe\">\n",
       "  <thead>\n",
       "    <tr style=\"text-align: right;\">\n",
       "      <th></th>\n",
       "      <th>gender</th>\n",
       "      <th>ever_married</th>\n",
       "      <th>work_type</th>\n",
       "      <th>Residence_type</th>\n",
       "      <th>smoking_status</th>\n",
       "    </tr>\n",
       "  </thead>\n",
       "  <tbody>\n",
       "    <tr>\n",
       "      <th>count</th>\n",
       "      <td>67135</td>\n",
       "      <td>67135</td>\n",
       "      <td>67135</td>\n",
       "      <td>67135</td>\n",
       "      <td>67135</td>\n",
       "    </tr>\n",
       "    <tr>\n",
       "      <th>unique</th>\n",
       "      <td>3</td>\n",
       "      <td>2</td>\n",
       "      <td>5</td>\n",
       "      <td>2</td>\n",
       "      <td>3</td>\n",
       "    </tr>\n",
       "    <tr>\n",
       "      <th>top</th>\n",
       "      <td>Female</td>\n",
       "      <td>Yes</td>\n",
       "      <td>Private</td>\n",
       "      <td>Urban</td>\n",
       "      <td>smokes</td>\n",
       "    </tr>\n",
       "    <tr>\n",
       "      <th>freq</th>\n",
       "      <td>39530</td>\n",
       "      <td>49323</td>\n",
       "      <td>37806</td>\n",
       "      <td>34023</td>\n",
       "      <td>35963</td>\n",
       "    </tr>\n",
       "  </tbody>\n",
       "</table>\n",
       "</div>"
      ],
      "text/plain": [
       "        gender ever_married work_type Residence_type smoking_status\n",
       "count    67135        67135     67135          67135          67135\n",
       "unique       3            2         5              2              3\n",
       "top     Female          Yes   Private          Urban         smokes\n",
       "freq     39530        49323     37806          34023          35963"
      ]
     },
     "execution_count": 58,
     "metadata": {},
     "output_type": "execute_result"
    }
   ],
   "source": [
    "#Verficando informações das variáveis categóricas\n",
    "df.describe(include='O')"
   ]
  },
  {
   "cell_type": "code",
   "execution_count": 59,
   "id": "Jd6zUr-vx5Yq",
   "metadata": {
    "id": "Jd6zUr-vx5Yq"
   },
   "outputs": [],
   "source": [
    "#Removendo linhas com valores ausentes\n",
    "df = df.dropna()  "
   ]
  },
  {
   "cell_type": "code",
   "execution_count": 60,
   "id": "xktbSEmU2L_A",
   "metadata": {
    "colab": {
     "base_uri": "https://localhost:8080/"
    },
    "id": "xktbSEmU2L_A",
    "outputId": "dc3dca0e-b847-41b8-97fa-f5f7b73215ba"
   },
   "outputs": [
    {
     "data": {
      "text/plain": [
       "0                    0\n",
       "gender               0\n",
       "age                  0\n",
       "hypertension         0\n",
       "heart_disease        0\n",
       "ever_married         0\n",
       "work_type            0\n",
       "Residence_type       0\n",
       "avg_glucose_level    0\n",
       "bmi                  0\n",
       "smoking_status       0\n",
       "stroke               0\n",
       "dtype: int64"
      ]
     },
     "execution_count": 60,
     "metadata": {},
     "output_type": "execute_result"
    }
   ],
   "source": [
    "df.isnull().sum()"
   ]
  },
  {
   "cell_type": "code",
   "execution_count": 61,
   "id": "PDle-tHh6MXo",
   "metadata": {
    "id": "PDle-tHh6MXo"
   },
   "outputs": [],
   "source": [
    "# Filtrando apenas as colunas numéricas\n",
    "colunas_numericas= df.select_dtypes(include=['int64', 'float64', 'int32']).columns\n",
    "dados_numericos = df[colunas_numericas]"
   ]
  },
  {
   "cell_type": "code",
   "execution_count": 62,
   "id": "m0fQGeuUJbUA",
   "metadata": {
    "id": "m0fQGeuUJbUA"
   },
   "outputs": [],
   "source": [
    "#Separando as variáveis dependentes da variável alvo\n",
    "X = dados_numericos.drop('stroke', axis=1)\n",
    "y = dados_numericos['stroke']"
   ]
  },
  {
   "cell_type": "code",
   "execution_count": 63,
   "id": "-oXBIK1yR45j",
   "metadata": {
    "id": "-oXBIK1yR45j"
   },
   "outputs": [],
   "source": [
    "#Dividindo os dados entre treinamento o teste\n",
    "X_train, X_test, y_train, y_test = train_test_split(X, y, test_size = 0.2, random_state = 100)"
   ]
  },
  {
   "cell_type": "code",
   "execution_count": 64,
   "id": "BFp6PyrHP1GQ",
   "metadata": {
    "id": "BFp6PyrHP1GQ"
   },
   "outputs": [],
   "source": [
    "#Criando o modelo de árvore de decisão\n",
    "model = DecisionTreeClassifier()"
   ]
  },
  {
   "cell_type": "code",
   "execution_count": 65,
   "id": "Ewnqtwf4P1Oy",
   "metadata": {
    "colab": {
     "base_uri": "https://localhost:8080/",
     "height": 75
    },
    "id": "Ewnqtwf4P1Oy",
    "outputId": "76a704f4-ca54-4f25-f0f7-2c82a0134d0a"
   },
   "outputs": [
    {
     "data": {
      "text/plain": [
       "DecisionTreeClassifier()"
      ]
     },
     "execution_count": 65,
     "metadata": {},
     "output_type": "execute_result"
    }
   ],
   "source": [
    "#Treinando o modelo\n",
    "model.fit(X_train, y_train)"
   ]
  },
  {
   "cell_type": "code",
   "execution_count": 66,
   "id": "SJKLUqcgwInq",
   "metadata": {
    "id": "SJKLUqcgwInq"
   },
   "outputs": [],
   "source": [
    "#Fazendo previsões no conjunto de teste\n",
    "predicted = model.predict(X_test)"
   ]
  },
  {
   "cell_type": "code",
   "execution_count": 67,
   "id": "0Og6L59XJbfg",
   "metadata": {
    "colab": {
     "base_uri": "https://localhost:8080/"
    },
    "id": "0Og6L59XJbfg",
    "outputId": "33d77083-5834-40f8-be8c-1f56e4823e08"
   },
   "outputs": [
    {
     "name": "stdout",
     "output_type": "stream",
     "text": [
      "Acurácia: 0.7147538541744247\n"
     ]
    }
   ],
   "source": [
    "#Avaliando a acurácia do modelo\n",
    "accuracy = accuracy_score(y_test, predicted)\n",
    "print(f\"Acurácia: {accuracy}\")"
   ]
  },
  {
   "cell_type": "markdown",
   "id": "WBzqCfCI0IPS",
   "metadata": {
    "id": "WBzqCfCI0IPS"
   },
   "source": [
    "Adicionando ao modelo as variáveis categóricas gênero e status de fumante"
   ]
  },
  {
   "cell_type": "code",
   "execution_count": 68,
   "id": "d7dd0aed",
   "metadata": {},
   "outputs": [],
   "source": [
    "#Convertendo a variável'gender' em 0 (Male), 1 (Female) e 2 (Other)\n",
    "df['gender'] = df['gender'].map({'Male': 0, 'Female': 1, 'Other': 2})"
   ]
  },
  {
   "cell_type": "code",
   "execution_count": 69,
   "id": "5b001a21",
   "metadata": {},
   "outputs": [],
   "source": [
    "#Convertendo a variável'smoking_status'\n",
    "df['smoking_status'] = df['smoking_status'].map({'smokes': 0, 'formerly smoked': 1, 'never_smoked': 2})"
   ]
  },
  {
   "cell_type": "code",
   "execution_count": 70,
   "id": "953551f6",
   "metadata": {},
   "outputs": [
    {
     "data": {
      "text/plain": [
       "0                      int64\n",
       "gender                 int64\n",
       "age                  float64\n",
       "hypertension           int32\n",
       "heart_disease          int32\n",
       "ever_married          object\n",
       "work_type             object\n",
       "Residence_type        object\n",
       "avg_glucose_level    float64\n",
       "bmi                  float64\n",
       "smoking_status         int64\n",
       "stroke                 int32\n",
       "dtype: object"
      ]
     },
     "execution_count": 70,
     "metadata": {},
     "output_type": "execute_result"
    }
   ],
   "source": [
    "#Verificando os tipos das variáveis\n",
    "df.dtypes"
   ]
  },
  {
   "cell_type": "code",
   "execution_count": 71,
   "id": "ef909670",
   "metadata": {},
   "outputs": [
    {
     "data": {
      "text/html": [
       "<div>\n",
       "<style scoped>\n",
       "    .dataframe tbody tr th:only-of-type {\n",
       "        vertical-align: middle;\n",
       "    }\n",
       "\n",
       "    .dataframe tbody tr th {\n",
       "        vertical-align: top;\n",
       "    }\n",
       "\n",
       "    .dataframe thead th {\n",
       "        text-align: right;\n",
       "    }\n",
       "</style>\n",
       "<table border=\"1\" class=\"dataframe\">\n",
       "  <thead>\n",
       "    <tr style=\"text-align: right;\">\n",
       "      <th></th>\n",
       "      <th>0</th>\n",
       "      <th>gender</th>\n",
       "      <th>age</th>\n",
       "      <th>hypertension</th>\n",
       "      <th>heart_disease</th>\n",
       "      <th>ever_married</th>\n",
       "      <th>work_type</th>\n",
       "      <th>Residence_type</th>\n",
       "      <th>avg_glucose_level</th>\n",
       "      <th>bmi</th>\n",
       "      <th>smoking_status</th>\n",
       "      <th>stroke</th>\n",
       "    </tr>\n",
       "  </thead>\n",
       "  <tbody>\n",
       "    <tr>\n",
       "      <th>0</th>\n",
       "      <td>1</td>\n",
       "      <td>1</td>\n",
       "      <td>18.0</td>\n",
       "      <td>0</td>\n",
       "      <td>0</td>\n",
       "      <td>No</td>\n",
       "      <td>Private</td>\n",
       "      <td>Urban</td>\n",
       "      <td>94.19</td>\n",
       "      <td>12.12</td>\n",
       "      <td>0</td>\n",
       "      <td>1</td>\n",
       "    </tr>\n",
       "    <tr>\n",
       "      <th>1</th>\n",
       "      <td>2</td>\n",
       "      <td>0</td>\n",
       "      <td>58.0</td>\n",
       "      <td>1</td>\n",
       "      <td>0</td>\n",
       "      <td>Yes</td>\n",
       "      <td>Private</td>\n",
       "      <td>Rural</td>\n",
       "      <td>154.24</td>\n",
       "      <td>33.70</td>\n",
       "      <td>2</td>\n",
       "      <td>0</td>\n",
       "    </tr>\n",
       "    <tr>\n",
       "      <th>2</th>\n",
       "      <td>3</td>\n",
       "      <td>1</td>\n",
       "      <td>36.0</td>\n",
       "      <td>0</td>\n",
       "      <td>0</td>\n",
       "      <td>Yes</td>\n",
       "      <td>Govt_job</td>\n",
       "      <td>Urban</td>\n",
       "      <td>72.63</td>\n",
       "      <td>24.70</td>\n",
       "      <td>0</td>\n",
       "      <td>0</td>\n",
       "    </tr>\n",
       "    <tr>\n",
       "      <th>3</th>\n",
       "      <td>4</td>\n",
       "      <td>1</td>\n",
       "      <td>62.0</td>\n",
       "      <td>0</td>\n",
       "      <td>0</td>\n",
       "      <td>Yes</td>\n",
       "      <td>Self-employed</td>\n",
       "      <td>Rural</td>\n",
       "      <td>85.52</td>\n",
       "      <td>31.20</td>\n",
       "      <td>1</td>\n",
       "      <td>0</td>\n",
       "    </tr>\n",
       "    <tr>\n",
       "      <th>4</th>\n",
       "      <td>5</td>\n",
       "      <td>1</td>\n",
       "      <td>82.0</td>\n",
       "      <td>0</td>\n",
       "      <td>0</td>\n",
       "      <td>Yes</td>\n",
       "      <td>Private</td>\n",
       "      <td>Rural</td>\n",
       "      <td>59.32</td>\n",
       "      <td>33.20</td>\n",
       "      <td>0</td>\n",
       "      <td>1</td>\n",
       "    </tr>\n",
       "  </tbody>\n",
       "</table>\n",
       "</div>"
      ],
      "text/plain": [
       "   0  gender   age  hypertension  heart_disease ever_married      work_type  \\\n",
       "0  1       1  18.0             0              0           No        Private   \n",
       "1  2       0  58.0             1              0          Yes        Private   \n",
       "2  3       1  36.0             0              0          Yes       Govt_job   \n",
       "3  4       1  62.0             0              0          Yes  Self-employed   \n",
       "4  5       1  82.0             0              0          Yes        Private   \n",
       "\n",
       "  Residence_type  avg_glucose_level    bmi  smoking_status  stroke  \n",
       "0          Urban              94.19  12.12               0       1  \n",
       "1          Rural             154.24  33.70               2       0  \n",
       "2          Urban              72.63  24.70               0       0  \n",
       "3          Rural              85.52  31.20               1       0  \n",
       "4          Rural              59.32  33.20               0       1  "
      ]
     },
     "execution_count": 71,
     "metadata": {},
     "output_type": "execute_result"
    }
   ],
   "source": [
    "#Verificando os resultado\n",
    "df.head()"
   ]
  },
  {
   "cell_type": "code",
   "execution_count": 72,
   "id": "9984d6ae",
   "metadata": {},
   "outputs": [],
   "source": [
    "# Filtrando pelas colunas numéricas\n",
    "colunas_numericas2= df.select_dtypes(include=['int64', 'float64', 'int32']).columns\n",
    "dados_numericos2 = df[colunas_numericas2]"
   ]
  },
  {
   "cell_type": "code",
   "execution_count": 73,
   "id": "3d8182f3",
   "metadata": {},
   "outputs": [],
   "source": [
    "#Separando as variáveis dependentes da variável alvo\n",
    "X = dados_numericos2.drop('stroke', axis=1)\n",
    "y = dados_numericos2['stroke']"
   ]
  },
  {
   "cell_type": "code",
   "execution_count": 74,
   "id": "90Unp8iorKaL",
   "metadata": {
    "id": "90Unp8iorKaL"
   },
   "outputs": [],
   "source": [
    "#Dividindo os dados entre treinamento o teste\n",
    "X_train, X_test, y_train, y_test = train_test_split(X, y, test_size = 0.2, random_state = 100)"
   ]
  },
  {
   "cell_type": "code",
   "execution_count": 75,
   "id": "0ec-igycrSqa",
   "metadata": {
    "id": "0ec-igycrSqa"
   },
   "outputs": [],
   "source": [
    "#Criando o modelo de árvore de decisão\n",
    "model = DecisionTreeClassifier()"
   ]
  },
  {
   "cell_type": "code",
   "execution_count": 76,
   "id": "jgFe1A6BrWNp",
   "metadata": {
    "id": "jgFe1A6BrWNp"
   },
   "outputs": [
    {
     "data": {
      "text/plain": [
       "DecisionTreeClassifier()"
      ]
     },
     "execution_count": 76,
     "metadata": {},
     "output_type": "execute_result"
    }
   ],
   "source": [
    "#Treinando o modelo\n",
    "model.fit(X_train, y_train)"
   ]
  },
  {
   "cell_type": "code",
   "execution_count": 77,
   "id": "-g9s_L12rdFb",
   "metadata": {
    "id": "-g9s_L12rdFb"
   },
   "outputs": [],
   "source": [
    "#Fazendo previsões no conjunto de teste\n",
    "predicted = model.predict(X_test)"
   ]
  },
  {
   "cell_type": "code",
   "execution_count": 78,
   "id": "YUJ_9HanMgJn",
   "metadata": {
    "id": "YUJ_9HanMgJn"
   },
   "outputs": [
    {
     "name": "stdout",
     "output_type": "stream",
     "text": [
      "Acurácia: 0.8616221047143815\n"
     ]
    }
   ],
   "source": [
    "#Avaliando a acurácia do modelo\n",
    "accuracy = accuracy_score(y_test, predicted)\n",
    "print(f\"Acurácia: {accuracy}\")"
   ]
  },
  {
   "cell_type": "markdown",
   "id": "bdaf3283",
   "metadata": {
    "id": "bdaf3283"
   },
   "source": [
    "10) Qual dessas variáveis é mais importante no modelo de árvore\n",
    "de decisão que você construiu na questão anterior?"
   ]
  },
  {
   "cell_type": "code",
   "execution_count": 79,
   "id": "c5f96f12",
   "metadata": {},
   "outputs": [],
   "source": [
    "#Obtendo a importância das variáveis\n",
    "importance = model.feature_importances_"
   ]
  },
  {
   "cell_type": "code",
   "execution_count": 80,
   "id": "a519d94f",
   "metadata": {},
   "outputs": [
    {
     "name": "stdout",
     "output_type": "stream",
     "text": [
      "Variável 0: 0.08558781424689797\n",
      "Variável gender: 0.01127911083473492\n",
      "Variável age: 0.1582501469590547\n",
      "Variável hypertension: 0.010205979795865659\n",
      "Variável heart_disease: 0.010396899802354207\n",
      "Variável avg_glucose_level: 0.17933189104674038\n",
      "Variável bmi: 0.15045667975704333\n",
      "Variável smoking_status: 0.3944914775573087\n"
     ]
    }
   ],
   "source": [
    "#Verificando o resultado\n",
    "for i, imp in enumerate(importance):\n",
    "    print(f\"Variável {X.columns[i]}: {imp}\")"
   ]
  },
  {
   "cell_type": "markdown",
   "id": "53a48175",
   "metadata": {},
   "source": [
    "A variável mais importante neste modelo é a 'smoking_status'."
   ]
  },
  {
   "cell_type": "markdown",
   "id": "1b986873",
   "metadata": {
    "id": "1b986873"
   },
   "source": [
    "11) Qual a profundidade da árvore de decisão do 2° modelo?"
   ]
  },
  {
   "cell_type": "code",
   "execution_count": 81,
   "id": "0dadf2f3",
   "metadata": {},
   "outputs": [],
   "source": [
    "#Calculando a profundidade da árvore\n",
    "depth = model.tree_.max_depth"
   ]
  },
  {
   "cell_type": "code",
   "execution_count": 82,
   "id": "25095a86",
   "metadata": {},
   "outputs": [
    {
     "name": "stdout",
     "output_type": "stream",
     "text": [
      "Profundidade da árvore: 56\n"
     ]
    }
   ],
   "source": [
    "#Visualizando o resultado\n",
    "print(f\"Profundidade da árvore: {depth}\")"
   ]
  },
  {
   "cell_type": "markdown",
   "id": "02a41e88",
   "metadata": {
    "id": "02a41e88"
   },
   "source": [
    "12) Quantos nodos a árvore de decisão possui?"
   ]
  },
  {
   "cell_type": "code",
   "execution_count": 83,
   "id": "097462ae",
   "metadata": {},
   "outputs": [],
   "source": [
    "#Calculando o número de nós na árvore\n",
    "num_nodes = model.tree_.node_count"
   ]
  },
  {
   "cell_type": "code",
   "execution_count": 84,
   "id": "c6c2bf4c",
   "metadata": {},
   "outputs": [
    {
     "name": "stdout",
     "output_type": "stream",
     "text": [
      "Número de nós na árvore: 11323\n"
     ]
    }
   ],
   "source": [
    "#Visualizando o número de nós\n",
    "print(f\"Número de nós na árvore: {num_nodes}\")"
   ]
  }
 ],
 "metadata": {
  "colab": {
   "provenance": []
  },
  "kernelspec": {
   "display_name": "Python 3 (ipykernel)",
   "language": "python",
   "name": "python3"
  },
  "language_info": {
   "codemirror_mode": {
    "name": "ipython",
    "version": 3
   },
   "file_extension": ".py",
   "mimetype": "text/x-python",
   "name": "python",
   "nbconvert_exporter": "python",
   "pygments_lexer": "ipython3",
   "version": "3.9.13"
  }
 },
 "nbformat": 4,
 "nbformat_minor": 5
}
