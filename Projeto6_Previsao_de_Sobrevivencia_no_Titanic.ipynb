{
 "cells": [
  {
   "cell_type": "markdown",
   "id": "b01fe386",
   "metadata": {
    "id": "b01fe386"
   },
   "source": [
    "# Projeto 6 - Previsão de Sobrevivência no Titanic"
   ]
  },
  {
   "cell_type": "markdown",
   "id": "3ae0cdb0",
   "metadata": {
    "id": "3ae0cdb0"
   },
   "source": [
    "O conjunto de dados lista informações sobre os passageiros do Titanic. \n",
    "\n",
    "Neste desafio, pedimos que você construa um modelo preditivo que responda à pergunta: \"que tipos de pessoas tinham maior probabilidade de sobreviver?\" usando dados de passageiros (ou seja, nome, idade, sexo, classe socioeconômica, etc.).\n",
    "\n",
    "Objetivo: Analisar os dados, construir gráficos e fazer uma previsão de que tipos de pessoas tinham maior probabilidade de sobreviver usando dados de passageiros (ou seja, nome, idade, sexo, classe socioeconômica, etc.) utilizando linguagem Python.\n",
    "\n",
    "Fonte do dataset: https://www.kaggle.com/datasets/vinicius150987/titanic3"
   ]
  },
  {
   "cell_type": "code",
   "execution_count": 1,
   "id": "f3e1f123",
   "metadata": {
    "colab": {
     "base_uri": "https://localhost:8080/"
    },
    "id": "f3e1f123",
    "outputId": "34599b83-5952-4277-e3e4-b565e7bed070"
   },
   "outputs": [
    {
     "name": "stdout",
     "output_type": "stream",
     "text": [
      "Versão python utilizada neste projeto:  3.9.13\n"
     ]
    }
   ],
   "source": [
    "#Versão da Linguagem Python\n",
    "from platform import python_version\n",
    "print(\"Versão python utilizada neste projeto: \", python_version())"
   ]
  },
  {
   "cell_type": "code",
   "execution_count": 2,
   "id": "8f264289",
   "metadata": {
    "id": "8f264289"
   },
   "outputs": [],
   "source": [
    "#Instala o pacote watermark. \n",
    "!pip install -q -U watermark"
   ]
  },
  {
   "cell_type": "code",
   "execution_count": 3,
   "id": "ed5bf689",
   "metadata": {
    "id": "ed5bf689"
   },
   "outputs": [],
   "source": [
    "# Imports\n",
    "import numpy as np\n",
    "import pandas as pd\n",
    "import matplotlib.pyplot as plt\n",
    "import seaborn as sns\n",
    "import warnings\n",
    "warnings.filterwarnings(\"ignore\")\n",
    "# importar bibliotecas do modelo de Machine Learning\n",
    "from sklearn.model_selection import train_test_split\n",
    "from sklearn.linear_model import LogisticRegression\n",
    "from sklearn.metrics import accuracy_score\n",
    "from sklearn.tree import DecisionTreeClassifier"
   ]
  },
  {
   "cell_type": "code",
   "execution_count": 4,
   "id": "ec0ec76e",
   "metadata": {
    "id": "ec0ec76e"
   },
   "outputs": [],
   "source": [
    "# Parâmetros de configuração dos gráficos\n",
    "from matplotlib import rcParams\n",
    "\n",
    "rcParams['figure.figsize'] = 12, 4\n",
    "rcParams['lines.linewidth'] = 3\n",
    "rcParams['xtick.labelsize'] = 'x-large'\n",
    "rcParams['ytick.labelsize'] = 'x-large'"
   ]
  },
  {
   "cell_type": "code",
   "execution_count": 5,
   "id": "711024f2",
   "metadata": {
    "colab": {
     "base_uri": "https://localhost:8080/"
    },
    "id": "711024f2",
    "outputId": "f6d52995-93d3-4c53-acf6-23f3cbf50304"
   },
   "outputs": [
    {
     "name": "stdout",
     "output_type": "stream",
     "text": [
      "numpy     : 1.21.5\n",
      "seaborn   : 0.11.2\n",
      "pandas    : 1.4.4\n",
      "matplotlib: 3.5.2\n",
      "\n"
     ]
    }
   ],
   "source": [
    "# Versões dos pacotes usados neste jupyter notebook\n",
    "%reload_ext watermark\n",
    "%watermark --iversions"
   ]
  },
  {
   "cell_type": "markdown",
   "id": "80ec26ec",
   "metadata": {
    "id": "80ec26ec"
   },
   "source": [
    "Carregando o Dataset"
   ]
  },
  {
   "cell_type": "code",
   "execution_count": 6,
   "id": "01cf60e0",
   "metadata": {
    "id": "01cf60e0"
   },
   "outputs": [],
   "source": [
    "#Carregando o  dataset\n",
    "df = pd.read_csv('titanic3.csv')"
   ]
  },
  {
   "cell_type": "code",
   "execution_count": 7,
   "id": "d4e5b08e",
   "metadata": {
    "colab": {
     "base_uri": "https://localhost:8080/"
    },
    "id": "d4e5b08e",
    "outputId": "f3be9b71-85e6-4c35-a272-4dbf3356ac29"
   },
   "outputs": [
    {
     "data": {
      "text/plain": [
       "pandas.core.frame.DataFrame"
      ]
     },
     "execution_count": 7,
     "metadata": {},
     "output_type": "execute_result"
    }
   ],
   "source": [
    "# Verificando o tipo do objeto\n",
    "type(df)"
   ]
  },
  {
   "cell_type": "code",
   "execution_count": 8,
   "id": "dc4a2380",
   "metadata": {
    "colab": {
     "base_uri": "https://localhost:8080/"
    },
    "id": "dc4a2380",
    "outputId": "6139c89e-6731-4736-fbad-70052157b9d9"
   },
   "outputs": [
    {
     "data": {
      "text/plain": [
       "(1309, 14)"
      ]
     },
     "execution_count": 8,
     "metadata": {},
     "output_type": "execute_result"
    }
   ],
   "source": [
    "#Verificando quantas linhas e colunas tem o dataset\n",
    "df.shape"
   ]
  },
  {
   "cell_type": "code",
   "execution_count": 9,
   "id": "97ae0b5e",
   "metadata": {
    "colab": {
     "base_uri": "https://localhost:8080/"
    },
    "id": "97ae0b5e",
    "outputId": "e33923e4-5b0b-41cc-cb8d-89084f22c814"
   },
   "outputs": [
    {
     "data": {
      "text/plain": [
       "18326"
      ]
     },
     "execution_count": 9,
     "metadata": {},
     "output_type": "execute_result"
    }
   ],
   "source": [
    "#Total de registros considerando cada coluna\n",
    "df.size"
   ]
  },
  {
   "cell_type": "code",
   "execution_count": 10,
   "id": "4152a482",
   "metadata": {
    "colab": {
     "base_uri": "https://localhost:8080/"
    },
    "id": "4152a482",
    "outputId": "ec40fd12-d596-4ac3-c84d-72feb3c071bb"
   },
   "outputs": [
    {
     "name": "stdout",
     "output_type": "stream",
     "text": [
      "<class 'pandas.core.frame.DataFrame'>\n",
      "RangeIndex: 1309 entries, 0 to 1308\n",
      "Data columns (total 14 columns):\n",
      " #   Column     Non-Null Count  Dtype  \n",
      "---  ------     --------------  -----  \n",
      " 0   pclass     1309 non-null   int64  \n",
      " 1   survived   1309 non-null   int64  \n",
      " 2   name       1309 non-null   object \n",
      " 3   sex        1309 non-null   object \n",
      " 4   age        1046 non-null   float64\n",
      " 5   sibsp      1309 non-null   int64  \n",
      " 6   parch      1309 non-null   int64  \n",
      " 7   ticket     1309 non-null   object \n",
      " 8   fare       1308 non-null   float64\n",
      " 9   cabin      295 non-null    object \n",
      " 10  embarked   1307 non-null   object \n",
      " 11  boat       486 non-null    object \n",
      " 12  body       121 non-null    float64\n",
      " 13  home.dest  745 non-null    object \n",
      "dtypes: float64(3), int64(4), object(7)\n",
      "memory usage: 143.3+ KB\n"
     ]
    }
   ],
   "source": [
    "#Verifica os tipos de dados\n",
    "df.info()"
   ]
  },
  {
   "cell_type": "code",
   "execution_count": 11,
   "id": "bf1d494f",
   "metadata": {
    "colab": {
     "base_uri": "https://localhost:8080/",
     "height": 320
    },
    "id": "bf1d494f",
    "outputId": "88c4bf00-8761-4bf0-e45c-0971c62948fc"
   },
   "outputs": [
    {
     "data": {
      "text/html": [
       "<div>\n",
       "<style scoped>\n",
       "    .dataframe tbody tr th:only-of-type {\n",
       "        vertical-align: middle;\n",
       "    }\n",
       "\n",
       "    .dataframe tbody tr th {\n",
       "        vertical-align: top;\n",
       "    }\n",
       "\n",
       "    .dataframe thead th {\n",
       "        text-align: right;\n",
       "    }\n",
       "</style>\n",
       "<table border=\"1\" class=\"dataframe\">\n",
       "  <thead>\n",
       "    <tr style=\"text-align: right;\">\n",
       "      <th></th>\n",
       "      <th>pclass</th>\n",
       "      <th>survived</th>\n",
       "      <th>name</th>\n",
       "      <th>sex</th>\n",
       "      <th>age</th>\n",
       "      <th>sibsp</th>\n",
       "      <th>parch</th>\n",
       "      <th>ticket</th>\n",
       "      <th>fare</th>\n",
       "      <th>cabin</th>\n",
       "      <th>embarked</th>\n",
       "      <th>boat</th>\n",
       "      <th>body</th>\n",
       "      <th>home.dest</th>\n",
       "    </tr>\n",
       "  </thead>\n",
       "  <tbody>\n",
       "    <tr>\n",
       "      <th>0</th>\n",
       "      <td>1</td>\n",
       "      <td>1</td>\n",
       "      <td>Allen, Miss. Elisabeth Walton</td>\n",
       "      <td>female</td>\n",
       "      <td>29.0000</td>\n",
       "      <td>0</td>\n",
       "      <td>0</td>\n",
       "      <td>24160</td>\n",
       "      <td>211.3375</td>\n",
       "      <td>B5</td>\n",
       "      <td>S</td>\n",
       "      <td>2</td>\n",
       "      <td>NaN</td>\n",
       "      <td>St Louis, MO</td>\n",
       "    </tr>\n",
       "    <tr>\n",
       "      <th>1</th>\n",
       "      <td>1</td>\n",
       "      <td>1</td>\n",
       "      <td>Allison, Master. Hudson Trevor</td>\n",
       "      <td>male</td>\n",
       "      <td>0.9167</td>\n",
       "      <td>1</td>\n",
       "      <td>2</td>\n",
       "      <td>113781</td>\n",
       "      <td>151.5500</td>\n",
       "      <td>C22 C26</td>\n",
       "      <td>S</td>\n",
       "      <td>11</td>\n",
       "      <td>NaN</td>\n",
       "      <td>Montreal, PQ / Chesterville, ON</td>\n",
       "    </tr>\n",
       "    <tr>\n",
       "      <th>2</th>\n",
       "      <td>1</td>\n",
       "      <td>0</td>\n",
       "      <td>Allison, Miss. Helen Loraine</td>\n",
       "      <td>female</td>\n",
       "      <td>2.0000</td>\n",
       "      <td>1</td>\n",
       "      <td>2</td>\n",
       "      <td>113781</td>\n",
       "      <td>151.5500</td>\n",
       "      <td>C22 C26</td>\n",
       "      <td>S</td>\n",
       "      <td>NaN</td>\n",
       "      <td>NaN</td>\n",
       "      <td>Montreal, PQ / Chesterville, ON</td>\n",
       "    </tr>\n",
       "    <tr>\n",
       "      <th>3</th>\n",
       "      <td>1</td>\n",
       "      <td>0</td>\n",
       "      <td>Allison, Mr. Hudson Joshua Creighton</td>\n",
       "      <td>male</td>\n",
       "      <td>30.0000</td>\n",
       "      <td>1</td>\n",
       "      <td>2</td>\n",
       "      <td>113781</td>\n",
       "      <td>151.5500</td>\n",
       "      <td>C22 C26</td>\n",
       "      <td>S</td>\n",
       "      <td>NaN</td>\n",
       "      <td>135.0</td>\n",
       "      <td>Montreal, PQ / Chesterville, ON</td>\n",
       "    </tr>\n",
       "    <tr>\n",
       "      <th>4</th>\n",
       "      <td>1</td>\n",
       "      <td>0</td>\n",
       "      <td>Allison, Mrs. Hudson J C (Bessie Waldo Daniels)</td>\n",
       "      <td>female</td>\n",
       "      <td>25.0000</td>\n",
       "      <td>1</td>\n",
       "      <td>2</td>\n",
       "      <td>113781</td>\n",
       "      <td>151.5500</td>\n",
       "      <td>C22 C26</td>\n",
       "      <td>S</td>\n",
       "      <td>NaN</td>\n",
       "      <td>NaN</td>\n",
       "      <td>Montreal, PQ / Chesterville, ON</td>\n",
       "    </tr>\n",
       "  </tbody>\n",
       "</table>\n",
       "</div>"
      ],
      "text/plain": [
       "   pclass  survived                                             name     sex  \\\n",
       "0       1         1                    Allen, Miss. Elisabeth Walton  female   \n",
       "1       1         1                   Allison, Master. Hudson Trevor    male   \n",
       "2       1         0                     Allison, Miss. Helen Loraine  female   \n",
       "3       1         0             Allison, Mr. Hudson Joshua Creighton    male   \n",
       "4       1         0  Allison, Mrs. Hudson J C (Bessie Waldo Daniels)  female   \n",
       "\n",
       "       age  sibsp  parch  ticket      fare    cabin embarked boat   body  \\\n",
       "0  29.0000      0      0   24160  211.3375       B5        S    2    NaN   \n",
       "1   0.9167      1      2  113781  151.5500  C22 C26        S   11    NaN   \n",
       "2   2.0000      1      2  113781  151.5500  C22 C26        S  NaN    NaN   \n",
       "3  30.0000      1      2  113781  151.5500  C22 C26        S  NaN  135.0   \n",
       "4  25.0000      1      2  113781  151.5500  C22 C26        S  NaN    NaN   \n",
       "\n",
       "                         home.dest  \n",
       "0                     St Louis, MO  \n",
       "1  Montreal, PQ / Chesterville, ON  \n",
       "2  Montreal, PQ / Chesterville, ON  \n",
       "3  Montreal, PQ / Chesterville, ON  \n",
       "4  Montreal, PQ / Chesterville, ON  "
      ]
     },
     "execution_count": 11,
     "metadata": {},
     "output_type": "execute_result"
    }
   ],
   "source": [
    "#Amostra das 5 primeiras linhas\n",
    "df.head(5)"
   ]
  },
  {
   "cell_type": "code",
   "execution_count": 12,
   "id": "YVQJL6hEV6t0",
   "metadata": {
    "colab": {
     "base_uri": "https://localhost:8080/",
     "height": 206
    },
    "id": "YVQJL6hEV6t0",
    "outputId": "c8e49e1e-e4f0-48a4-9cb0-f5fbbd073fb7"
   },
   "outputs": [
    {
     "data": {
      "text/html": [
       "<div>\n",
       "<style scoped>\n",
       "    .dataframe tbody tr th:only-of-type {\n",
       "        vertical-align: middle;\n",
       "    }\n",
       "\n",
       "    .dataframe tbody tr th {\n",
       "        vertical-align: top;\n",
       "    }\n",
       "\n",
       "    .dataframe thead th {\n",
       "        text-align: right;\n",
       "    }\n",
       "</style>\n",
       "<table border=\"1\" class=\"dataframe\">\n",
       "  <thead>\n",
       "    <tr style=\"text-align: right;\">\n",
       "      <th></th>\n",
       "      <th>pclass</th>\n",
       "      <th>survived</th>\n",
       "      <th>name</th>\n",
       "      <th>sex</th>\n",
       "      <th>age</th>\n",
       "      <th>sibsp</th>\n",
       "      <th>parch</th>\n",
       "      <th>ticket</th>\n",
       "      <th>fare</th>\n",
       "      <th>cabin</th>\n",
       "      <th>embarked</th>\n",
       "      <th>boat</th>\n",
       "      <th>body</th>\n",
       "      <th>home.dest</th>\n",
       "    </tr>\n",
       "  </thead>\n",
       "  <tbody>\n",
       "    <tr>\n",
       "      <th>1304</th>\n",
       "      <td>3</td>\n",
       "      <td>0</td>\n",
       "      <td>Zabour, Miss. Hileni</td>\n",
       "      <td>female</td>\n",
       "      <td>14.5</td>\n",
       "      <td>1</td>\n",
       "      <td>0</td>\n",
       "      <td>2665</td>\n",
       "      <td>14.4542</td>\n",
       "      <td>NaN</td>\n",
       "      <td>C</td>\n",
       "      <td>NaN</td>\n",
       "      <td>328.0</td>\n",
       "      <td>NaN</td>\n",
       "    </tr>\n",
       "    <tr>\n",
       "      <th>1305</th>\n",
       "      <td>3</td>\n",
       "      <td>0</td>\n",
       "      <td>Zabour, Miss. Thamine</td>\n",
       "      <td>female</td>\n",
       "      <td>NaN</td>\n",
       "      <td>1</td>\n",
       "      <td>0</td>\n",
       "      <td>2665</td>\n",
       "      <td>14.4542</td>\n",
       "      <td>NaN</td>\n",
       "      <td>C</td>\n",
       "      <td>NaN</td>\n",
       "      <td>NaN</td>\n",
       "      <td>NaN</td>\n",
       "    </tr>\n",
       "    <tr>\n",
       "      <th>1306</th>\n",
       "      <td>3</td>\n",
       "      <td>0</td>\n",
       "      <td>Zakarian, Mr. Mapriededer</td>\n",
       "      <td>male</td>\n",
       "      <td>26.5</td>\n",
       "      <td>0</td>\n",
       "      <td>0</td>\n",
       "      <td>2656</td>\n",
       "      <td>7.2250</td>\n",
       "      <td>NaN</td>\n",
       "      <td>C</td>\n",
       "      <td>NaN</td>\n",
       "      <td>304.0</td>\n",
       "      <td>NaN</td>\n",
       "    </tr>\n",
       "    <tr>\n",
       "      <th>1307</th>\n",
       "      <td>3</td>\n",
       "      <td>0</td>\n",
       "      <td>Zakarian, Mr. Ortin</td>\n",
       "      <td>male</td>\n",
       "      <td>27.0</td>\n",
       "      <td>0</td>\n",
       "      <td>0</td>\n",
       "      <td>2670</td>\n",
       "      <td>7.2250</td>\n",
       "      <td>NaN</td>\n",
       "      <td>C</td>\n",
       "      <td>NaN</td>\n",
       "      <td>NaN</td>\n",
       "      <td>NaN</td>\n",
       "    </tr>\n",
       "    <tr>\n",
       "      <th>1308</th>\n",
       "      <td>3</td>\n",
       "      <td>0</td>\n",
       "      <td>Zimmerman, Mr. Leo</td>\n",
       "      <td>male</td>\n",
       "      <td>29.0</td>\n",
       "      <td>0</td>\n",
       "      <td>0</td>\n",
       "      <td>315082</td>\n",
       "      <td>7.8750</td>\n",
       "      <td>NaN</td>\n",
       "      <td>S</td>\n",
       "      <td>NaN</td>\n",
       "      <td>NaN</td>\n",
       "      <td>NaN</td>\n",
       "    </tr>\n",
       "  </tbody>\n",
       "</table>\n",
       "</div>"
      ],
      "text/plain": [
       "      pclass  survived                       name     sex   age  sibsp  parch  \\\n",
       "1304       3         0       Zabour, Miss. Hileni  female  14.5      1      0   \n",
       "1305       3         0      Zabour, Miss. Thamine  female   NaN      1      0   \n",
       "1306       3         0  Zakarian, Mr. Mapriededer    male  26.5      0      0   \n",
       "1307       3         0        Zakarian, Mr. Ortin    male  27.0      0      0   \n",
       "1308       3         0         Zimmerman, Mr. Leo    male  29.0      0      0   \n",
       "\n",
       "      ticket     fare cabin embarked boat   body home.dest  \n",
       "1304    2665  14.4542   NaN        C  NaN  328.0       NaN  \n",
       "1305    2665  14.4542   NaN        C  NaN    NaN       NaN  \n",
       "1306    2656   7.2250   NaN        C  NaN  304.0       NaN  \n",
       "1307    2670   7.2250   NaN        C  NaN    NaN       NaN  \n",
       "1308  315082   7.8750   NaN        S  NaN    NaN       NaN  "
      ]
     },
     "execution_count": 12,
     "metadata": {},
     "output_type": "execute_result"
    }
   ],
   "source": [
    "#Amostra das 5 últimas linhas\n",
    "df.tail()"
   ]
  },
  {
   "cell_type": "markdown",
   "id": "b5a4aa43",
   "metadata": {
    "id": "b5a4aa43"
   },
   "source": [
    "1. Survived (Sobreviveu): 0 = Não, 1 = Sim\n",
    "2. Pclass (Classe): Classe de ingresso 1 = 1º, 2 = 2º, 3 = 3º\n",
    "3. Sex (Sexo): Sexo do passageiro\n",
    "4. Age (Idade): Idade em anos\n",
    "5. Sibsp: Quantidade de irmãos / cônjuges a bordo do Titanic\n",
    "6. Parch: Quantidade de pais / crianças a bordo do Titanic\n",
    "7. Ticket (Bilhete): Número do bilhete de embarque\n",
    "8. Fare (Tarifa): Tarifa paga pelo Passageiro\n",
    "9. Cabin (Cabine): Número de cabine\n",
    "10. Embarked (Embarque): Porto de Embarque (C = Cherbourg, Q=Queenstown, S = Southampton)"
   ]
  },
  {
   "cell_type": "code",
   "execution_count": 13,
   "id": "d2fac243",
   "metadata": {
    "colab": {
     "base_uri": "https://localhost:8080/"
    },
    "id": "d2fac243",
    "outputId": "ab6950cb-514c-425d-8a6e-00665f0c659c"
   },
   "outputs": [
    {
     "data": {
      "text/plain": [
       "Index(['pclass', 'survived', 'name', 'sex', 'age', 'sibsp', 'parch', 'ticket',\n",
       "       'fare', 'cabin', 'embarked', 'boat', 'body', 'home.dest'],\n",
       "      dtype='object')"
      ]
     },
     "execution_count": 13,
     "metadata": {},
     "output_type": "execute_result"
    }
   ],
   "source": [
    "#Colunas dos conjunto de dados\n",
    "df.columns"
   ]
  },
  {
   "cell_type": "code",
   "execution_count": 14,
   "id": "11813539",
   "metadata": {
    "colab": {
     "base_uri": "https://localhost:8080/"
    },
    "id": "11813539",
    "outputId": "3d2b66d5-cb12-4759-a723-d77d80611133"
   },
   "outputs": [
    {
     "data": {
      "text/plain": [
       "object     7\n",
       "int64      4\n",
       "float64    3\n",
       "dtype: int64"
      ]
     },
     "execution_count": 14,
     "metadata": {},
     "output_type": "execute_result"
    }
   ],
   "source": [
    "#Método value_counts() para cada tipo de dado\n",
    "df.dtypes.value_counts()"
   ]
  },
  {
   "cell_type": "code",
   "execution_count": 15,
   "id": "dbf84a8e",
   "metadata": {
    "colab": {
     "base_uri": "https://localhost:8080/"
    },
    "id": "dbf84a8e",
    "outputId": "4c4314f1-d389-4153-d8f5-d69892fc6fdb"
   },
   "outputs": [
    {
     "data": {
      "text/plain": [
       "pclass         int64\n",
       "survived       int64\n",
       "name          object\n",
       "sex           object\n",
       "age          float64\n",
       "sibsp          int64\n",
       "parch          int64\n",
       "ticket        object\n",
       "fare         float64\n",
       "cabin         object\n",
       "embarked      object\n",
       "boat          object\n",
       "body         float64\n",
       "home.dest     object\n",
       "dtype: object"
      ]
     },
     "execution_count": 15,
     "metadata": {},
     "output_type": "execute_result"
    }
   ],
   "source": [
    "#Verificando o tipo de dado de cada coluna\n",
    "df.dtypes"
   ]
  },
  {
   "cell_type": "code",
   "execution_count": 16,
   "id": "b1eef9fa",
   "metadata": {
    "colab": {
     "base_uri": "https://localhost:8080/"
    },
    "id": "b1eef9fa",
    "outputId": "8ad95561-2535-42eb-83e7-a986c18581e1"
   },
   "outputs": [
    {
     "data": {
      "text/plain": [
       "0       False\n",
       "1       False\n",
       "2       False\n",
       "3       False\n",
       "4       False\n",
       "        ...  \n",
       "1304    False\n",
       "1305    False\n",
       "1306    False\n",
       "1307    False\n",
       "1308    False\n",
       "Length: 1309, dtype: bool"
      ]
     },
     "execution_count": 16,
     "metadata": {},
     "output_type": "execute_result"
    }
   ],
   "source": [
    "#Verificando se há registros duplicados\n",
    "df.duplicated()"
   ]
  },
  {
   "cell_type": "code",
   "execution_count": 17,
   "id": "7de0a669",
   "metadata": {
    "colab": {
     "base_uri": "https://localhost:8080/"
    },
    "id": "7de0a669",
    "outputId": "8c2fc655-8322-43f5-cba0-30f33fda8440"
   },
   "outputs": [
    {
     "data": {
      "text/plain": [
       "pclass          0\n",
       "survived        0\n",
       "name            0\n",
       "sex             0\n",
       "age           263\n",
       "sibsp           0\n",
       "parch           0\n",
       "ticket          0\n",
       "fare            1\n",
       "cabin        1014\n",
       "embarked        2\n",
       "boat          823\n",
       "body         1188\n",
       "home.dest     564\n",
       "dtype: int64"
      ]
     },
     "execution_count": 17,
     "metadata": {},
     "output_type": "execute_result"
    }
   ],
   "source": [
    "#Verificando se há valores ausentes\n",
    "df.isnull().sum()"
   ]
  },
  {
   "cell_type": "code",
   "execution_count": 18,
   "id": "95cb51f3",
   "metadata": {
    "id": "95cb51f3"
   },
   "outputs": [],
   "source": [
    "#Calculando a mediana da coluna 'Age' e inserindo nos valores ausentes dessa coluna\n",
    "age_median = df['age'].median()\n",
    "df['age'].fillna(age_median, inplace=True)"
   ]
  },
  {
   "cell_type": "code",
   "execution_count": 19,
   "id": "e86a6f10",
   "metadata": {
    "id": "e86a6f10"
   },
   "outputs": [],
   "source": [
    "#Calculando a mediana da coluna 'Fare' e inserindo nos valores ausentes dessa coluna\n",
    "fare_median = df['fare'].median()\n",
    "df['fare'].fillna(fare_median, inplace=True)"
   ]
  },
  {
   "cell_type": "code",
   "execution_count": 20,
   "id": "0a3a2783",
   "metadata": {
    "id": "0a3a2783"
   },
   "outputs": [],
   "source": [
    "#Excluindo linhas com valores ausentes na coluna 'embarked'\n",
    "df = df.dropna(subset=['embarked'])"
   ]
  },
  {
   "cell_type": "code",
   "execution_count": 21,
   "id": "1c32dfb9",
   "metadata": {
    "id": "1c32dfb9"
   },
   "outputs": [],
   "source": [
    "#Excluindo algumas variáveis por não serem relevantes para o estudo\n",
    "df.drop(['name', 'ticket', 'cabin','boat', 'body', 'home.dest'], axis=1, inplace=True)"
   ]
  },
  {
   "cell_type": "code",
   "execution_count": 22,
   "id": "91240114",
   "metadata": {
    "colab": {
     "base_uri": "https://localhost:8080/"
    },
    "id": "91240114",
    "outputId": "50bb2d33-9365-4ad7-a83d-5618fe9bded8"
   },
   "outputs": [
    {
     "data": {
      "text/plain": [
       "pclass      0\n",
       "survived    0\n",
       "sex         0\n",
       "age         0\n",
       "sibsp       0\n",
       "parch       0\n",
       "fare        0\n",
       "embarked    0\n",
       "dtype: int64"
      ]
     },
     "execution_count": 22,
     "metadata": {},
     "output_type": "execute_result"
    }
   ],
   "source": [
    "#Verificando se há valores ausentes\n",
    "df.isnull().sum()"
   ]
  },
  {
   "cell_type": "code",
   "execution_count": 23,
   "id": "8c303dfc",
   "metadata": {
    "colab": {
     "base_uri": "https://localhost:8080/",
     "height": 206
    },
    "id": "8c303dfc",
    "outputId": "db1e3c67-5178-4786-a9b7-8f6683735d1f"
   },
   "outputs": [
    {
     "data": {
      "text/html": [
       "<div>\n",
       "<style scoped>\n",
       "    .dataframe tbody tr th:only-of-type {\n",
       "        vertical-align: middle;\n",
       "    }\n",
       "\n",
       "    .dataframe tbody tr th {\n",
       "        vertical-align: top;\n",
       "    }\n",
       "\n",
       "    .dataframe thead th {\n",
       "        text-align: right;\n",
       "    }\n",
       "</style>\n",
       "<table border=\"1\" class=\"dataframe\">\n",
       "  <thead>\n",
       "    <tr style=\"text-align: right;\">\n",
       "      <th></th>\n",
       "      <th>pclass</th>\n",
       "      <th>survived</th>\n",
       "      <th>sex</th>\n",
       "      <th>age</th>\n",
       "      <th>sibsp</th>\n",
       "      <th>parch</th>\n",
       "      <th>fare</th>\n",
       "      <th>embarked</th>\n",
       "    </tr>\n",
       "  </thead>\n",
       "  <tbody>\n",
       "    <tr>\n",
       "      <th>0</th>\n",
       "      <td>1</td>\n",
       "      <td>1</td>\n",
       "      <td>female</td>\n",
       "      <td>29.0000</td>\n",
       "      <td>0</td>\n",
       "      <td>0</td>\n",
       "      <td>211.3375</td>\n",
       "      <td>S</td>\n",
       "    </tr>\n",
       "    <tr>\n",
       "      <th>1</th>\n",
       "      <td>1</td>\n",
       "      <td>1</td>\n",
       "      <td>male</td>\n",
       "      <td>0.9167</td>\n",
       "      <td>1</td>\n",
       "      <td>2</td>\n",
       "      <td>151.5500</td>\n",
       "      <td>S</td>\n",
       "    </tr>\n",
       "    <tr>\n",
       "      <th>2</th>\n",
       "      <td>1</td>\n",
       "      <td>0</td>\n",
       "      <td>female</td>\n",
       "      <td>2.0000</td>\n",
       "      <td>1</td>\n",
       "      <td>2</td>\n",
       "      <td>151.5500</td>\n",
       "      <td>S</td>\n",
       "    </tr>\n",
       "    <tr>\n",
       "      <th>3</th>\n",
       "      <td>1</td>\n",
       "      <td>0</td>\n",
       "      <td>male</td>\n",
       "      <td>30.0000</td>\n",
       "      <td>1</td>\n",
       "      <td>2</td>\n",
       "      <td>151.5500</td>\n",
       "      <td>S</td>\n",
       "    </tr>\n",
       "    <tr>\n",
       "      <th>4</th>\n",
       "      <td>1</td>\n",
       "      <td>0</td>\n",
       "      <td>female</td>\n",
       "      <td>25.0000</td>\n",
       "      <td>1</td>\n",
       "      <td>2</td>\n",
       "      <td>151.5500</td>\n",
       "      <td>S</td>\n",
       "    </tr>\n",
       "  </tbody>\n",
       "</table>\n",
       "</div>"
      ],
      "text/plain": [
       "   pclass  survived     sex      age  sibsp  parch      fare embarked\n",
       "0       1         1  female  29.0000      0      0  211.3375        S\n",
       "1       1         1    male   0.9167      1      2  151.5500        S\n",
       "2       1         0  female   2.0000      1      2  151.5500        S\n",
       "3       1         0    male  30.0000      1      2  151.5500        S\n",
       "4       1         0  female  25.0000      1      2  151.5500        S"
      ]
     },
     "execution_count": 23,
     "metadata": {},
     "output_type": "execute_result"
    }
   ],
   "source": [
    "#Verificando o Dataset\n",
    "df.head()"
   ]
  },
  {
   "cell_type": "code",
   "execution_count": 24,
   "id": "K_c8IjLZCkX1",
   "metadata": {
    "colab": {
     "base_uri": "https://localhost:8080/",
     "height": 300
    },
    "id": "K_c8IjLZCkX1",
    "outputId": "34de59c0-eee4-4a08-e07d-f59cba1b6907"
   },
   "outputs": [
    {
     "data": {
      "text/html": [
       "<div>\n",
       "<style scoped>\n",
       "    .dataframe tbody tr th:only-of-type {\n",
       "        vertical-align: middle;\n",
       "    }\n",
       "\n",
       "    .dataframe tbody tr th {\n",
       "        vertical-align: top;\n",
       "    }\n",
       "\n",
       "    .dataframe thead th {\n",
       "        text-align: right;\n",
       "    }\n",
       "</style>\n",
       "<table border=\"1\" class=\"dataframe\">\n",
       "  <thead>\n",
       "    <tr style=\"text-align: right;\">\n",
       "      <th></th>\n",
       "      <th>pclass</th>\n",
       "      <th>survived</th>\n",
       "      <th>age</th>\n",
       "      <th>sibsp</th>\n",
       "      <th>parch</th>\n",
       "      <th>fare</th>\n",
       "    </tr>\n",
       "  </thead>\n",
       "  <tbody>\n",
       "    <tr>\n",
       "      <th>count</th>\n",
       "      <td>1307.000000</td>\n",
       "      <td>1307.000000</td>\n",
       "      <td>1307.000000</td>\n",
       "      <td>1307.000000</td>\n",
       "      <td>1307.000000</td>\n",
       "      <td>1307.000000</td>\n",
       "    </tr>\n",
       "    <tr>\n",
       "      <th>mean</th>\n",
       "      <td>2.296863</td>\n",
       "      <td>0.381025</td>\n",
       "      <td>29.471818</td>\n",
       "      <td>0.499617</td>\n",
       "      <td>0.385616</td>\n",
       "      <td>33.209595</td>\n",
       "    </tr>\n",
       "    <tr>\n",
       "      <th>std</th>\n",
       "      <td>0.836942</td>\n",
       "      <td>0.485825</td>\n",
       "      <td>12.881598</td>\n",
       "      <td>1.042273</td>\n",
       "      <td>0.866092</td>\n",
       "      <td>51.748768</td>\n",
       "    </tr>\n",
       "    <tr>\n",
       "      <th>min</th>\n",
       "      <td>1.000000</td>\n",
       "      <td>0.000000</td>\n",
       "      <td>0.166700</td>\n",
       "      <td>0.000000</td>\n",
       "      <td>0.000000</td>\n",
       "      <td>0.000000</td>\n",
       "    </tr>\n",
       "    <tr>\n",
       "      <th>25%</th>\n",
       "      <td>2.000000</td>\n",
       "      <td>0.000000</td>\n",
       "      <td>22.000000</td>\n",
       "      <td>0.000000</td>\n",
       "      <td>0.000000</td>\n",
       "      <td>7.895800</td>\n",
       "    </tr>\n",
       "    <tr>\n",
       "      <th>50%</th>\n",
       "      <td>3.000000</td>\n",
       "      <td>0.000000</td>\n",
       "      <td>28.000000</td>\n",
       "      <td>0.000000</td>\n",
       "      <td>0.000000</td>\n",
       "      <td>14.454200</td>\n",
       "    </tr>\n",
       "    <tr>\n",
       "      <th>75%</th>\n",
       "      <td>3.000000</td>\n",
       "      <td>1.000000</td>\n",
       "      <td>35.000000</td>\n",
       "      <td>1.000000</td>\n",
       "      <td>0.000000</td>\n",
       "      <td>31.275000</td>\n",
       "    </tr>\n",
       "    <tr>\n",
       "      <th>max</th>\n",
       "      <td>3.000000</td>\n",
       "      <td>1.000000</td>\n",
       "      <td>80.000000</td>\n",
       "      <td>8.000000</td>\n",
       "      <td>9.000000</td>\n",
       "      <td>512.329200</td>\n",
       "    </tr>\n",
       "  </tbody>\n",
       "</table>\n",
       "</div>"
      ],
      "text/plain": [
       "            pclass     survived          age        sibsp        parch  \\\n",
       "count  1307.000000  1307.000000  1307.000000  1307.000000  1307.000000   \n",
       "mean      2.296863     0.381025    29.471818     0.499617     0.385616   \n",
       "std       0.836942     0.485825    12.881598     1.042273     0.866092   \n",
       "min       1.000000     0.000000     0.166700     0.000000     0.000000   \n",
       "25%       2.000000     0.000000    22.000000     0.000000     0.000000   \n",
       "50%       3.000000     0.000000    28.000000     0.000000     0.000000   \n",
       "75%       3.000000     1.000000    35.000000     1.000000     0.000000   \n",
       "max       3.000000     1.000000    80.000000     8.000000     9.000000   \n",
       "\n",
       "              fare  \n",
       "count  1307.000000  \n",
       "mean     33.209595  \n",
       "std      51.748768  \n",
       "min       0.000000  \n",
       "25%       7.895800  \n",
       "50%      14.454200  \n",
       "75%      31.275000  \n",
       "max     512.329200  "
      ]
     },
     "execution_count": 24,
     "metadata": {},
     "output_type": "execute_result"
    }
   ],
   "source": [
    "#Verificando as estatísticas das variáveis numéricas\n",
    "df.describe()"
   ]
  },
  {
   "cell_type": "code",
   "execution_count": 25,
   "id": "2UfajcLGJbo9",
   "metadata": {
    "colab": {
     "base_uri": "https://localhost:8080/",
     "height": 175
    },
    "id": "2UfajcLGJbo9",
    "outputId": "230d2f99-d825-44a0-bcc7-4333cd32b5b2"
   },
   "outputs": [
    {
     "data": {
      "text/html": [
       "<div>\n",
       "<style scoped>\n",
       "    .dataframe tbody tr th:only-of-type {\n",
       "        vertical-align: middle;\n",
       "    }\n",
       "\n",
       "    .dataframe tbody tr th {\n",
       "        vertical-align: top;\n",
       "    }\n",
       "\n",
       "    .dataframe thead th {\n",
       "        text-align: right;\n",
       "    }\n",
       "</style>\n",
       "<table border=\"1\" class=\"dataframe\">\n",
       "  <thead>\n",
       "    <tr style=\"text-align: right;\">\n",
       "      <th></th>\n",
       "      <th>sex</th>\n",
       "      <th>embarked</th>\n",
       "    </tr>\n",
       "  </thead>\n",
       "  <tbody>\n",
       "    <tr>\n",
       "      <th>count</th>\n",
       "      <td>1307</td>\n",
       "      <td>1307</td>\n",
       "    </tr>\n",
       "    <tr>\n",
       "      <th>unique</th>\n",
       "      <td>2</td>\n",
       "      <td>3</td>\n",
       "    </tr>\n",
       "    <tr>\n",
       "      <th>top</th>\n",
       "      <td>male</td>\n",
       "      <td>S</td>\n",
       "    </tr>\n",
       "    <tr>\n",
       "      <th>freq</th>\n",
       "      <td>843</td>\n",
       "      <td>914</td>\n",
       "    </tr>\n",
       "  </tbody>\n",
       "</table>\n",
       "</div>"
      ],
      "text/plain": [
       "         sex embarked\n",
       "count   1307     1307\n",
       "unique     2        3\n",
       "top     male        S\n",
       "freq     843      914"
      ]
     },
     "execution_count": 25,
     "metadata": {},
     "output_type": "execute_result"
    }
   ],
   "source": [
    "#Algumas informações para colunas não-numéricas\n",
    "df.describe(include=['O'])"
   ]
  },
  {
   "cell_type": "code",
   "execution_count": 26,
   "id": "1554440f",
   "metadata": {
    "colab": {
     "base_uri": "https://localhost:8080/"
    },
    "id": "1554440f",
    "outputId": "ff44adb7-51f7-4997-ea0a-6a38c1c92e35"
   },
   "outputs": [
    {
     "name": "stdout",
     "output_type": "stream",
     "text": [
      "S    914\n",
      "C    270\n",
      "Q    123\n",
      "Name: embarked, dtype: int64\n"
     ]
    }
   ],
   "source": [
    "#Calculando as quantidades da coluna 'embarked'\n",
    "df_porto = df['embarked'].value_counts()\n",
    "print(df_porto)"
   ]
  },
  {
   "cell_type": "markdown",
   "id": "c900282b",
   "metadata": {
    "id": "c900282b"
   },
   "source": [
    "Perguntas"
   ]
  },
  {
   "cell_type": "markdown",
   "id": "9e52609c",
   "metadata": {
    "id": "9e52609c"
   },
   "source": [
    "1- Qual foi a porcentagem dos passageiros sobreviventes?"
   ]
  },
  {
   "cell_type": "code",
   "execution_count": 27,
   "id": "da64e192",
   "metadata": {
    "colab": {
     "base_uri": "https://localhost:8080/"
    },
    "id": "da64e192",
    "outputId": "2194b848-2296-4d1e-d95e-ece4abaab0d2"
   },
   "outputs": [
    {
     "name": "stdout",
     "output_type": "stream",
     "text": [
      "0    809\n",
      "1    498\n",
      "Name: survived, dtype: int64\n"
     ]
    }
   ],
   "source": [
    "#Filtrando pela coluna survived e calculando as quantidades\n",
    "df_survived = df['survived'].value_counts()\n",
    "print(df_survived)"
   ]
  },
  {
   "cell_type": "code",
   "execution_count": 28,
   "id": "e60015dd",
   "metadata": {
    "colab": {
     "base_uri": "https://localhost:8080/"
    },
    "id": "e60015dd",
    "outputId": "bb704794-219f-4123-820f-1b1676ff3396"
   },
   "outputs": [
    {
     "name": "stdout",
     "output_type": "stream",
     "text": [
      "1307\n"
     ]
    }
   ],
   "source": [
    "#Calculando o total de passageiros\n",
    "df_total = df_survived.sum()\n",
    "print(df_total)"
   ]
  },
  {
   "cell_type": "code",
   "execution_count": 29,
   "id": "89e9c82d",
   "metadata": {
    "colab": {
     "base_uri": "https://localhost:8080/"
    },
    "id": "89e9c82d",
    "outputId": "79309ea7-00c8-45a5-8592-88f657b8f20c"
   },
   "outputs": [
    {
     "name": "stdout",
     "output_type": "stream",
     "text": [
      "0    61.897475\n",
      "1    38.102525\n",
      "Name: survived, dtype: float64\n"
     ]
    }
   ],
   "source": [
    "#Calculando as porcentagens dos sobreviventes e não sobreviventes\n",
    "df_porcentagem = (df_survived / df_total) * 100\n",
    "print(df_porcentagem)"
   ]
  },
  {
   "cell_type": "code",
   "execution_count": 30,
   "id": "hBoMuvRwDCv9",
   "metadata": {
    "colab": {
     "base_uri": "https://localhost:8080/"
    },
    "id": "hBoMuvRwDCv9",
    "outputId": "f4ff8efa-3853-4fa3-fdf6-f6dd64a36f37"
   },
   "outputs": [
    {
     "data": {
      "text/plain": [
       "0    61.9\n",
       "1    38.1\n",
       "Name: survived, dtype: float64"
      ]
     },
     "execution_count": 30,
     "metadata": {},
     "output_type": "execute_result"
    }
   ],
   "source": [
    "#Arredondando as porcentagens para 2 casas decimais\n",
    "df_porcentagem.round(2)"
   ]
  },
  {
   "cell_type": "code",
   "execution_count": 31,
   "id": "lO4y1UdMrXXf",
   "metadata": {
    "colab": {
     "base_uri": "https://localhost:8080/",
     "height": 431
    },
    "id": "lO4y1UdMrXXf",
    "outputId": "c1e2b8ea-263d-4481-da44-283826684fff"
   },
   "outputs": [
    {
     "data": {
      "image/png": "[encoded data removed]",
      "text/plain": [
       "<Figure size 800x400 with 1 Axes>"
      ]
     },
     "metadata": {},
     "output_type": "display_data"
    }
   ],
   "source": [
    "#Gráfico com matplotlib\n",
    "df_porcentagem.plot(kind = 'bar', \n",
    "                title = 'Porcentagem dos Passageiros Sobreviventes',\n",
    "                ylabel = 'Porcentagem de Passageiros', \n",
    "                xlabel = '\\nTipo de Evento',\n",
    "                colormap = 'jet',\n",
    "                figsize=(8,4))\n",
    "plt.xticks(rotation = 0)\n",
    "plt.show()"
   ]
  },
  {
   "cell_type": "code",
   "execution_count": 32,
   "id": "73109e3f",
   "metadata": {
    "colab": {
     "base_uri": "https://localhost:8080/"
    },
    "id": "73109e3f",
    "outputId": "0f8e402b-0f7a-4b5f-8859-c9db4fd9a808"
   },
   "outputs": [
    {
     "name": "stdout",
     "output_type": "stream",
     "text": [
      "A porcentagem dos passageiros sobreviventes é:  38.1\n"
     ]
    }
   ],
   "source": [
    "#Destacando a porcentagem dos passageiros sobreviventes\n",
    "print('A porcentagem dos passageiros sobreviventes é: ', df_porcentagem.round(2)[1])"
   ]
  },
  {
   "cell_type": "markdown",
   "id": "lxiph2VnDe8M",
   "metadata": {
    "id": "lxiph2VnDe8M"
   },
   "source": [
    "2 - Qual foi a porcentagem dos passageiros sobreviventes por sexo?"
   ]
  },
  {
   "cell_type": "code",
   "execution_count": 33,
   "id": "dcFY2ZS2o4B9",
   "metadata": {
    "colab": {
     "base_uri": "https://localhost:8080/"
    },
    "id": "dcFY2ZS2o4B9",
    "outputId": "fde54a0e-2a9f-42a1-a0f2-e9ac23a5dd40"
   },
   "outputs": [
    {
     "name": "stdout",
     "output_type": "stream",
     "text": [
      "male      843\n",
      "female    464\n",
      "Name: sex, dtype: int64\n"
     ]
    }
   ],
   "source": [
    "#Calculando o total de passageiros por sexo e verificando suas quantidades\n",
    "total_por_sexo = df['sex'].value_counts()\n",
    "print(total_por_sexo)"
   ]
  },
  {
   "cell_type": "code",
   "execution_count": 34,
   "id": "eJ9HrciXoz7Q",
   "metadata": {
    "colab": {
     "base_uri": "https://localhost:8080/"
    },
    "id": "eJ9HrciXoz7Q",
    "outputId": "082ddd61-81f0-410e-928f-7e7a279ae38d"
   },
   "outputs": [
    {
     "name": "stdout",
     "output_type": "stream",
     "text": [
      "female    337\n",
      "male      161\n",
      "Name: sex, dtype: int64\n"
     ]
    }
   ],
   "source": [
    "#Calculando o total de passageiros sobreviventes por sexo e verificando suas quantidades\n",
    "sobreviventes_por_sexo = df[df['survived'] == 1]['sex'].value_counts()\n",
    "print(sobreviventes_por_sexo)"
   ]
  },
  {
   "cell_type": "code",
   "execution_count": 35,
   "id": "5LJft-tsoz-b",
   "metadata": {
    "id": "5LJft-tsoz-b"
   },
   "outputs": [],
   "source": [
    "#Calculando a porcentagem de passageiros sobreviventes por sexo\n",
    "porcentagem_sobreviventes_por_sexo = (sobreviventes_por_sexo / total_por_sexo) * 100\n"
   ]
  },
  {
   "cell_type": "code",
   "execution_count": 36,
   "id": "zT4rz26bo_s0",
   "metadata": {
    "colab": {
     "base_uri": "https://localhost:8080/"
    },
    "id": "zT4rz26bo_s0",
    "outputId": "e7a81839-a445-4b14-c0b9-a610011f689d"
   },
   "outputs": [
    {
     "name": "stdout",
     "output_type": "stream",
     "text": [
      "Porcentagem de passageiros sobreviventes por sexo:\n",
      "female    72.63\n",
      "male      19.10\n",
      "Name: sex, dtype: float64\n"
     ]
    }
   ],
   "source": [
    "#Verificando o resultado\n",
    "print(\"Porcentagem de passageiros sobreviventes por sexo:\")\n",
    "print(porcentagem_sobreviventes_por_sexo.round(2))"
   ]
  },
  {
   "cell_type": "code",
   "execution_count": 37,
   "id": "5M46bq_ssWY8",
   "metadata": {
    "colab": {
     "base_uri": "https://localhost:8080/",
     "height": 431
    },
    "id": "5M46bq_ssWY8",
    "outputId": "bafc7998-5fa7-49c0-a1fd-4addbf31ac57"
   },
   "outputs": [
    {
     "data": {
      "image/png": "[encoded data removed]",
      "text/plain": [
       "<Figure size 800x400 with 1 Axes>"
      ]
     },
     "metadata": {},
     "output_type": "display_data"
    }
   ],
   "source": [
    "#Gráfico com matplotlib\n",
    "porcentagem_sobreviventes_por_sexo.plot(kind = 'bar', \n",
    "                title = 'Porcentagem de Passageiros Sobreviventes por Sexo',\n",
    "                ylabel = 'Porcentagem de Passageiros', \n",
    "                xlabel = '\\nSexo',\n",
    "                colormap = 'jet',\n",
    "                figsize=(8,4))\n",
    "plt.xticks(rotation = 0)\n",
    "plt.show()"
   ]
  },
  {
   "cell_type": "markdown",
   "id": "Vx-UW5H4IcSv",
   "metadata": {
    "id": "Vx-UW5H4IcSv"
   },
   "source": [
    "3- Qual a correlação entre as variáveis?"
   ]
  },
  {
   "cell_type": "code",
   "execution_count": 38,
   "id": "XQvh8TM2IZxL",
   "metadata": {
    "colab": {
     "base_uri": "https://localhost:8080/",
     "height": 465
    },
    "id": "XQvh8TM2IZxL",
    "outputId": "df92d427-3fe7-4ac7-c058-5f6708b586ed"
   },
   "outputs": [
    {
     "data": {
      "text/plain": [
       "<AxesSubplot:>"
      ]
     },
     "execution_count": 38,
     "metadata": {},
     "output_type": "execute_result"
    },
    {
     "data": {
      "image/png": "[encoded data removed]",
      "text/plain": [
       "<Figure size 1200x400 with 2 Axes>"
      ]
     },
     "metadata": {},
     "output_type": "display_data"
    }
   ],
   "source": [
    "#Plotando um mapa de calor (heatmap) para as variáveis numéricas\n",
    "sns.heatmap(df.corr(), cmap='coolwarm', square=True, linecolor='white', annot=True)"
   ]
  },
  {
   "cell_type": "markdown",
   "id": "39098c4b",
   "metadata": {
    "id": "39098c4b"
   },
   "source": [
    "4- Qual era a faixa etária dos passageiros que estavam no Titanic?"
   ]
  },
  {
   "cell_type": "code",
   "execution_count": 39,
   "id": "325602ec",
   "metadata": {
    "id": "325602ec"
   },
   "outputs": [],
   "source": [
    "#Verificando a distribuição da coluna 'age'\n",
    "distribuicao_idade = df['age'].describe()"
   ]
  },
  {
   "cell_type": "code",
   "execution_count": 40,
   "id": "cafd0c91",
   "metadata": {
    "colab": {
     "base_uri": "https://localhost:8080/"
    },
    "id": "cafd0c91",
    "outputId": "b1409f71-8f40-43ec-ffb2-ddda5d499352"
   },
   "outputs": [
    {
     "name": "stdout",
     "output_type": "stream",
     "text": [
      "Faixa etária dos passageiros no Titanic:\n",
      "Mínimo: 0.1667\n",
      "Máximo: 80.0\n",
      "Média: 29.47181843917368\n",
      "Mediana: 28.0\n"
     ]
    }
   ],
   "source": [
    "#Visualizando o resultado\n",
    "print(f\"Faixa etária dos passageiros no Titanic:\")\n",
    "print(f\"Mínimo: {distribuicao_idade['min']}\")\n",
    "print(f\"Máximo: {distribuicao_idade['max']}\")\n",
    "print(f\"Média: {distribuicao_idade['mean']}\")\n",
    "print(f\"Mediana: {distribuicao_idade['50%']}\")"
   ]
  },
  {
   "cell_type": "markdown",
   "id": "242f2627",
   "metadata": {
    "id": "242f2627"
   },
   "source": [
    "5- A partir desta faixa etária, mais crianças ou mais adultos sobreviveram? Considerar crianças como aqueles com idade inferior a 18 anos e adultos como aqueles com 18 anos ou mais."
   ]
  },
  {
   "cell_type": "code",
   "execution_count": 41,
   "id": "gGvvS2SuglwP",
   "metadata": {
    "id": "gGvvS2SuglwP"
   },
   "outputs": [],
   "source": [
    "#Definindo critérios para classificar crianças e adultos\n",
    "crianca = 18"
   ]
  },
  {
   "cell_type": "code",
   "execution_count": 42,
   "id": "f56Zv_9HhDrH",
   "metadata": {
    "id": "f56Zv_9HhDrH"
   },
   "outputs": [],
   "source": [
    "#Criando uma coluna indicando se é criança ou adulto\n",
    "df['idade'] = df['age'].apply(lambda age: 'crianca' if age < crianca else 'adulto')"
   ]
  },
  {
   "cell_type": "code",
   "execution_count": 43,
   "id": "fabe7f79",
   "metadata": {
    "id": "fabe7f79"
   },
   "outputs": [],
   "source": [
    "#Calculando o número de sobreviventes por categoria\n",
    "sobreviventes = df[df['survived'] == 1]['idade'].value_counts()"
   ]
  },
  {
   "cell_type": "code",
   "execution_count": 44,
   "id": "f80b0b39",
   "metadata": {
    "colab": {
     "base_uri": "https://localhost:8080/"
    },
    "id": "f80b0b39",
    "outputId": "915be482-9663-48b1-b07d-12db56b49d82"
   },
   "outputs": [
    {
     "name": "stdout",
     "output_type": "stream",
     "text": [
      "Número de sobreviventes:\n",
      "adulto     417\n",
      "crianca     81\n",
      "Name: idade, dtype: int64\n"
     ]
    }
   ],
   "source": [
    "#Visualizando o resultado\n",
    "print(\"Número de sobreviventes:\")\n",
    "print(sobreviventes)"
   ]
  },
  {
   "cell_type": "code",
   "execution_count": 45,
   "id": "0R_WZXIwssJE",
   "metadata": {
    "colab": {
     "base_uri": "https://localhost:8080/",
     "height": 431
    },
    "id": "0R_WZXIwssJE",
    "outputId": "e9c964a2-bffc-487e-fbd4-4486481b2af9"
   },
   "outputs": [
    {
     "data": {
      "image/png": "[encoded data removed]",
      "text/plain": [
       "<Figure size 800x400 with 1 Axes>"
      ]
     },
     "metadata": {},
     "output_type": "display_data"
    }
   ],
   "source": [
    "#Gráfico com matplotlib\n",
    "sobreviventes.plot(kind = 'bar', \n",
    "                title = 'Quantidade de Sobreviventes entre Adultos e Crianças',\n",
    "                ylabel = 'Quantidade de Sobreviventes', \n",
    "                xlabel = '\\nFaixa Etária',\n",
    "                colormap = 'jet',\n",
    "                figsize=(8,4))\n",
    "plt.xticks(rotation = 0)\n",
    "plt.show()"
   ]
  },
  {
   "cell_type": "markdown",
   "id": "d0b08c9b",
   "metadata": {
    "id": "d0b08c9b"
   },
   "source": [
    "Preparando as variáveis para o modelo de Machine Learning. O modelo só aceita valores numéricos."
   ]
  },
  {
   "cell_type": "code",
   "execution_count": 46,
   "id": "3dee8706",
   "metadata": {
    "id": "3dee8706"
   },
   "outputs": [],
   "source": [
    "#Selecionando as variáveis dependentes e o target\n",
    "var_depen = ['age', 'fare', 'sex', 'pclass', 'embarked']\n",
    "target = 'survived'"
   ]
  },
  {
   "cell_type": "code",
   "execution_count": 47,
   "id": "6f4f0626",
   "metadata": {
    "id": "6f4f0626"
   },
   "outputs": [],
   "source": [
    "#Tratando valores ausentes\n",
    "df = df[var_depen + [target]].dropna()"
   ]
  },
  {
   "cell_type": "code",
   "execution_count": 48,
   "id": "e2b62f2a",
   "metadata": {
    "id": "e2b62f2a"
   },
   "outputs": [],
   "source": [
    "#Convertendo algumas variáveis categóricas em numéricas\n",
    "df['sex'] = df['sex'].map({'female': 0, 'male': 1})\n",
    "df['embarked'] = df['embarked'].map({'C': 0, 'Q': 1, 'S': 2})"
   ]
  },
  {
   "cell_type": "markdown",
   "id": "f3ea3f0c",
   "metadata": {
    "id": "f3ea3f0c"
   },
   "source": [
    "Modelo de Regressão Logística"
   ]
  },
  {
   "cell_type": "code",
   "execution_count": 49,
   "id": "62c49fe1",
   "metadata": {
    "id": "62c49fe1"
   },
   "outputs": [],
   "source": [
    "#Dividindo o dataset em treinamento e teste\n",
    "X_train, X_test, y_train, y_test = train_test_split(df[var_depen], df[target], test_size=0.2, random_state=42)"
   ]
  },
  {
   "cell_type": "code",
   "execution_count": 50,
   "id": "VSL7DyeX4XWV",
   "metadata": {
    "colab": {
     "base_uri": "https://localhost:8080/"
    },
    "id": "VSL7DyeX4XWV",
    "outputId": "9647df72-fe53-4629-82b8-eceabba73cef"
   },
   "outputs": [
    {
     "name": "stdout",
     "output_type": "stream",
     "text": [
      "Total de X_treino: 1045, Total de X_teste: 262, Total de y_treino: 1045, Total de y_teste: 262\n"
     ]
    }
   ],
   "source": [
    "#Verificando a quantidade de registros para cada dado de treino e teste\n",
    "print((\"Total de X_treino: %i, Total de X_teste: %i, Total de y_treino: %i, Total de y_teste: %i\") % (len(X_train),\n",
    "                                                                                                      len(X_test),\n",
    "                                                                                                      len(y_train),\n",
    "                                                                                                      len(y_test)))"
   ]
  },
  {
   "cell_type": "code",
   "execution_count": 51,
   "id": "2f979424",
   "metadata": {
    "id": "2f979424"
   },
   "outputs": [],
   "source": [
    "#Criando o modelo de Regressão Logística\n",
    "model = LogisticRegression()"
   ]
  },
  {
   "cell_type": "code",
   "execution_count": 52,
   "id": "81f100cc",
   "metadata": {
    "colab": {
     "base_uri": "https://localhost:8080/",
     "height": 75
    },
    "id": "81f100cc",
    "outputId": "76962aaa-36ea-4b3d-e15e-ec0ba7c7e248"
   },
   "outputs": [
    {
     "data": {
      "text/plain": [
       "LogisticRegression()"
      ]
     },
     "execution_count": 52,
     "metadata": {},
     "output_type": "execute_result"
    }
   ],
   "source": [
    "#Treinando o modelo\n",
    "model.fit(X_train, y_train)"
   ]
  },
  {
   "cell_type": "code",
   "execution_count": 53,
   "id": "ddbd8bb0",
   "metadata": {
    "id": "ddbd8bb0"
   },
   "outputs": [],
   "source": [
    "#Fazendo previsões\n",
    "y_pred = model.predict(X_test)"
   ]
  },
  {
   "cell_type": "code",
   "execution_count": 54,
   "id": "f540e988",
   "metadata": {
    "colab": {
     "base_uri": "https://localhost:8080/"
    },
    "id": "f540e988",
    "outputId": "0660de56-793d-42d8-a9a7-b9d7649c1310"
   },
   "outputs": [
    {
     "name": "stdout",
     "output_type": "stream",
     "text": [
      "Acurácia: 0.7748091603053435\n"
     ]
    }
   ],
   "source": [
    "#Avaliando a acurácia do modelo\n",
    "accuracy = accuracy_score(y_test, y_pred)\n",
    "print(f'Acurácia: {accuracy}')"
   ]
  },
  {
   "cell_type": "markdown",
   "id": "X1fm1d_ThLan",
   "metadata": {
    "id": "X1fm1d_ThLan"
   },
   "source": [
    "Modelo de Árvore de Decisão"
   ]
  },
  {
   "cell_type": "code",
   "execution_count": 55,
   "id": "75e20cbe",
   "metadata": {
    "id": "75e20cbe"
   },
   "outputs": [],
   "source": [
    "#Dividindo o dataset em treinamento e teste\n",
    "X_train, X_test, y_train, y_test = train_test_split(df[var_depen], df[target], test_size=0.2, random_state=42)"
   ]
  },
  {
   "cell_type": "code",
   "execution_count": 56,
   "id": "4504132f",
   "metadata": {
    "id": "4504132f"
   },
   "outputs": [],
   "source": [
    "#Criando o modelo de Árvore de Decisão\n",
    "model = DecisionTreeClassifier()"
   ]
  },
  {
   "cell_type": "code",
   "execution_count": 57,
   "id": "f6b31a8e",
   "metadata": {
    "colab": {
     "base_uri": "https://localhost:8080/",
     "height": 75
    },
    "id": "f6b31a8e",
    "outputId": "651816f9-c793-443e-def1-ec68cd519ba7"
   },
   "outputs": [
    {
     "data": {
      "text/plain": [
       "DecisionTreeClassifier()"
      ]
     },
     "execution_count": 57,
     "metadata": {},
     "output_type": "execute_result"
    }
   ],
   "source": [
    "#Treinando o modelo\n",
    "model.fit(X_train, y_train)"
   ]
  },
  {
   "cell_type": "code",
   "execution_count": 58,
   "id": "21b0659c",
   "metadata": {
    "id": "21b0659c"
   },
   "outputs": [],
   "source": [
    "#Fazendo previsões\n",
    "y_pred = model.predict(X_test)"
   ]
  },
  {
   "cell_type": "code",
   "execution_count": 59,
   "id": "1fe19e5e",
   "metadata": {
    "colab": {
     "base_uri": "https://localhost:8080/"
    },
    "id": "1fe19e5e",
    "outputId": "c1f0fc0a-ad39-439f-da22-7ed232dbcfb0"
   },
   "outputs": [
    {
     "name": "stdout",
     "output_type": "stream",
     "text": [
      "Acurácia: 0.7404580152671756\n"
     ]
    }
   ],
   "source": [
    "#Avaliando a acurácia do modelo\n",
    "accuracy = accuracy_score(y_test, y_pred)\n",
    "print(f'Acurácia: {accuracy}')"
   ]
  },
  {
   "cell_type": "code",
   "execution_count": 60,
   "id": "ae596169",
   "metadata": {
    "id": "ae596169"
   },
   "outputs": [],
   "source": [
    "#Obtendo a importância das variáveis dependentes\n",
    "importancia = model.feature_importances_"
   ]
  },
  {
   "cell_type": "code",
   "execution_count": 61,
   "id": "37ac6d32",
   "metadata": {
    "id": "37ac6d32"
   },
   "outputs": [],
   "source": [
    "# Criar um dataframe com as importâncias das variáveis\n",
    "variaveis_importantes = pd.DataFrame({'Variável': var_depen, 'Importancia': importancia})\n",
    "variaveis_importantes = variaveis_importantes.sort_values(by='Importancia', ascending=False)"
   ]
  },
  {
   "cell_type": "code",
   "execution_count": 62,
   "id": "ba9f17fa",
   "metadata": {
    "colab": {
     "base_uri": "https://localhost:8080/"
    },
    "id": "ba9f17fa",
    "outputId": "cb6b5787-332f-4ddc-b963-ab4c60f4e80b"
   },
   "outputs": [
    {
     "name": "stdout",
     "output_type": "stream",
     "text": [
      "Variáveis mais importantes:\n",
      "   Variável  Importancia\n",
      "2       sex     0.318689\n",
      "1      fare     0.284835\n",
      "0       age     0.240907\n",
      "3    pclass     0.126498\n",
      "4  embarked     0.029071\n"
     ]
    }
   ],
   "source": [
    "#Visualizando as variáveis mais importantes\n",
    "print(\"Variáveis mais importantes:\")\n",
    "print(variaveis_importantes)"
   ]
  }
 ],
 "metadata": {
  "colab": {
   "provenance": []
  },
  "kernelspec": {
   "display_name": "Python 3 (ipykernel)",
   "language": "python",
   "name": "python3"
  },
  "language_info": {
   "codemirror_mode": {
    "name": "ipython",
    "version": 3
   },
   "file_extension": ".py",
   "mimetype": "text/x-python",
   "name": "python",
   "nbconvert_exporter": "python",
   "pygments_lexer": "ipython3",
   "version": "3.9.13"
  }
 },
 "nbformat": 4,
 "nbformat_minor": 5
}
